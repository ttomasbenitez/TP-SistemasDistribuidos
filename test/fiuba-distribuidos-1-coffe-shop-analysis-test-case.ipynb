{
 "cells": [
  {
   "cell_type": "code",
   "execution_count": 32,
   "id": "f8ff0b78",
   "metadata": {
    "_cell_guid": "b1076dfc-b9ad-4769-8c92-a6c4dae69d19",
    "_uuid": "8f2839f25d086af736a60e9eeb907d3b93b6e0e5",
    "execution": {
     "iopub.execute_input": "2025-10-01T14:08:15.503730Z",
     "iopub.status.busy": "2025-10-01T14:08:15.503401Z",
     "iopub.status.idle": "2025-10-01T14:08:17.476877Z",
     "shell.execute_reply": "2025-10-01T14:08:17.475980Z"
    },
    "papermill": {
     "duration": 1.988343,
     "end_time": "2025-10-01T14:08:17.478738",
     "exception": false,
     "start_time": "2025-10-01T14:08:15.490395",
     "status": "completed"
    },
    "tags": []
   },
   "outputs": [
    {
     "name": "stdout",
     "output_type": "stream",
     "text": [
      "../client/data/.DS_Store\n",
      "../client/data/menu_items/menu_items.csv\n",
      "../client/data/transaction_items/transaction_items_202401.csv\n",
      "../client/data/transaction_items/.DS_Store\n",
      "../client/data/transaction_items/transaction_items_202501.csv\n",
      "../client/data/stores/stores.csv\n",
      "../client/data/transactions/transactions_202501.csv\n",
      "../client/data/transactions/.DS_Store\n",
      "../client/data/transactions/transactions_202401.csv\n",
      "../client/data/users/users_202409.csv\n",
      "../client/data/users/users_202408.csv\n",
      "../client/data/users/.DS_Store\n",
      "../client/data/users/users_202309.csv\n",
      "../client/data/users/users_202308.csv\n",
      "../client/data/users/users_202503.csv\n",
      "../client/data/users/users_202311.csv\n",
      "../client/data/users/users_202310.csv\n",
      "../client/data/users/users_202502.csv\n",
      "../client/data/users/users_202312.csv\n",
      "../client/data/users/users_202307.csv\n",
      "../client/data/users/users_202501.csv\n",
      "../client/data/users/users_202505.csv\n",
      "../client/data/users/users_202504.csv\n",
      "../client/data/users/users_202506.csv\n",
      "../client/data/users/users_202401.csv\n",
      "../client/data/users/users_202403.csv\n",
      "../client/data/users/users_202402.csv\n",
      "../client/data/users/users_202412.csv\n",
      "../client/data/users/users_202406.csv\n",
      "../client/data/users/users_202407.csv\n",
      "../client/data/users/users_202405.csv\n",
      "../client/data/users/users_202411.csv\n",
      "../client/data/users/users_202410.csv\n",
      "../client/data/users/users_202404.csv\n"
     ]
    }
   ],
   "source": [
    "# This Python 3 environment comes with many helpful analytics libraries installed\n",
    "# It is defined by the kaggle/python Docker image: https://github.com/kaggle/docker-python\n",
    "# For example, here's several helpful packages to load\n",
    "# %pip install --upgrade -q pip\n",
    "# %pip install numpy pandas\n",
    "import numpy as np # linear algebra\n",
    "import pandas as pd # data processing, CSV file I/O (e.g. pd.read_csv)\n",
    "\n",
    "# Input data files are available in the read-only \"../input/\" directory\n",
    "# For example, running this (by clicking run or pressing Shift+Enter) will list all files under the input directory\n",
    "\n",
    "import os\n",
    "for dirname, _, filenames in os.walk('../client/data'):\n",
    "    for filename in filenames:\n",
    "        print(os.path.join(dirname, filename))"
   ]
  },
  {
   "cell_type": "markdown",
   "id": "8831b4c8",
   "metadata": {
    "papermill": {
     "duration": 0.010397,
     "end_time": "2025-10-01T14:08:17.500570",
     "exception": false,
     "start_time": "2025-10-01T14:08:17.490173",
     "status": "completed"
    },
    "tags": []
   },
   "source": [
    "# Import and Configurations"
   ]
  },
  {
   "cell_type": "code",
   "execution_count": 33,
   "id": "1510a1d2",
   "metadata": {
    "execution": {
     "iopub.execute_input": "2025-10-01T14:08:17.522196Z",
     "iopub.status.busy": "2025-10-01T14:08:17.521736Z",
     "iopub.status.idle": "2025-10-01T14:08:17.581195Z",
     "shell.execute_reply": "2025-10-01T14:08:17.580277Z"
    },
    "papermill": {
     "duration": 0.072048,
     "end_time": "2025-10-01T14:08:17.582917",
     "exception": false,
     "start_time": "2025-10-01T14:08:17.510869",
     "status": "completed"
    },
    "tags": []
   },
   "outputs": [],
   "source": [
    "# %pip install matplotlib\n",
    "import numpy as np # linear algebra\n",
    "import pandas as pd # data processing, CSV file I/O (e.g. pd.read_csv)\n",
    "import matplotlib.pyplot as plt\n",
    "import os\n",
    "\n",
    "pd.set_option('display.max_columns', None)\n",
    "pd.set_option('display.max_colwidth', 100)"
   ]
  },
  {
   "cell_type": "markdown",
   "id": "323ff9b9",
   "metadata": {
    "papermill": {
     "duration": 0.009647,
     "end_time": "2025-10-01T14:08:17.602837",
     "exception": false,
     "start_time": "2025-10-01T14:08:17.593190",
     "status": "completed"
    },
    "tags": []
   },
   "source": [
    "# Main Dataframes Loading"
   ]
  },
  {
   "cell_type": "markdown",
   "id": "61d629fb",
   "metadata": {
    "papermill": {
     "duration": 0.009708,
     "end_time": "2025-10-01T14:08:17.622365",
     "exception": false,
     "start_time": "2025-10-01T14:08:17.612657",
     "status": "completed"
    },
    "tags": []
   },
   "source": [
    "## 2024 and 2025 Transactions"
   ]
  },
  {
   "cell_type": "code",
   "execution_count": 34,
   "id": "249d220d",
   "metadata": {
    "execution": {
     "iopub.execute_input": "2025-10-01T14:08:17.643464Z",
     "iopub.status.busy": "2025-10-01T14:08:17.643145Z",
     "iopub.status.idle": "2025-10-01T14:08:17.691644Z",
     "shell.execute_reply": "2025-10-01T14:08:17.690700Z"
    },
    "papermill": {
     "duration": 0.061033,
     "end_time": "2025-10-01T14:08:17.693325",
     "exception": false,
     "start_time": "2025-10-01T14:08:17.632292",
     "status": "completed"
    },
    "tags": []
   },
   "outputs": [
    {
     "data": {
      "text/html": [
       "<div>\n",
       "<style scoped>\n",
       "    .dataframe tbody tr th:only-of-type {\n",
       "        vertical-align: middle;\n",
       "    }\n",
       "\n",
       "    .dataframe tbody tr th {\n",
       "        vertical-align: top;\n",
       "    }\n",
       "\n",
       "    .dataframe thead th {\n",
       "        text-align: right;\n",
       "    }\n",
       "</style>\n",
       "<table border=\"1\" class=\"dataframe\">\n",
       "  <thead>\n",
       "    <tr style=\"text-align: right;\">\n",
       "      <th></th>\n",
       "      <th>transaction_id</th>\n",
       "      <th>store_id</th>\n",
       "      <th>payment_method_id</th>\n",
       "      <th>voucher_id</th>\n",
       "      <th>user_id</th>\n",
       "      <th>original_amount</th>\n",
       "      <th>discount_applied</th>\n",
       "      <th>final_amount</th>\n",
       "      <th>created_at</th>\n",
       "    </tr>\n",
       "  </thead>\n",
       "  <tbody>\n",
       "  </tbody>\n",
       "</table>\n",
       "</div>"
      ],
      "text/plain": [
       "Empty DataFrame\n",
       "Columns: [transaction_id, store_id, payment_method_id, voucher_id, user_id, original_amount, discount_applied, final_amount, created_at]\n",
       "Index: []"
      ]
     },
     "execution_count": 34,
     "metadata": {},
     "output_type": "execute_result"
    }
   ],
   "source": [
    "# columnas a DESCARTAR (0-based)\n",
    "drop_idx = {2, 3, 6}\n",
    "# obtenemos cantidad de columnas leyendo solo el header\n",
    "sample = pd.read_csv('../client/data/transactions/transactions_202401.csv', nrows=0)\n",
    "keep_idx = [i for i in range(sample.shape[1]) if i not in drop_idx]\n",
    "sample"
   ]
  },
  {
   "cell_type": "code",
   "execution_count": 35,
   "id": "6cf543f6",
   "metadata": {
    "execution": {
     "iopub.execute_input": "2025-10-01T14:08:17.715958Z",
     "iopub.status.busy": "2025-10-01T14:08:17.715586Z",
     "iopub.status.idle": "2025-10-01T14:08:22.491441Z",
     "shell.execute_reply": "2025-10-01T14:08:22.490644Z"
    },
    "papermill": {
     "duration": 4.78912,
     "end_time": "2025-10-01T14:08:22.493121",
     "exception": false,
     "start_time": "2025-10-01T14:08:17.704001",
     "status": "completed"
    },
    "tags": []
   },
   "outputs": [],
   "source": [
    "transactions_202307 = pd.read_csv('../client/data_test_case/transactions/transactions_202307.csv', usecols=keep_idx, low_memory=False)\n",
    "transactions_202401 = pd.read_csv('../client/data_test_case/transactions/transactions_202401.csv', usecols=keep_idx, low_memory=False)\n",
    "transactions_202402 = pd.read_csv('../client/data_test_case/transactions/transactions_202402.csv', usecols=keep_idx, low_memory=False)\n",
    "transactions_202403 = pd.DataFrame() #pd.read_csv('../client/data/transactions/transactions_202403.csv', usecols=keep_idx, low_memory=False)\n",
    "transactions_202404 = pd.DataFrame() #pd.read_csv('../client/data/transactions/transactions_202404.csv', usecols=keep_idx, low_memory=False)\n",
    "transactions_202405 = pd.DataFrame() #pd.read_csv('../client/data/transactions/transactions_202405.csv', usecols=keep_idx, low_memory=False)\n",
    "transactions_202406 = pd.DataFrame() #pd.read_csv('../client/data/transactions/transactions_202406.csv', usecols=keep_idx, low_memory=False)\n",
    "transactions_202407 = pd.DataFrame() #pd.read_csv('../client/data/transactions/transactions_202407.csv', usecols=keep_idx, low_memory=False)\n",
    "transactions_202408 = pd.DataFrame() #pd.read_csv('../client/data/transactions/transactions_202408.csv', usecols=keep_idx, low_memory=False)\n",
    "transactions_202409 = pd.DataFrame() #pd.read_csv('../client/data/transactions/transactions_202409.csv', usecols=keep_idx, low_memory=False)\n",
    "transactions_202410 = pd.DataFrame() #pd.read_csv('../client/data/transactions/transactions_202410.csv', usecols=keep_idx, low_memory=False)\n",
    "transactions_202411 = pd.read_csv('../client/data_test_case/transactions/transactions_202411.csv', usecols=keep_idx, low_memory=False)\n",
    "transactions_202412 = pd.read_csv('../client/data_test_case/transactions/transactions_202412.csv', usecols=keep_idx, low_memory=False)\n",
    "\n",
    "transactions_202501 = pd.read_csv('../client/data_test_case/transactions/transactions_202501.csv', usecols=keep_idx, low_memory=False)\n",
    "transactions_202502 = pd.read_csv('../client/data_test_case/transactions/transactions_202502.csv', usecols=keep_idx, low_memory=False)\n",
    "transactions_202503 = pd.DataFrame() #pd.read_csv('../client/data/transactions/transactions_202503.csv', usecols=keep_idx, low_memory=False)\n",
    "transactions_202504 = pd.DataFrame() #pd.read_csv('../client/data/transactions/transactions_202504.csv', usecols=keep_idx, low_memory=False)\n",
    "transactions_202505 = pd.read_csv('../client/data_test_case/transactions/transactions_202505.csv', usecols=keep_idx, low_memory=False)\n",
    "transactions_202506 = pd.read_csv('../client/data_test_case/transactions/transactions_202506.csv', usecols=keep_idx, low_memory=False)"
   ]
  },
  {
   "cell_type": "code",
   "execution_count": 36,
   "id": "5b3757f9",
   "metadata": {
    "execution": {
     "iopub.execute_input": "2025-10-01T14:08:22.515388Z",
     "iopub.status.busy": "2025-10-01T14:08:22.514583Z",
     "iopub.status.idle": "2025-10-01T14:08:22.519138Z",
     "shell.execute_reply": "2025-10-01T14:08:22.518252Z"
    },
    "papermill": {
     "duration": 0.0169,
     "end_time": "2025-10-01T14:08:22.520483",
     "exception": false,
     "start_time": "2025-10-01T14:08:22.503583",
     "status": "completed"
    },
    "tags": []
   },
   "outputs": [],
   "source": [
    "dfs1 = [transactions_202307,\n",
    "       transactions_202401, \n",
    "       transactions_202402, \n",
    "       transactions_202403, \n",
    "       transactions_202404, \n",
    "       transactions_202405, \n",
    "       transactions_202406, \n",
    "       transactions_202407, \n",
    "       transactions_202408, \n",
    "       transactions_202409, \n",
    "       transactions_202410, \n",
    "       transactions_202411, \n",
    "       transactions_202412]"
   ]
  },
  {
   "cell_type": "code",
   "execution_count": 37,
   "id": "5536e0c6",
   "metadata": {
    "execution": {
     "iopub.execute_input": "2025-10-01T14:08:22.542150Z",
     "iopub.status.busy": "2025-10-01T14:08:22.541701Z",
     "iopub.status.idle": "2025-10-01T14:08:22.586872Z",
     "shell.execute_reply": "2025-10-01T14:08:22.585839Z"
    },
    "papermill": {
     "duration": 0.057771,
     "end_time": "2025-10-01T14:08:22.588529",
     "exception": false,
     "start_time": "2025-10-01T14:08:22.530758",
     "status": "completed"
    },
    "tags": []
   },
   "outputs": [],
   "source": [
    "dfs2 = [transactions_202501, \n",
    "       transactions_202502, \n",
    "       transactions_202503, \n",
    "       transactions_202504, \n",
    "       transactions_202505, \n",
    "       transactions_202506]\n",
    "\n",
    "transactions = pd.concat(dfs1 + dfs2, ignore_index=True)"
   ]
  },
  {
   "cell_type": "code",
   "execution_count": 38,
   "id": "e450d807",
   "metadata": {
    "execution": {
     "iopub.execute_input": "2025-10-01T14:08:22.610253Z",
     "iopub.status.busy": "2025-10-01T14:08:22.609912Z",
     "iopub.status.idle": "2025-10-01T14:08:22.615848Z",
     "shell.execute_reply": "2025-10-01T14:08:22.615002Z"
    },
    "papermill": {
     "duration": 0.01861,
     "end_time": "2025-10-01T14:08:22.617296",
     "exception": false,
     "start_time": "2025-10-01T14:08:22.598686",
     "status": "completed"
    },
    "tags": []
   },
   "outputs": [
    {
     "data": {
      "text/plain": [
       "(1185550, 6)"
      ]
     },
     "execution_count": 38,
     "metadata": {},
     "output_type": "execute_result"
    }
   ],
   "source": [
    "transactions.shape"
   ]
  },
  {
   "cell_type": "code",
   "execution_count": 39,
   "id": "682b4305",
   "metadata": {
    "execution": {
     "iopub.execute_input": "2025-10-01T14:08:22.639508Z",
     "iopub.status.busy": "2025-10-01T14:08:22.638891Z",
     "iopub.status.idle": "2025-10-01T14:08:22.652040Z",
     "shell.execute_reply": "2025-10-01T14:08:22.651118Z"
    },
    "papermill": {
     "duration": 0.025852,
     "end_time": "2025-10-01T14:08:22.653556",
     "exception": false,
     "start_time": "2025-10-01T14:08:22.627704",
     "status": "completed"
    },
    "tags": []
   },
   "outputs": [
    {
     "data": {
      "text/html": [
       "<div>\n",
       "<style scoped>\n",
       "    .dataframe tbody tr th:only-of-type {\n",
       "        vertical-align: middle;\n",
       "    }\n",
       "\n",
       "    .dataframe tbody tr th {\n",
       "        vertical-align: top;\n",
       "    }\n",
       "\n",
       "    .dataframe thead th {\n",
       "        text-align: right;\n",
       "    }\n",
       "</style>\n",
       "<table border=\"1\" class=\"dataframe\">\n",
       "  <thead>\n",
       "    <tr style=\"text-align: right;\">\n",
       "      <th></th>\n",
       "      <th>transaction_id</th>\n",
       "      <th>store_id</th>\n",
       "      <th>user_id</th>\n",
       "      <th>original_amount</th>\n",
       "      <th>final_amount</th>\n",
       "      <th>created_at</th>\n",
       "    </tr>\n",
       "  </thead>\n",
       "  <tbody>\n",
       "    <tr>\n",
       "      <th>0</th>\n",
       "      <td>2ae6d188-76c2-4095-b861-ab97d3cd9312</td>\n",
       "      <td>4</td>\n",
       "      <td>NaN</td>\n",
       "      <td>38.0</td>\n",
       "      <td>38.0</td>\n",
       "      <td>2023-07-01 07:00:00</td>\n",
       "    </tr>\n",
       "    <tr>\n",
       "      <th>1</th>\n",
       "      <td>7d0a474d-62f4-442a-96b6-a5df2bda8832</td>\n",
       "      <td>7</td>\n",
       "      <td>NaN</td>\n",
       "      <td>33.0</td>\n",
       "      <td>33.0</td>\n",
       "      <td>2023-07-01 07:00:02</td>\n",
       "    </tr>\n",
       "    <tr>\n",
       "      <th>2</th>\n",
       "      <td>85f86fef-fddb-4eef-9dc3-1444553e6108</td>\n",
       "      <td>1</td>\n",
       "      <td>NaN</td>\n",
       "      <td>27.0</td>\n",
       "      <td>27.0</td>\n",
       "      <td>2023-07-01 07:00:04</td>\n",
       "    </tr>\n",
       "    <tr>\n",
       "      <th>3</th>\n",
       "      <td>4c41d179-f809-4d5a-a5d7-acb25ae1fe98</td>\n",
       "      <td>5</td>\n",
       "      <td>NaN</td>\n",
       "      <td>45.5</td>\n",
       "      <td>45.5</td>\n",
       "      <td>2023-07-01 07:00:21</td>\n",
       "    </tr>\n",
       "    <tr>\n",
       "      <th>4</th>\n",
       "      <td>51e44c8e-4812-4a15-a9f9-9a46b62424d6</td>\n",
       "      <td>8</td>\n",
       "      <td>NaN</td>\n",
       "      <td>27.0</td>\n",
       "      <td>27.0</td>\n",
       "      <td>2023-07-01 07:00:33</td>\n",
       "    </tr>\n",
       "  </tbody>\n",
       "</table>\n",
       "</div>"
      ],
      "text/plain": [
       "                         transaction_id  store_id  user_id  original_amount  \\\n",
       "0  2ae6d188-76c2-4095-b861-ab97d3cd9312         4      NaN             38.0   \n",
       "1  7d0a474d-62f4-442a-96b6-a5df2bda8832         7      NaN             33.0   \n",
       "2  85f86fef-fddb-4eef-9dc3-1444553e6108         1      NaN             27.0   \n",
       "3  4c41d179-f809-4d5a-a5d7-acb25ae1fe98         5      NaN             45.5   \n",
       "4  51e44c8e-4812-4a15-a9f9-9a46b62424d6         8      NaN             27.0   \n",
       "\n",
       "   final_amount           created_at  \n",
       "0          38.0  2023-07-01 07:00:00  \n",
       "1          33.0  2023-07-01 07:00:02  \n",
       "2          27.0  2023-07-01 07:00:04  \n",
       "3          45.5  2023-07-01 07:00:21  \n",
       "4          27.0  2023-07-01 07:00:33  "
      ]
     },
     "execution_count": 39,
     "metadata": {},
     "output_type": "execute_result"
    }
   ],
   "source": [
    "transactions.head()"
   ]
  },
  {
   "cell_type": "markdown",
   "id": "0f1a020b",
   "metadata": {
    "papermill": {
     "duration": 0.010157,
     "end_time": "2025-10-01T14:08:22.674415",
     "exception": false,
     "start_time": "2025-10-01T14:08:22.664258",
     "status": "completed"
    },
    "tags": []
   },
   "source": [
    "### Data Cast"
   ]
  },
  {
   "cell_type": "code",
   "execution_count": 40,
   "id": "43a4e496",
   "metadata": {
    "execution": {
     "iopub.execute_input": "2025-10-01T14:08:22.697052Z",
     "iopub.status.busy": "2025-10-01T14:08:22.696713Z",
     "iopub.status.idle": "2025-10-01T14:08:23.575716Z",
     "shell.execute_reply": "2025-10-01T14:08:23.574823Z"
    },
    "papermill": {
     "duration": 0.892527,
     "end_time": "2025-10-01T14:08:23.577374",
     "exception": false,
     "start_time": "2025-10-01T14:08:22.684847",
     "status": "completed"
    },
    "tags": []
   },
   "outputs": [],
   "source": [
    "# 1) IDs y textos\n",
    "transactions[\"transaction_id\"] = transactions[\"transaction_id\"].astype(\"string\").str.strip()\n",
    "\n",
    "# 2) Numéricos\n",
    "transactions[\"store_id\"] = pd.to_numeric(transactions[\"store_id\"], errors=\"coerce\").astype(\"Int64\")\n",
    "transactions[\"user_id\"] = pd.to_numeric(transactions[\"user_id\"], errors=\"coerce\").astype(\"Int64\")\n",
    "\n",
    "transactions[\"original_amount\"] = pd.to_numeric(transactions[\"original_amount\"], errors=\"coerce\").astype(\"float64\")\n",
    "transactions[\"final_amount\"]    = pd.to_numeric(transactions[\"final_amount\"],    errors=\"coerce\").astype(\"float64\")\n",
    "\n",
    "# 3) Fecha/Hora\n",
    "transactions[\"created_at\"] = pd.to_datetime(transactions[\"created_at\"], errors=\"coerce\")"
   ]
  },
  {
   "cell_type": "code",
   "execution_count": 41,
   "id": "d7d77be8",
   "metadata": {
    "execution": {
     "iopub.execute_input": "2025-10-01T14:08:23.599726Z",
     "iopub.status.busy": "2025-10-01T14:08:23.599457Z",
     "iopub.status.idle": "2025-10-01T14:08:23.606309Z",
     "shell.execute_reply": "2025-10-01T14:08:23.605620Z"
    },
    "papermill": {
     "duration": 0.019331,
     "end_time": "2025-10-01T14:08:23.607621",
     "exception": false,
     "start_time": "2025-10-01T14:08:23.588290",
     "status": "completed"
    },
    "tags": []
   },
   "outputs": [
    {
     "data": {
      "text/plain": [
       "transaction_id     string[python]\n",
       "store_id                    Int64\n",
       "user_id                     Int64\n",
       "original_amount           float64\n",
       "final_amount              float64\n",
       "created_at         datetime64[ns]\n",
       "dtype: object"
      ]
     },
     "execution_count": 41,
     "metadata": {},
     "output_type": "execute_result"
    }
   ],
   "source": [
    "transactions.dtypes"
   ]
  },
  {
   "cell_type": "code",
   "execution_count": 42,
   "id": "05f8b96c",
   "metadata": {
    "execution": {
     "iopub.execute_input": "2025-10-01T14:08:23.696418Z",
     "iopub.status.busy": "2025-10-01T14:08:23.696145Z",
     "iopub.status.idle": "2025-10-01T14:08:23.712157Z",
     "shell.execute_reply": "2025-10-01T14:08:23.711410Z"
    },
    "papermill": {
     "duration": 0.028888,
     "end_time": "2025-10-01T14:08:23.713367",
     "exception": false,
     "start_time": "2025-10-01T14:08:23.684479",
     "status": "completed"
    },
    "tags": []
   },
   "outputs": [
    {
     "data": {
      "text/html": [
       "<div>\n",
       "<style scoped>\n",
       "    .dataframe tbody tr th:only-of-type {\n",
       "        vertical-align: middle;\n",
       "    }\n",
       "\n",
       "    .dataframe tbody tr th {\n",
       "        vertical-align: top;\n",
       "    }\n",
       "\n",
       "    .dataframe thead th {\n",
       "        text-align: right;\n",
       "    }\n",
       "</style>\n",
       "<table border=\"1\" class=\"dataframe\">\n",
       "  <thead>\n",
       "    <tr style=\"text-align: right;\">\n",
       "      <th></th>\n",
       "      <th>transaction_id</th>\n",
       "      <th>store_id</th>\n",
       "      <th>user_id</th>\n",
       "      <th>original_amount</th>\n",
       "      <th>final_amount</th>\n",
       "      <th>created_at</th>\n",
       "    </tr>\n",
       "  </thead>\n",
       "  <tbody>\n",
       "    <tr>\n",
       "      <th>0</th>\n",
       "      <td>2ae6d188-76c2-4095-b861-ab97d3cd9312</td>\n",
       "      <td>4</td>\n",
       "      <td>&lt;NA&gt;</td>\n",
       "      <td>38.0</td>\n",
       "      <td>38.0</td>\n",
       "      <td>2023-07-01 07:00:00</td>\n",
       "    </tr>\n",
       "    <tr>\n",
       "      <th>1</th>\n",
       "      <td>7d0a474d-62f4-442a-96b6-a5df2bda8832</td>\n",
       "      <td>7</td>\n",
       "      <td>&lt;NA&gt;</td>\n",
       "      <td>33.0</td>\n",
       "      <td>33.0</td>\n",
       "      <td>2023-07-01 07:00:02</td>\n",
       "    </tr>\n",
       "    <tr>\n",
       "      <th>2</th>\n",
       "      <td>85f86fef-fddb-4eef-9dc3-1444553e6108</td>\n",
       "      <td>1</td>\n",
       "      <td>&lt;NA&gt;</td>\n",
       "      <td>27.0</td>\n",
       "      <td>27.0</td>\n",
       "      <td>2023-07-01 07:00:04</td>\n",
       "    </tr>\n",
       "    <tr>\n",
       "      <th>3</th>\n",
       "      <td>4c41d179-f809-4d5a-a5d7-acb25ae1fe98</td>\n",
       "      <td>5</td>\n",
       "      <td>&lt;NA&gt;</td>\n",
       "      <td>45.5</td>\n",
       "      <td>45.5</td>\n",
       "      <td>2023-07-01 07:00:21</td>\n",
       "    </tr>\n",
       "    <tr>\n",
       "      <th>4</th>\n",
       "      <td>51e44c8e-4812-4a15-a9f9-9a46b62424d6</td>\n",
       "      <td>8</td>\n",
       "      <td>&lt;NA&gt;</td>\n",
       "      <td>27.0</td>\n",
       "      <td>27.0</td>\n",
       "      <td>2023-07-01 07:00:33</td>\n",
       "    </tr>\n",
       "  </tbody>\n",
       "</table>\n",
       "</div>"
      ],
      "text/plain": [
       "                         transaction_id  store_id  user_id  original_amount  \\\n",
       "0  2ae6d188-76c2-4095-b861-ab97d3cd9312         4     <NA>             38.0   \n",
       "1  7d0a474d-62f4-442a-96b6-a5df2bda8832         7     <NA>             33.0   \n",
       "2  85f86fef-fddb-4eef-9dc3-1444553e6108         1     <NA>             27.0   \n",
       "3  4c41d179-f809-4d5a-a5d7-acb25ae1fe98         5     <NA>             45.5   \n",
       "4  51e44c8e-4812-4a15-a9f9-9a46b62424d6         8     <NA>             27.0   \n",
       "\n",
       "   final_amount          created_at  \n",
       "0          38.0 2023-07-01 07:00:00  \n",
       "1          33.0 2023-07-01 07:00:02  \n",
       "2          27.0 2023-07-01 07:00:04  \n",
       "3          45.5 2023-07-01 07:00:21  \n",
       "4          27.0 2023-07-01 07:00:33  "
      ]
     },
     "execution_count": 42,
     "metadata": {},
     "output_type": "execute_result"
    }
   ],
   "source": [
    "transactions.head()"
   ]
  },
  {
   "cell_type": "markdown",
   "id": "95387cd4",
   "metadata": {
    "papermill": {
     "duration": 0.010587,
     "end_time": "2025-10-01T14:08:23.734863",
     "exception": false,
     "start_time": "2025-10-01T14:08:23.724276",
     "status": "completed"
    },
    "tags": []
   },
   "source": [
    "### Data Exploration"
   ]
  },
  {
   "cell_type": "markdown",
   "id": "b5ffbef3",
   "metadata": {
    "papermill": {
     "duration": 0.010719,
     "end_time": "2025-10-01T14:08:23.756250",
     "exception": false,
     "start_time": "2025-10-01T14:08:23.745531",
     "status": "completed"
    },
    "tags": []
   },
   "source": [
    "#### Null Values"
   ]
  },
  {
   "cell_type": "code",
   "execution_count": 43,
   "id": "d5faae73",
   "metadata": {
    "execution": {
     "iopub.execute_input": "2025-10-01T14:08:23.778850Z",
     "iopub.status.busy": "2025-10-01T14:08:23.778574Z",
     "iopub.status.idle": "2025-10-01T14:08:23.786487Z",
     "shell.execute_reply": "2025-10-01T14:08:23.785727Z"
    },
    "papermill": {
     "duration": 0.020846,
     "end_time": "2025-10-01T14:08:23.787840",
     "exception": false,
     "start_time": "2025-10-01T14:08:23.766994",
     "status": "completed"
    },
    "tags": []
   },
   "outputs": [
    {
     "data": {
      "text/plain": [
       "np.int64(429400)"
      ]
     },
     "execution_count": 43,
     "metadata": {},
     "output_type": "execute_result"
    }
   ],
   "source": [
    "# total de filas con user_id faltante\n",
    "transactions[\"user_id\"].isna().sum()"
   ]
  },
  {
   "cell_type": "code",
   "execution_count": 44,
   "id": "464d72cf",
   "metadata": {
    "execution": {
     "iopub.execute_input": "2025-10-01T14:08:23.811144Z",
     "iopub.status.busy": "2025-10-01T14:08:23.810607Z",
     "iopub.status.idle": "2025-10-01T14:08:23.818398Z",
     "shell.execute_reply": "2025-10-01T14:08:23.817359Z"
    },
    "papermill": {
     "duration": 0.020832,
     "end_time": "2025-10-01T14:08:23.819791",
     "exception": false,
     "start_time": "2025-10-01T14:08:23.798959",
     "status": "completed"
    },
    "tags": []
   },
   "outputs": [
    {
     "name": "stdout",
     "output_type": "stream",
     "text": [
      "36.22%\n"
     ]
    }
   ],
   "source": [
    "# porcentaje faltante de usuarios\n",
    "faltan = transactions[\"user_id\"].isna().mean() * 100\n",
    "print(f\"{faltan:.2f}%\")"
   ]
  },
  {
   "cell_type": "markdown",
   "id": "92b84bef",
   "metadata": {
    "papermill": {
     "duration": 0.010699,
     "end_time": "2025-10-01T14:08:23.841972",
     "exception": false,
     "start_time": "2025-10-01T14:08:23.831273",
     "status": "completed"
    },
    "tags": []
   },
   "source": [
    "## 2024 and 2025 Transactions Items"
   ]
  },
  {
   "cell_type": "code",
   "execution_count": 45,
   "id": "76c76c4c",
   "metadata": {
    "execution": {
     "iopub.execute_input": "2025-10-01T14:08:23.865738Z",
     "iopub.status.busy": "2025-10-01T14:08:23.864754Z",
     "iopub.status.idle": "2025-10-01T14:08:30.387112Z",
     "shell.execute_reply": "2025-10-01T14:08:30.386062Z"
    },
    "papermill": {
     "duration": 6.535884,
     "end_time": "2025-10-01T14:08:30.388733",
     "exception": false,
     "start_time": "2025-10-01T14:08:23.852849",
     "status": "completed"
    },
    "tags": []
   },
   "outputs": [],
   "source": [
    "transactions_items_202307 = pd.read_csv('../client/data_test_case/transaction_items/transaction_items_202307.csv', low_memory=False)\n",
    "transactions_items_202401 = pd.read_csv('../client/data_test_case/transaction_items/transaction_items_202401.csv', low_memory=False)\n",
    "transactions_items_202402 = pd.read_csv('../client/data_test_case/transaction_items/transaction_items_202402.csv', low_memory=False)\n",
    "transactions_items_202403 = pd.DataFrame() #pd.read_csv('../client/data/transaction_items/transaction_items_202403.csv', low_memory=False)\n",
    "transactions_items_202404 = pd.DataFrame() #pd.read_csv('../client/data/transaction_items/transaction_items_202404.csv', low_memory=False)\n",
    "transactions_items_202405 = pd.DataFrame() #pd.read_csv('../client/data/transaction_items/transaction_items_202405.csv', low_memory=False)\n",
    "transactions_items_202406 = pd.DataFrame() #pd.read_csv('../client/data/transaction_items/transaction_items_202406.csv', low_memory=False)\n",
    "transactions_items_202407 = pd.DataFrame() #pd.read_csv('../client/data/transaction_items/transaction_items_202407.csv', low_memory=False)\n",
    "transactions_items_202408 = pd.DataFrame() #pd.read_csv('../client/data/transaction_items/transaction_items_202408.csv', low_memory=False)\n",
    "transactions_items_202409 = pd.DataFrame() #pd.read_csv('../client/data/transaction_items/transaction_items_202409.csv', low_memory=False)\n",
    "transactions_items_202410 = pd.DataFrame() #pd.read_csv('../client/data/transaction_items/transaction_items_202410.csv', low_memory=False)\n",
    "transactions_items_202411 = pd.read_csv('../client/data_test_case/transaction_items/transaction_items_202411.csv', low_memory=False)\n",
    "transactions_items_202412 = pd.read_csv('../client/data_test_case/transaction_items/transaction_items_202412.csv', low_memory=False)\n",
    "\n",
    "transactions_items_202501 = pd.read_csv('../client/data_test_case/transaction_items/transaction_items_202501.csv', low_memory=False)\n",
    "transactions_items_202502 = pd.read_csv('../client/data_test_case/transaction_items/transaction_items_202502.csv', low_memory=False)\n",
    "transactions_items_202503 = pd.DataFrame() #pd.read_csv('../client/data/transaction_items/transaction_items_202503.csv', low_memory=False)\n",
    "transactions_items_202504 = pd.DataFrame() #pd.read_csv('../client/data/transaction_items/transaction_items_202504.csv', low_memory=False)\n",
    "transactions_items_202505 = pd.read_csv('../client/data_test_case/transaction_items/transaction_items_202505.csv', low_memory=False)\n",
    "transactions_items_202506 = pd.read_csv('../client/data_test_case/transaction_items/transaction_items_202506.csv', low_memory=False)"
   ]
  },
  {
   "cell_type": "code",
   "execution_count": 46,
   "id": "0e44a0ac",
   "metadata": {
    "execution": {
     "iopub.execute_input": "2025-10-01T14:08:30.412449Z",
     "iopub.status.busy": "2025-10-01T14:08:30.412132Z",
     "iopub.status.idle": "2025-10-01T14:08:30.417436Z",
     "shell.execute_reply": "2025-10-01T14:08:30.416401Z"
    },
    "papermill": {
     "duration": 0.018697,
     "end_time": "2025-10-01T14:08:30.418770",
     "exception": false,
     "start_time": "2025-10-01T14:08:30.400073",
     "status": "completed"
    },
    "tags": []
   },
   "outputs": [],
   "source": [
    "dfs3 = [transactions_items_202307,\n",
    "       transactions_items_202401, \n",
    "       transactions_items_202402, \n",
    "       transactions_items_202403, \n",
    "       transactions_items_202404, \n",
    "       transactions_items_202405, \n",
    "       transactions_items_202406, \n",
    "       transactions_items_202407, \n",
    "       transactions_items_202408, \n",
    "       transactions_items_202409, \n",
    "       transactions_items_202410, \n",
    "       transactions_items_202411, \n",
    "       transactions_items_202412]\n",
    "\n",
    "transactions_items_2024 = pd.concat(dfs3, ignore_index=True)"
   ]
  },
  {
   "cell_type": "code",
   "execution_count": 47,
   "id": "73542079",
   "metadata": {
    "execution": {
     "iopub.execute_input": "2025-10-01T14:08:30.442885Z",
     "iopub.status.busy": "2025-10-01T14:08:30.442126Z",
     "iopub.status.idle": "2025-10-01T14:08:30.447192Z",
     "shell.execute_reply": "2025-10-01T14:08:30.446379Z"
    },
    "papermill": {
     "duration": 0.018515,
     "end_time": "2025-10-01T14:08:30.448583",
     "exception": false,
     "start_time": "2025-10-01T14:08:30.430068",
     "status": "completed"
    },
    "tags": []
   },
   "outputs": [],
   "source": [
    "dfs4 = [transactions_items_202501, \n",
    "        transactions_items_202502,\n",
    "        transactions_items_202503,\n",
    "        transactions_items_202504,\n",
    "        transactions_items_202505,\n",
    "        transactions_items_202506\n",
    "        ]\n",
    "\n",
    "transactions_items_2025 = pd.concat(dfs4, ignore_index=True)"
   ]
  },
  {
   "cell_type": "code",
   "execution_count": 48,
   "id": "16928f88",
   "metadata": {
    "execution": {
     "iopub.execute_input": "2025-10-01T14:08:30.472210Z",
     "iopub.status.busy": "2025-10-01T14:08:30.471857Z",
     "iopub.status.idle": "2025-10-01T14:08:30.477282Z",
     "shell.execute_reply": "2025-10-01T14:08:30.476499Z"
    },
    "papermill": {
     "duration": 0.018625,
     "end_time": "2025-10-01T14:08:30.478684",
     "exception": false,
     "start_time": "2025-10-01T14:08:30.460059",
     "status": "completed"
    },
    "tags": []
   },
   "outputs": [
    {
     "data": {
      "text/plain": [
       "(1756396, 6)"
      ]
     },
     "execution_count": 48,
     "metadata": {},
     "output_type": "execute_result"
    }
   ],
   "source": [
    "transactions_items_2024.shape"
   ]
  },
  {
   "cell_type": "code",
   "execution_count": 49,
   "id": "8e447779",
   "metadata": {
    "execution": {
     "iopub.execute_input": "2025-10-01T14:08:30.502281Z",
     "iopub.status.busy": "2025-10-01T14:08:30.501907Z",
     "iopub.status.idle": "2025-10-01T14:08:30.507463Z",
     "shell.execute_reply": "2025-10-01T14:08:30.506586Z"
    },
    "papermill": {
     "duration": 0.018998,
     "end_time": "2025-10-01T14:08:30.508851",
     "exception": false,
     "start_time": "2025-10-01T14:08:30.489853",
     "status": "completed"
    },
    "tags": []
   },
   "outputs": [
    {
     "data": {
      "text/plain": [
       "(772328, 6)"
      ]
     },
     "execution_count": 49,
     "metadata": {},
     "output_type": "execute_result"
    }
   ],
   "source": [
    "transactions_items_2025.shape"
   ]
  },
  {
   "cell_type": "code",
   "execution_count": 50,
   "id": "dc74edc2",
   "metadata": {
    "execution": {
     "iopub.execute_input": "2025-10-01T14:08:30.533410Z",
     "iopub.status.busy": "2025-10-01T14:08:30.533080Z",
     "iopub.status.idle": "2025-10-01T14:08:30.543849Z",
     "shell.execute_reply": "2025-10-01T14:08:30.542909Z"
    },
    "papermill": {
     "duration": 0.024688,
     "end_time": "2025-10-01T14:08:30.545351",
     "exception": false,
     "start_time": "2025-10-01T14:08:30.520663",
     "status": "completed"
    },
    "tags": []
   },
   "outputs": [
    {
     "data": {
      "text/html": [
       "<div>\n",
       "<style scoped>\n",
       "    .dataframe tbody tr th:only-of-type {\n",
       "        vertical-align: middle;\n",
       "    }\n",
       "\n",
       "    .dataframe tbody tr th {\n",
       "        vertical-align: top;\n",
       "    }\n",
       "\n",
       "    .dataframe thead th {\n",
       "        text-align: right;\n",
       "    }\n",
       "</style>\n",
       "<table border=\"1\" class=\"dataframe\">\n",
       "  <thead>\n",
       "    <tr style=\"text-align: right;\">\n",
       "      <th></th>\n",
       "      <th>transaction_id</th>\n",
       "      <th>item_id</th>\n",
       "      <th>quantity</th>\n",
       "      <th>unit_price</th>\n",
       "      <th>subtotal</th>\n",
       "      <th>created_at</th>\n",
       "    </tr>\n",
       "  </thead>\n",
       "  <tbody>\n",
       "    <tr>\n",
       "      <th>0</th>\n",
       "      <td>2ae6d188-76c2-4095-b861-ab97d3cd9312</td>\n",
       "      <td>6</td>\n",
       "      <td>3</td>\n",
       "      <td>9.5</td>\n",
       "      <td>28.5</td>\n",
       "      <td>2023-07-01 07:00:00</td>\n",
       "    </tr>\n",
       "    <tr>\n",
       "      <th>1</th>\n",
       "      <td>2ae6d188-76c2-4095-b861-ab97d3cd9312</td>\n",
       "      <td>6</td>\n",
       "      <td>1</td>\n",
       "      <td>9.5</td>\n",
       "      <td>9.5</td>\n",
       "      <td>2023-07-01 07:00:00</td>\n",
       "    </tr>\n",
       "    <tr>\n",
       "      <th>2</th>\n",
       "      <td>7d0a474d-62f4-442a-96b6-a5df2bda8832</td>\n",
       "      <td>5</td>\n",
       "      <td>3</td>\n",
       "      <td>9.0</td>\n",
       "      <td>27.0</td>\n",
       "      <td>2023-07-01 07:00:02</td>\n",
       "    </tr>\n",
       "    <tr>\n",
       "      <th>3</th>\n",
       "      <td>7d0a474d-62f4-442a-96b6-a5df2bda8832</td>\n",
       "      <td>1</td>\n",
       "      <td>1</td>\n",
       "      <td>6.0</td>\n",
       "      <td>6.0</td>\n",
       "      <td>2023-07-01 07:00:02</td>\n",
       "    </tr>\n",
       "    <tr>\n",
       "      <th>4</th>\n",
       "      <td>85f86fef-fddb-4eef-9dc3-1444553e6108</td>\n",
       "      <td>7</td>\n",
       "      <td>3</td>\n",
       "      <td>9.0</td>\n",
       "      <td>27.0</td>\n",
       "      <td>2023-07-01 07:00:04</td>\n",
       "    </tr>\n",
       "  </tbody>\n",
       "</table>\n",
       "</div>"
      ],
      "text/plain": [
       "                         transaction_id  item_id  quantity  unit_price  \\\n",
       "0  2ae6d188-76c2-4095-b861-ab97d3cd9312        6         3         9.5   \n",
       "1  2ae6d188-76c2-4095-b861-ab97d3cd9312        6         1         9.5   \n",
       "2  7d0a474d-62f4-442a-96b6-a5df2bda8832        5         3         9.0   \n",
       "3  7d0a474d-62f4-442a-96b6-a5df2bda8832        1         1         6.0   \n",
       "4  85f86fef-fddb-4eef-9dc3-1444553e6108        7         3         9.0   \n",
       "\n",
       "   subtotal           created_at  \n",
       "0      28.5  2023-07-01 07:00:00  \n",
       "1       9.5  2023-07-01 07:00:00  \n",
       "2      27.0  2023-07-01 07:00:02  \n",
       "3       6.0  2023-07-01 07:00:02  \n",
       "4      27.0  2023-07-01 07:00:04  "
      ]
     },
     "execution_count": 50,
     "metadata": {},
     "output_type": "execute_result"
    }
   ],
   "source": [
    "transactions_items_2024.head()"
   ]
  },
  {
   "cell_type": "code",
   "execution_count": 51,
   "id": "f19b8e87",
   "metadata": {
    "execution": {
     "iopub.execute_input": "2025-10-01T14:08:30.569709Z",
     "iopub.status.busy": "2025-10-01T14:08:30.569409Z",
     "iopub.status.idle": "2025-10-01T14:08:30.580576Z",
     "shell.execute_reply": "2025-10-01T14:08:30.579658Z"
    },
    "papermill": {
     "duration": 0.025088,
     "end_time": "2025-10-01T14:08:30.582066",
     "exception": false,
     "start_time": "2025-10-01T14:08:30.556978",
     "status": "completed"
    },
    "tags": []
   },
   "outputs": [
    {
     "data": {
      "text/html": [
       "<div>\n",
       "<style scoped>\n",
       "    .dataframe tbody tr th:only-of-type {\n",
       "        vertical-align: middle;\n",
       "    }\n",
       "\n",
       "    .dataframe tbody tr th {\n",
       "        vertical-align: top;\n",
       "    }\n",
       "\n",
       "    .dataframe thead th {\n",
       "        text-align: right;\n",
       "    }\n",
       "</style>\n",
       "<table border=\"1\" class=\"dataframe\">\n",
       "  <thead>\n",
       "    <tr style=\"text-align: right;\">\n",
       "      <th></th>\n",
       "      <th>transaction_id</th>\n",
       "      <th>item_id</th>\n",
       "      <th>quantity</th>\n",
       "      <th>unit_price</th>\n",
       "      <th>subtotal</th>\n",
       "      <th>created_at</th>\n",
       "    </tr>\n",
       "  </thead>\n",
       "  <tbody>\n",
       "    <tr>\n",
       "      <th>0</th>\n",
       "      <td>7ce4bf6d-ac0d-4884-a7dc-99ffcdab4362</td>\n",
       "      <td>7</td>\n",
       "      <td>3</td>\n",
       "      <td>9.0</td>\n",
       "      <td>27.0</td>\n",
       "      <td>2025-01-01 07:00:03</td>\n",
       "    </tr>\n",
       "    <tr>\n",
       "      <th>1</th>\n",
       "      <td>79e08e8a-488b-4b27-bf33-7095ddd52b29</td>\n",
       "      <td>6</td>\n",
       "      <td>3</td>\n",
       "      <td>9.5</td>\n",
       "      <td>28.5</td>\n",
       "      <td>2025-01-01 12:20:53</td>\n",
       "    </tr>\n",
       "    <tr>\n",
       "      <th>2</th>\n",
       "      <td>38d50019-64ce-4aa6-b82f-dbe6f121fc6e</td>\n",
       "      <td>5</td>\n",
       "      <td>1</td>\n",
       "      <td>9.0</td>\n",
       "      <td>9.0</td>\n",
       "      <td>2025-01-01 12:20:54</td>\n",
       "    </tr>\n",
       "    <tr>\n",
       "      <th>3</th>\n",
       "      <td>731ef328-cfa5-42f9-b867-f99e9715a7c5</td>\n",
       "      <td>4</td>\n",
       "      <td>3</td>\n",
       "      <td>8.0</td>\n",
       "      <td>24.0</td>\n",
       "      <td>2025-01-01 12:20:55</td>\n",
       "    </tr>\n",
       "    <tr>\n",
       "      <th>4</th>\n",
       "      <td>84bb4f6d-ac1e-4857-8436-cec00dacfabe</td>\n",
       "      <td>5</td>\n",
       "      <td>1</td>\n",
       "      <td>9.0</td>\n",
       "      <td>9.0</td>\n",
       "      <td>2025-01-01 12:20:56</td>\n",
       "    </tr>\n",
       "  </tbody>\n",
       "</table>\n",
       "</div>"
      ],
      "text/plain": [
       "                         transaction_id  item_id  quantity  unit_price  \\\n",
       "0  7ce4bf6d-ac0d-4884-a7dc-99ffcdab4362        7         3         9.0   \n",
       "1  79e08e8a-488b-4b27-bf33-7095ddd52b29        6         3         9.5   \n",
       "2  38d50019-64ce-4aa6-b82f-dbe6f121fc6e        5         1         9.0   \n",
       "3  731ef328-cfa5-42f9-b867-f99e9715a7c5        4         3         8.0   \n",
       "4  84bb4f6d-ac1e-4857-8436-cec00dacfabe        5         1         9.0   \n",
       "\n",
       "   subtotal           created_at  \n",
       "0      27.0  2025-01-01 07:00:03  \n",
       "1      28.5  2025-01-01 12:20:53  \n",
       "2       9.0  2025-01-01 12:20:54  \n",
       "3      24.0  2025-01-01 12:20:55  \n",
       "4       9.0  2025-01-01 12:20:56  "
      ]
     },
     "execution_count": 51,
     "metadata": {},
     "output_type": "execute_result"
    }
   ],
   "source": [
    "transactions_items_2025.head()"
   ]
  },
  {
   "cell_type": "markdown",
   "id": "f6e174c0",
   "metadata": {
    "papermill": {
     "duration": 0.011042,
     "end_time": "2025-10-01T14:08:30.604663",
     "exception": false,
     "start_time": "2025-10-01T14:08:30.593621",
     "status": "completed"
    },
    "tags": []
   },
   "source": [
    "### Data Cast"
   ]
  },
  {
   "cell_type": "code",
   "execution_count": 52,
   "id": "12ef4d69",
   "metadata": {
    "execution": {
     "iopub.execute_input": "2025-10-01T14:08:30.628854Z",
     "iopub.status.busy": "2025-10-01T14:08:30.628569Z",
     "iopub.status.idle": "2025-10-01T14:08:31.529425Z",
     "shell.execute_reply": "2025-10-01T14:08:31.528357Z"
    },
    "papermill": {
     "duration": 0.915195,
     "end_time": "2025-10-01T14:08:31.531294",
     "exception": false,
     "start_time": "2025-10-01T14:08:30.616099",
     "status": "completed"
    },
    "tags": []
   },
   "outputs": [],
   "source": [
    "# 1) IDs y textos\n",
    "transactions_items_2024[\"transaction_id\"] = transactions_items_2024[\"transaction_id\"].astype(\"string\").str.strip()\n",
    "\n",
    "# 2) Numéricos\n",
    "transactions_items_2024[\"item_id\"] = pd.to_numeric(transactions_items_2024[\"item_id\"], errors=\"coerce\").astype(\"Int64\")\n",
    "transactions_items_2024[\"quantity\"] = pd.to_numeric(transactions_items_2024[\"quantity\"], errors=\"coerce\").astype(\"Int64\")\n",
    "\n",
    "transactions_items_2024[\"unit_price\"] = pd.to_numeric(transactions_items_2024[\"unit_price\"], errors=\"coerce\").astype(\"float64\")\n",
    "transactions_items_2024[\"subtotal\"]    = pd.to_numeric(transactions_items_2024[\"subtotal\"],    errors=\"coerce\").astype(\"float64\")\n",
    "\n",
    "# 3) Fecha/Hora\n",
    "transactions_items_2024[\"created_at\"] = pd.to_datetime(transactions_items_2024[\"created_at\"], errors=\"coerce\")"
   ]
  },
  {
   "cell_type": "code",
   "execution_count": 53,
   "id": "5058166f",
   "metadata": {
    "execution": {
     "iopub.execute_input": "2025-10-01T14:08:31.556450Z",
     "iopub.status.busy": "2025-10-01T14:08:31.555418Z",
     "iopub.status.idle": "2025-10-01T14:08:31.562085Z",
     "shell.execute_reply": "2025-10-01T14:08:31.561370Z"
    },
    "papermill": {
     "duration": 0.020777,
     "end_time": "2025-10-01T14:08:31.563645",
     "exception": false,
     "start_time": "2025-10-01T14:08:31.542868",
     "status": "completed"
    },
    "tags": []
   },
   "outputs": [
    {
     "data": {
      "text/plain": [
       "transaction_id    string[python]\n",
       "item_id                    Int64\n",
       "quantity                   Int64\n",
       "unit_price               float64\n",
       "subtotal                 float64\n",
       "created_at        datetime64[ns]\n",
       "dtype: object"
      ]
     },
     "execution_count": 53,
     "metadata": {},
     "output_type": "execute_result"
    }
   ],
   "source": [
    "transactions_items_2024.dtypes"
   ]
  },
  {
   "cell_type": "code",
   "execution_count": 54,
   "id": "149b20a3",
   "metadata": {
    "execution": {
     "iopub.execute_input": "2025-10-01T14:08:31.589543Z",
     "iopub.status.busy": "2025-10-01T14:08:31.589263Z",
     "iopub.status.idle": "2025-10-01T14:08:31.600945Z",
     "shell.execute_reply": "2025-10-01T14:08:31.599838Z"
    },
    "papermill": {
     "duration": 0.026576,
     "end_time": "2025-10-01T14:08:31.602531",
     "exception": false,
     "start_time": "2025-10-01T14:08:31.575955",
     "status": "completed"
    },
    "tags": []
   },
   "outputs": [
    {
     "data": {
      "text/html": [
       "<div>\n",
       "<style scoped>\n",
       "    .dataframe tbody tr th:only-of-type {\n",
       "        vertical-align: middle;\n",
       "    }\n",
       "\n",
       "    .dataframe tbody tr th {\n",
       "        vertical-align: top;\n",
       "    }\n",
       "\n",
       "    .dataframe thead th {\n",
       "        text-align: right;\n",
       "    }\n",
       "</style>\n",
       "<table border=\"1\" class=\"dataframe\">\n",
       "  <thead>\n",
       "    <tr style=\"text-align: right;\">\n",
       "      <th></th>\n",
       "      <th>transaction_id</th>\n",
       "      <th>item_id</th>\n",
       "      <th>quantity</th>\n",
       "      <th>unit_price</th>\n",
       "      <th>subtotal</th>\n",
       "      <th>created_at</th>\n",
       "    </tr>\n",
       "  </thead>\n",
       "  <tbody>\n",
       "    <tr>\n",
       "      <th>0</th>\n",
       "      <td>2ae6d188-76c2-4095-b861-ab97d3cd9312</td>\n",
       "      <td>6</td>\n",
       "      <td>3</td>\n",
       "      <td>9.5</td>\n",
       "      <td>28.5</td>\n",
       "      <td>2023-07-01 07:00:00</td>\n",
       "    </tr>\n",
       "    <tr>\n",
       "      <th>1</th>\n",
       "      <td>2ae6d188-76c2-4095-b861-ab97d3cd9312</td>\n",
       "      <td>6</td>\n",
       "      <td>1</td>\n",
       "      <td>9.5</td>\n",
       "      <td>9.5</td>\n",
       "      <td>2023-07-01 07:00:00</td>\n",
       "    </tr>\n",
       "    <tr>\n",
       "      <th>2</th>\n",
       "      <td>7d0a474d-62f4-442a-96b6-a5df2bda8832</td>\n",
       "      <td>5</td>\n",
       "      <td>3</td>\n",
       "      <td>9.0</td>\n",
       "      <td>27.0</td>\n",
       "      <td>2023-07-01 07:00:02</td>\n",
       "    </tr>\n",
       "    <tr>\n",
       "      <th>3</th>\n",
       "      <td>7d0a474d-62f4-442a-96b6-a5df2bda8832</td>\n",
       "      <td>1</td>\n",
       "      <td>1</td>\n",
       "      <td>6.0</td>\n",
       "      <td>6.0</td>\n",
       "      <td>2023-07-01 07:00:02</td>\n",
       "    </tr>\n",
       "    <tr>\n",
       "      <th>4</th>\n",
       "      <td>85f86fef-fddb-4eef-9dc3-1444553e6108</td>\n",
       "      <td>7</td>\n",
       "      <td>3</td>\n",
       "      <td>9.0</td>\n",
       "      <td>27.0</td>\n",
       "      <td>2023-07-01 07:00:04</td>\n",
       "    </tr>\n",
       "  </tbody>\n",
       "</table>\n",
       "</div>"
      ],
      "text/plain": [
       "                         transaction_id  item_id  quantity  unit_price  \\\n",
       "0  2ae6d188-76c2-4095-b861-ab97d3cd9312        6         3         9.5   \n",
       "1  2ae6d188-76c2-4095-b861-ab97d3cd9312        6         1         9.5   \n",
       "2  7d0a474d-62f4-442a-96b6-a5df2bda8832        5         3         9.0   \n",
       "3  7d0a474d-62f4-442a-96b6-a5df2bda8832        1         1         6.0   \n",
       "4  85f86fef-fddb-4eef-9dc3-1444553e6108        7         3         9.0   \n",
       "\n",
       "   subtotal          created_at  \n",
       "0      28.5 2023-07-01 07:00:00  \n",
       "1       9.5 2023-07-01 07:00:00  \n",
       "2      27.0 2023-07-01 07:00:02  \n",
       "3       6.0 2023-07-01 07:00:02  \n",
       "4      27.0 2023-07-01 07:00:04  "
      ]
     },
     "execution_count": 54,
     "metadata": {},
     "output_type": "execute_result"
    }
   ],
   "source": [
    "transactions_items_2024.head()"
   ]
  },
  {
   "cell_type": "code",
   "execution_count": 55,
   "id": "629e439f",
   "metadata": {
    "execution": {
     "iopub.execute_input": "2025-10-01T14:08:31.628520Z",
     "iopub.status.busy": "2025-10-01T14:08:31.627695Z",
     "iopub.status.idle": "2025-10-01T14:08:32.561271Z",
     "shell.execute_reply": "2025-10-01T14:08:32.560255Z"
    },
    "papermill": {
     "duration": 0.948207,
     "end_time": "2025-10-01T14:08:32.563437",
     "exception": false,
     "start_time": "2025-10-01T14:08:31.615230",
     "status": "completed"
    },
    "tags": []
   },
   "outputs": [],
   "source": [
    "# 1) IDs y textos\n",
    "transactions_items_2025[\"transaction_id\"] = transactions_items_2025[\"transaction_id\"].astype(\"string\").str.strip()\n",
    "\n",
    "# 2) Numéricos\n",
    "transactions_items_2025[\"item_id\"] = pd.to_numeric(transactions_items_2025[\"item_id\"], errors=\"coerce\").astype(\"Int64\")\n",
    "transactions_items_2025[\"quantity\"] = pd.to_numeric(transactions_items_2025[\"quantity\"], errors=\"coerce\").astype(\"Int64\")\n",
    "\n",
    "transactions_items_2025[\"unit_price\"] = pd.to_numeric(transactions_items_2025[\"unit_price\"], errors=\"coerce\").astype(\"float64\")\n",
    "transactions_items_2025[\"subtotal\"]    = pd.to_numeric(transactions_items_2025[\"subtotal\"],    errors=\"coerce\").astype(\"float64\")\n",
    "\n",
    "# 3) Fecha/Hora\n",
    "transactions_items_2025[\"created_at\"] = pd.to_datetime(transactions_items_2025[\"created_at\"], errors=\"coerce\")"
   ]
  },
  {
   "cell_type": "code",
   "execution_count": 56,
   "id": "48b04e19",
   "metadata": {
    "execution": {
     "iopub.execute_input": "2025-10-01T14:08:32.588417Z",
     "iopub.status.busy": "2025-10-01T14:08:32.588115Z",
     "iopub.status.idle": "2025-10-01T14:08:32.594843Z",
     "shell.execute_reply": "2025-10-01T14:08:32.593999Z"
    },
    "papermill": {
     "duration": 0.020772,
     "end_time": "2025-10-01T14:08:32.596274",
     "exception": false,
     "start_time": "2025-10-01T14:08:32.575502",
     "status": "completed"
    },
    "tags": []
   },
   "outputs": [
    {
     "data": {
      "text/plain": [
       "transaction_id    string[python]\n",
       "item_id                    Int64\n",
       "quantity                   Int64\n",
       "unit_price               float64\n",
       "subtotal                 float64\n",
       "created_at        datetime64[ns]\n",
       "dtype: object"
      ]
     },
     "execution_count": 56,
     "metadata": {},
     "output_type": "execute_result"
    }
   ],
   "source": [
    "transactions_items_2025.dtypes"
   ]
  },
  {
   "cell_type": "code",
   "execution_count": 57,
   "id": "28d6cedd",
   "metadata": {
    "execution": {
     "iopub.execute_input": "2025-10-01T14:08:32.621440Z",
     "iopub.status.busy": "2025-10-01T14:08:32.620919Z",
     "iopub.status.idle": "2025-10-01T14:08:32.633572Z",
     "shell.execute_reply": "2025-10-01T14:08:32.632775Z"
    },
    "papermill": {
     "duration": 0.02638,
     "end_time": "2025-10-01T14:08:32.634820",
     "exception": false,
     "start_time": "2025-10-01T14:08:32.608440",
     "status": "completed"
    },
    "tags": []
   },
   "outputs": [
    {
     "data": {
      "text/html": [
       "<div>\n",
       "<style scoped>\n",
       "    .dataframe tbody tr th:only-of-type {\n",
       "        vertical-align: middle;\n",
       "    }\n",
       "\n",
       "    .dataframe tbody tr th {\n",
       "        vertical-align: top;\n",
       "    }\n",
       "\n",
       "    .dataframe thead th {\n",
       "        text-align: right;\n",
       "    }\n",
       "</style>\n",
       "<table border=\"1\" class=\"dataframe\">\n",
       "  <thead>\n",
       "    <tr style=\"text-align: right;\">\n",
       "      <th></th>\n",
       "      <th>transaction_id</th>\n",
       "      <th>item_id</th>\n",
       "      <th>quantity</th>\n",
       "      <th>unit_price</th>\n",
       "      <th>subtotal</th>\n",
       "      <th>created_at</th>\n",
       "    </tr>\n",
       "  </thead>\n",
       "  <tbody>\n",
       "    <tr>\n",
       "      <th>0</th>\n",
       "      <td>7ce4bf6d-ac0d-4884-a7dc-99ffcdab4362</td>\n",
       "      <td>7</td>\n",
       "      <td>3</td>\n",
       "      <td>9.0</td>\n",
       "      <td>27.0</td>\n",
       "      <td>2025-01-01 07:00:03</td>\n",
       "    </tr>\n",
       "    <tr>\n",
       "      <th>1</th>\n",
       "      <td>79e08e8a-488b-4b27-bf33-7095ddd52b29</td>\n",
       "      <td>6</td>\n",
       "      <td>3</td>\n",
       "      <td>9.5</td>\n",
       "      <td>28.5</td>\n",
       "      <td>2025-01-01 12:20:53</td>\n",
       "    </tr>\n",
       "    <tr>\n",
       "      <th>2</th>\n",
       "      <td>38d50019-64ce-4aa6-b82f-dbe6f121fc6e</td>\n",
       "      <td>5</td>\n",
       "      <td>1</td>\n",
       "      <td>9.0</td>\n",
       "      <td>9.0</td>\n",
       "      <td>2025-01-01 12:20:54</td>\n",
       "    </tr>\n",
       "    <tr>\n",
       "      <th>3</th>\n",
       "      <td>731ef328-cfa5-42f9-b867-f99e9715a7c5</td>\n",
       "      <td>4</td>\n",
       "      <td>3</td>\n",
       "      <td>8.0</td>\n",
       "      <td>24.0</td>\n",
       "      <td>2025-01-01 12:20:55</td>\n",
       "    </tr>\n",
       "    <tr>\n",
       "      <th>4</th>\n",
       "      <td>84bb4f6d-ac1e-4857-8436-cec00dacfabe</td>\n",
       "      <td>5</td>\n",
       "      <td>1</td>\n",
       "      <td>9.0</td>\n",
       "      <td>9.0</td>\n",
       "      <td>2025-01-01 12:20:56</td>\n",
       "    </tr>\n",
       "  </tbody>\n",
       "</table>\n",
       "</div>"
      ],
      "text/plain": [
       "                         transaction_id  item_id  quantity  unit_price  \\\n",
       "0  7ce4bf6d-ac0d-4884-a7dc-99ffcdab4362        7         3         9.0   \n",
       "1  79e08e8a-488b-4b27-bf33-7095ddd52b29        6         3         9.5   \n",
       "2  38d50019-64ce-4aa6-b82f-dbe6f121fc6e        5         1         9.0   \n",
       "3  731ef328-cfa5-42f9-b867-f99e9715a7c5        4         3         8.0   \n",
       "4  84bb4f6d-ac1e-4857-8436-cec00dacfabe        5         1         9.0   \n",
       "\n",
       "   subtotal          created_at  \n",
       "0      27.0 2025-01-01 07:00:03  \n",
       "1      28.5 2025-01-01 12:20:53  \n",
       "2       9.0 2025-01-01 12:20:54  \n",
       "3      24.0 2025-01-01 12:20:55  \n",
       "4       9.0 2025-01-01 12:20:56  "
      ]
     },
     "execution_count": 57,
     "metadata": {},
     "output_type": "execute_result"
    }
   ],
   "source": [
    "transactions_items_2025.head()"
   ]
  },
  {
   "cell_type": "markdown",
   "id": "83532f0e",
   "metadata": {
    "papermill": {
     "duration": 0.012017,
     "end_time": "2025-10-01T14:08:32.659313",
     "exception": false,
     "start_time": "2025-10-01T14:08:32.647296",
     "status": "completed"
    },
    "tags": []
   },
   "source": [
    "## Users"
   ]
  },
  {
   "cell_type": "code",
   "execution_count": 58,
   "id": "bc0e693e",
   "metadata": {
    "execution": {
     "iopub.execute_input": "2025-10-01T14:08:32.685596Z",
     "iopub.status.busy": "2025-10-01T14:08:32.685327Z",
     "iopub.status.idle": "2025-10-01T14:08:32.702531Z",
     "shell.execute_reply": "2025-10-01T14:08:32.701513Z"
    },
    "papermill": {
     "duration": 0.031744,
     "end_time": "2025-10-01T14:08:32.704043",
     "exception": false,
     "start_time": "2025-10-01T14:08:32.672299",
     "status": "completed"
    },
    "tags": []
   },
   "outputs": [
    {
     "data": {
      "text/html": [
       "<div>\n",
       "<style scoped>\n",
       "    .dataframe tbody tr th:only-of-type {\n",
       "        vertical-align: middle;\n",
       "    }\n",
       "\n",
       "    .dataframe tbody tr th {\n",
       "        vertical-align: top;\n",
       "    }\n",
       "\n",
       "    .dataframe thead th {\n",
       "        text-align: right;\n",
       "    }\n",
       "</style>\n",
       "<table border=\"1\" class=\"dataframe\">\n",
       "  <thead>\n",
       "    <tr style=\"text-align: right;\">\n",
       "      <th></th>\n",
       "      <th>user_id</th>\n",
       "      <th>gender</th>\n",
       "      <th>birthdate</th>\n",
       "      <th>registered_at</th>\n",
       "    </tr>\n",
       "  </thead>\n",
       "  <tbody>\n",
       "  </tbody>\n",
       "</table>\n",
       "</div>"
      ],
      "text/plain": [
       "Empty DataFrame\n",
       "Columns: [user_id, gender, birthdate, registered_at]\n",
       "Index: []"
      ]
     },
     "execution_count": 58,
     "metadata": {},
     "output_type": "execute_result"
    }
   ],
   "source": [
    "# columnas a DESCARTAR (0-based)\n",
    "drop_idx = {1}\n",
    "# obtenemos cantidad de columnas leyendo solo el header\n",
    "sample = pd.read_csv('../client/data/users/users_202307.csv', nrows=0)\n",
    "keep_idx = [i for i in range(sample.shape[1]) if i not in drop_idx]\n",
    "sample"
   ]
  },
  {
   "cell_type": "code",
   "execution_count": 59,
   "id": "da2be22e",
   "metadata": {
    "execution": {
     "iopub.execute_input": "2025-10-01T14:08:32.730366Z",
     "iopub.status.busy": "2025-10-01T14:08:32.729450Z",
     "iopub.status.idle": "2025-10-01T14:08:36.408083Z",
     "shell.execute_reply": "2025-10-01T14:08:36.407059Z"
    },
    "papermill": {
     "duration": 3.693545,
     "end_time": "2025-10-01T14:08:36.409801",
     "exception": false,
     "start_time": "2025-10-01T14:08:32.716256",
     "status": "completed"
    },
    "tags": []
   },
   "outputs": [],
   "source": [
    "users_202307 = pd.read_csv('../client/data/users/users_202307.csv', usecols=keep_idx, low_memory=False)\n",
    "users_202308 = pd.read_csv('../client/data/users/users_202308.csv', usecols=keep_idx, low_memory=False)\n",
    "users_202309 = pd.read_csv('../client/data/users/users_202309.csv', usecols=keep_idx, low_memory=False)\n",
    "users_202310 = pd.read_csv('../client/data/users/users_202310.csv', usecols=keep_idx, low_memory=False)\n",
    "users_202311 = pd.read_csv('../client/data/users/users_202311.csv', usecols=keep_idx, low_memory=False)\n",
    "users_202312 = pd.read_csv('../client/data/users/users_202312.csv', usecols=keep_idx, low_memory=False)\n",
    "\n",
    "users_202401 = pd.read_csv('../client/data/users/users_202401.csv', usecols=keep_idx, low_memory=False)\n",
    "users_202402 = pd.read_csv('../client/data/users/users_202402.csv', usecols=keep_idx, low_memory=False)\n",
    "users_202403 = pd.read_csv('../client/data/users/users_202403.csv', usecols=keep_idx, low_memory=False)\n",
    "users_202404 = pd.read_csv('../client/data/users/users_202404.csv', usecols=keep_idx, low_memory=False)\n",
    "users_202405 = pd.read_csv('../client/data/users/users_202405.csv', usecols=keep_idx, low_memory=False)\n",
    "users_202406 = pd.read_csv('../client/data/users/users_202406.csv', usecols=keep_idx, low_memory=False)\n",
    "users_202407 = pd.read_csv('../client/data/users/users_202407.csv', usecols=keep_idx, low_memory=False)\n",
    "users_202408 = pd.read_csv('../client/data/users/users_202408.csv', usecols=keep_idx, low_memory=False)\n",
    "users_202409 = pd.read_csv('../client/data/users/users_202409.csv', usecols=keep_idx, low_memory=False)\n",
    "users_202410 = pd.read_csv('../client/data/users/users_202410.csv', usecols=keep_idx, low_memory=False)\n",
    "users_202411 = pd.read_csv('../client/data/users/users_202411.csv', usecols=keep_idx, low_memory=False)\n",
    "users_202412 = pd.read_csv('../client/data/users/users_202412.csv', usecols=keep_idx, low_memory=False)\n",
    "\n",
    "users_202501 = pd.read_csv('../client/data/users/users_202501.csv', usecols=keep_idx, low_memory=False)\n",
    "users_202502 = pd.read_csv('../client/data/users/users_202502.csv', usecols=keep_idx, low_memory=False)\n",
    "users_202503 = pd.read_csv('../client/data/users/users_202503.csv', usecols=keep_idx, low_memory=False)\n",
    "users_202504 = pd.read_csv('../client/data/users/users_202504.csv', usecols=keep_idx, low_memory=False)\n",
    "users_202505 = pd.read_csv('../client/data/users/users_202505.csv', usecols=keep_idx, low_memory=False)\n",
    "users_202506 = pd.read_csv('../client/data/users/users_202506.csv', usecols=keep_idx, low_memory=False)\n"
   ]
  },
  {
   "cell_type": "code",
   "execution_count": 60,
   "id": "6da31f1e",
   "metadata": {
    "execution": {
     "iopub.execute_input": "2025-10-01T14:08:36.436241Z",
     "iopub.status.busy": "2025-10-01T14:08:36.435487Z",
     "iopub.status.idle": "2025-10-01T14:08:36.546452Z",
     "shell.execute_reply": "2025-10-01T14:08:36.545340Z"
    },
    "papermill": {
     "duration": 0.125664,
     "end_time": "2025-10-01T14:08:36.548279",
     "exception": false,
     "start_time": "2025-10-01T14:08:36.422615",
     "status": "completed"
    },
    "tags": []
   },
   "outputs": [],
   "source": [
    "dfs5 = [users_202307,\n",
    "        users_202308,\n",
    "        users_202309,\n",
    "        users_202310,\n",
    "        users_202311,\n",
    "        users_202312,\n",
    "        \n",
    "        users_202401,\n",
    "        users_202402,\n",
    "        users_202403,\n",
    "        users_202404,\n",
    "        users_202405,\n",
    "        users_202406,\n",
    "        users_202407,\n",
    "        users_202408,\n",
    "        users_202409,\n",
    "        users_202410,\n",
    "        users_202411,\n",
    "        users_202412,\n",
    "        \n",
    "        users_202501,\n",
    "        users_202502,\n",
    "        users_202503,\n",
    "        users_202504,\n",
    "        users_202505,\n",
    "        users_202506]\n",
    "\n",
    "users = pd.concat(dfs5, ignore_index=True)"
   ]
  },
  {
   "cell_type": "code",
   "execution_count": 61,
   "id": "fb966fd8",
   "metadata": {
    "execution": {
     "iopub.execute_input": "2025-10-01T14:08:36.573182Z",
     "iopub.status.busy": "2025-10-01T14:08:36.572860Z",
     "iopub.status.idle": "2025-10-01T14:08:36.577983Z",
     "shell.execute_reply": "2025-10-01T14:08:36.577294Z"
    },
    "papermill": {
     "duration": 0.018902,
     "end_time": "2025-10-01T14:08:36.579214",
     "exception": false,
     "start_time": "2025-10-01T14:08:36.560312",
     "status": "completed"
    },
    "tags": []
   },
   "outputs": [
    {
     "data": {
      "text/plain": [
       "(2196257, 3)"
      ]
     },
     "execution_count": 61,
     "metadata": {},
     "output_type": "execute_result"
    }
   ],
   "source": [
    "users.shape"
   ]
  },
  {
   "cell_type": "code",
   "execution_count": 62,
   "id": "c340bee9",
   "metadata": {
    "execution": {
     "iopub.execute_input": "2025-10-01T14:08:36.604668Z",
     "iopub.status.busy": "2025-10-01T14:08:36.604377Z",
     "iopub.status.idle": "2025-10-01T14:08:36.612824Z",
     "shell.execute_reply": "2025-10-01T14:08:36.612115Z"
    },
    "papermill": {
     "duration": 0.023019,
     "end_time": "2025-10-01T14:08:36.614272",
     "exception": false,
     "start_time": "2025-10-01T14:08:36.591253",
     "status": "completed"
    },
    "tags": []
   },
   "outputs": [
    {
     "data": {
      "text/html": [
       "<div>\n",
       "<style scoped>\n",
       "    .dataframe tbody tr th:only-of-type {\n",
       "        vertical-align: middle;\n",
       "    }\n",
       "\n",
       "    .dataframe tbody tr th {\n",
       "        vertical-align: top;\n",
       "    }\n",
       "\n",
       "    .dataframe thead th {\n",
       "        text-align: right;\n",
       "    }\n",
       "</style>\n",
       "<table border=\"1\" class=\"dataframe\">\n",
       "  <thead>\n",
       "    <tr style=\"text-align: right;\">\n",
       "      <th></th>\n",
       "      <th>user_id</th>\n",
       "      <th>birthdate</th>\n",
       "      <th>registered_at</th>\n",
       "    </tr>\n",
       "  </thead>\n",
       "  <tbody>\n",
       "    <tr>\n",
       "      <th>0</th>\n",
       "      <td>1</td>\n",
       "      <td>1970-04-22</td>\n",
       "      <td>2023-07-01 08:13:07</td>\n",
       "    </tr>\n",
       "    <tr>\n",
       "      <th>1</th>\n",
       "      <td>2</td>\n",
       "      <td>1991-12-08</td>\n",
       "      <td>2023-07-01 09:53:48</td>\n",
       "    </tr>\n",
       "    <tr>\n",
       "      <th>2</th>\n",
       "      <td>3</td>\n",
       "      <td>1971-03-15</td>\n",
       "      <td>2023-07-01 10:07:00</td>\n",
       "    </tr>\n",
       "    <tr>\n",
       "      <th>3</th>\n",
       "      <td>4</td>\n",
       "      <td>1975-11-08</td>\n",
       "      <td>2023-07-01 10:28:08</td>\n",
       "    </tr>\n",
       "    <tr>\n",
       "      <th>4</th>\n",
       "      <td>5</td>\n",
       "      <td>2005-05-10</td>\n",
       "      <td>2023-07-01 11:02:21</td>\n",
       "    </tr>\n",
       "  </tbody>\n",
       "</table>\n",
       "</div>"
      ],
      "text/plain": [
       "   user_id   birthdate        registered_at\n",
       "0        1  1970-04-22  2023-07-01 08:13:07\n",
       "1        2  1991-12-08  2023-07-01 09:53:48\n",
       "2        3  1971-03-15  2023-07-01 10:07:00\n",
       "3        4  1975-11-08  2023-07-01 10:28:08\n",
       "4        5  2005-05-10  2023-07-01 11:02:21"
      ]
     },
     "execution_count": 62,
     "metadata": {},
     "output_type": "execute_result"
    }
   ],
   "source": [
    "users.head()"
   ]
  },
  {
   "cell_type": "markdown",
   "id": "56a7b361",
   "metadata": {
    "papermill": {
     "duration": 0.0124,
     "end_time": "2025-10-01T14:08:36.639074",
     "exception": false,
     "start_time": "2025-10-01T14:08:36.626674",
     "status": "completed"
    },
    "tags": []
   },
   "source": [
    "### Data Cast"
   ]
  },
  {
   "cell_type": "code",
   "execution_count": 63,
   "id": "38aa1800",
   "metadata": {
    "execution": {
     "iopub.execute_input": "2025-10-01T14:08:36.665799Z",
     "iopub.status.busy": "2025-10-01T14:08:36.664830Z",
     "iopub.status.idle": "2025-10-01T14:08:37.800472Z",
     "shell.execute_reply": "2025-10-01T14:08:37.799549Z"
    },
    "papermill": {
     "duration": 1.150633,
     "end_time": "2025-10-01T14:08:37.802128",
     "exception": false,
     "start_time": "2025-10-01T14:08:36.651495",
     "status": "completed"
    },
    "tags": []
   },
   "outputs": [],
   "source": [
    "# 1) user_id\n",
    "users[\"user_id\"] = pd.to_numeric(users[\"user_id\"], errors=\"coerce\").astype(\"Int64\")\n",
    "\n",
    "# 2) birthdate → fecha\n",
    "users[\"birthdate\"] = pd.to_datetime(users[\"birthdate\"], errors=\"coerce\").dt.normalize()\n",
    "\n",
    "# 3) Fecha/Hora\n",
    "users[\"registered_at\"] = pd.to_datetime(users[\"registered_at\"], errors=\"coerce\")"
   ]
  },
  {
   "cell_type": "code",
   "execution_count": 64,
   "id": "5f710893",
   "metadata": {
    "execution": {
     "iopub.execute_input": "2025-10-01T14:08:37.828063Z",
     "iopub.status.busy": "2025-10-01T14:08:37.827687Z",
     "iopub.status.idle": "2025-10-01T14:08:37.834808Z",
     "shell.execute_reply": "2025-10-01T14:08:37.834094Z"
    },
    "papermill": {
     "duration": 0.021584,
     "end_time": "2025-10-01T14:08:37.836193",
     "exception": false,
     "start_time": "2025-10-01T14:08:37.814609",
     "status": "completed"
    },
    "tags": []
   },
   "outputs": [
    {
     "data": {
      "text/plain": [
       "user_id                   Int64\n",
       "birthdate        datetime64[ns]\n",
       "registered_at    datetime64[ns]\n",
       "dtype: object"
      ]
     },
     "execution_count": 64,
     "metadata": {},
     "output_type": "execute_result"
    }
   ],
   "source": [
    "users.dtypes"
   ]
  },
  {
   "cell_type": "code",
   "execution_count": 65,
   "id": "032aad36",
   "metadata": {
    "execution": {
     "iopub.execute_input": "2025-10-01T14:08:37.862390Z",
     "iopub.status.busy": "2025-10-01T14:08:37.862099Z",
     "iopub.status.idle": "2025-10-01T14:08:37.871563Z",
     "shell.execute_reply": "2025-10-01T14:08:37.870744Z"
    },
    "papermill": {
     "duration": 0.0243,
     "end_time": "2025-10-01T14:08:37.873082",
     "exception": false,
     "start_time": "2025-10-01T14:08:37.848782",
     "status": "completed"
    },
    "tags": []
   },
   "outputs": [
    {
     "data": {
      "text/html": [
       "<div>\n",
       "<style scoped>\n",
       "    .dataframe tbody tr th:only-of-type {\n",
       "        vertical-align: middle;\n",
       "    }\n",
       "\n",
       "    .dataframe tbody tr th {\n",
       "        vertical-align: top;\n",
       "    }\n",
       "\n",
       "    .dataframe thead th {\n",
       "        text-align: right;\n",
       "    }\n",
       "</style>\n",
       "<table border=\"1\" class=\"dataframe\">\n",
       "  <thead>\n",
       "    <tr style=\"text-align: right;\">\n",
       "      <th></th>\n",
       "      <th>user_id</th>\n",
       "      <th>birthdate</th>\n",
       "      <th>registered_at</th>\n",
       "    </tr>\n",
       "  </thead>\n",
       "  <tbody>\n",
       "    <tr>\n",
       "      <th>0</th>\n",
       "      <td>1</td>\n",
       "      <td>1970-04-22</td>\n",
       "      <td>2023-07-01 08:13:07</td>\n",
       "    </tr>\n",
       "    <tr>\n",
       "      <th>1</th>\n",
       "      <td>2</td>\n",
       "      <td>1991-12-08</td>\n",
       "      <td>2023-07-01 09:53:48</td>\n",
       "    </tr>\n",
       "    <tr>\n",
       "      <th>2</th>\n",
       "      <td>3</td>\n",
       "      <td>1971-03-15</td>\n",
       "      <td>2023-07-01 10:07:00</td>\n",
       "    </tr>\n",
       "    <tr>\n",
       "      <th>3</th>\n",
       "      <td>4</td>\n",
       "      <td>1975-11-08</td>\n",
       "      <td>2023-07-01 10:28:08</td>\n",
       "    </tr>\n",
       "    <tr>\n",
       "      <th>4</th>\n",
       "      <td>5</td>\n",
       "      <td>2005-05-10</td>\n",
       "      <td>2023-07-01 11:02:21</td>\n",
       "    </tr>\n",
       "  </tbody>\n",
       "</table>\n",
       "</div>"
      ],
      "text/plain": [
       "   user_id  birthdate       registered_at\n",
       "0        1 1970-04-22 2023-07-01 08:13:07\n",
       "1        2 1991-12-08 2023-07-01 09:53:48\n",
       "2        3 1971-03-15 2023-07-01 10:07:00\n",
       "3        4 1975-11-08 2023-07-01 10:28:08\n",
       "4        5 2005-05-10 2023-07-01 11:02:21"
      ]
     },
     "execution_count": 65,
     "metadata": {},
     "output_type": "execute_result"
    }
   ],
   "source": [
    "users.head()"
   ]
  },
  {
   "cell_type": "markdown",
   "id": "1f0b6fa0",
   "metadata": {
    "papermill": {
     "duration": 0.012102,
     "end_time": "2025-10-01T14:08:37.898587",
     "exception": false,
     "start_time": "2025-10-01T14:08:37.886485",
     "status": "completed"
    },
    "tags": []
   },
   "source": [
    "## Menu Items"
   ]
  },
  {
   "cell_type": "code",
   "execution_count": 66,
   "id": "360dc8c8",
   "metadata": {
    "execution": {
     "iopub.execute_input": "2025-10-01T14:08:37.925021Z",
     "iopub.status.busy": "2025-10-01T14:08:37.924700Z",
     "iopub.status.idle": "2025-10-01T14:08:37.941317Z",
     "shell.execute_reply": "2025-10-01T14:08:37.940488Z"
    },
    "papermill": {
     "duration": 0.031468,
     "end_time": "2025-10-01T14:08:37.942676",
     "exception": false,
     "start_time": "2025-10-01T14:08:37.911208",
     "status": "completed"
    },
    "tags": []
   },
   "outputs": [
    {
     "data": {
      "text/html": [
       "<div>\n",
       "<style scoped>\n",
       "    .dataframe tbody tr th:only-of-type {\n",
       "        vertical-align: middle;\n",
       "    }\n",
       "\n",
       "    .dataframe tbody tr th {\n",
       "        vertical-align: top;\n",
       "    }\n",
       "\n",
       "    .dataframe thead th {\n",
       "        text-align: right;\n",
       "    }\n",
       "</style>\n",
       "<table border=\"1\" class=\"dataframe\">\n",
       "  <thead>\n",
       "    <tr style=\"text-align: right;\">\n",
       "      <th></th>\n",
       "      <th>item_id</th>\n",
       "      <th>item_name</th>\n",
       "      <th>category</th>\n",
       "      <th>price</th>\n",
       "      <th>is_seasonal</th>\n",
       "      <th>available_from</th>\n",
       "      <th>available_to</th>\n",
       "    </tr>\n",
       "  </thead>\n",
       "  <tbody>\n",
       "  </tbody>\n",
       "</table>\n",
       "</div>"
      ],
      "text/plain": [
       "Empty DataFrame\n",
       "Columns: [item_id, item_name, category, price, is_seasonal, available_from, available_to]\n",
       "Index: []"
      ]
     },
     "execution_count": 66,
     "metadata": {},
     "output_type": "execute_result"
    }
   ],
   "source": [
    "# columnas a DESCARTAR (0-based)\n",
    "drop_idx = {4, 5, 6}\n",
    "# obtenemos cantidad de columnas leyendo solo el header\n",
    "sample = pd.read_csv('../client/data/menu_items/menu_items.csv', nrows=0)\n",
    "keep_idx = [i for i in range(sample.shape[1]) if i not in drop_idx]\n",
    "sample"
   ]
  },
  {
   "cell_type": "code",
   "execution_count": 67,
   "id": "3c0f08aa",
   "metadata": {
    "execution": {
     "iopub.execute_input": "2025-10-01T14:08:37.970091Z",
     "iopub.status.busy": "2025-10-01T14:08:37.969267Z",
     "iopub.status.idle": "2025-10-01T14:08:37.975859Z",
     "shell.execute_reply": "2025-10-01T14:08:37.975076Z"
    },
    "papermill": {
     "duration": 0.021751,
     "end_time": "2025-10-01T14:08:37.977565",
     "exception": false,
     "start_time": "2025-10-01T14:08:37.955814",
     "status": "completed"
    },
    "tags": []
   },
   "outputs": [],
   "source": [
    "menu_items = pd.read_csv('../client/data/menu_items/menu_items.csv', usecols=keep_idx, low_memory=False)\n"
   ]
  },
  {
   "cell_type": "code",
   "execution_count": 68,
   "id": "6b6074ef",
   "metadata": {
    "execution": {
     "iopub.execute_input": "2025-10-01T14:08:38.004599Z",
     "iopub.status.busy": "2025-10-01T14:08:38.004318Z",
     "iopub.status.idle": "2025-10-01T14:08:38.009627Z",
     "shell.execute_reply": "2025-10-01T14:08:38.008888Z"
    },
    "papermill": {
     "duration": 0.020264,
     "end_time": "2025-10-01T14:08:38.010917",
     "exception": false,
     "start_time": "2025-10-01T14:08:37.990653",
     "status": "completed"
    },
    "tags": []
   },
   "outputs": [
    {
     "data": {
      "text/plain": [
       "(8, 4)"
      ]
     },
     "execution_count": 68,
     "metadata": {},
     "output_type": "execute_result"
    }
   ],
   "source": [
    "menu_items.shape"
   ]
  },
  {
   "cell_type": "code",
   "execution_count": 69,
   "id": "9533b3bf",
   "metadata": {
    "execution": {
     "iopub.execute_input": "2025-10-01T14:08:38.038564Z",
     "iopub.status.busy": "2025-10-01T14:08:38.037835Z",
     "iopub.status.idle": "2025-10-01T14:08:38.047195Z",
     "shell.execute_reply": "2025-10-01T14:08:38.046291Z"
    },
    "papermill": {
     "duration": 0.024591,
     "end_time": "2025-10-01T14:08:38.048572",
     "exception": false,
     "start_time": "2025-10-01T14:08:38.023981",
     "status": "completed"
    },
    "tags": []
   },
   "outputs": [
    {
     "data": {
      "text/html": [
       "<div>\n",
       "<style scoped>\n",
       "    .dataframe tbody tr th:only-of-type {\n",
       "        vertical-align: middle;\n",
       "    }\n",
       "\n",
       "    .dataframe tbody tr th {\n",
       "        vertical-align: top;\n",
       "    }\n",
       "\n",
       "    .dataframe thead th {\n",
       "        text-align: right;\n",
       "    }\n",
       "</style>\n",
       "<table border=\"1\" class=\"dataframe\">\n",
       "  <thead>\n",
       "    <tr style=\"text-align: right;\">\n",
       "      <th></th>\n",
       "      <th>item_id</th>\n",
       "      <th>item_name</th>\n",
       "      <th>category</th>\n",
       "      <th>price</th>\n",
       "    </tr>\n",
       "  </thead>\n",
       "  <tbody>\n",
       "    <tr>\n",
       "      <th>0</th>\n",
       "      <td>1</td>\n",
       "      <td>Espresso</td>\n",
       "      <td>coffee</td>\n",
       "      <td>6.0</td>\n",
       "    </tr>\n",
       "    <tr>\n",
       "      <th>1</th>\n",
       "      <td>2</td>\n",
       "      <td>Americano</td>\n",
       "      <td>coffee</td>\n",
       "      <td>7.0</td>\n",
       "    </tr>\n",
       "    <tr>\n",
       "      <th>2</th>\n",
       "      <td>3</td>\n",
       "      <td>Latte</td>\n",
       "      <td>coffee</td>\n",
       "      <td>8.0</td>\n",
       "    </tr>\n",
       "    <tr>\n",
       "      <th>3</th>\n",
       "      <td>4</td>\n",
       "      <td>Cappuccino</td>\n",
       "      <td>coffee</td>\n",
       "      <td>8.0</td>\n",
       "    </tr>\n",
       "    <tr>\n",
       "      <th>4</th>\n",
       "      <td>5</td>\n",
       "      <td>Flat White</td>\n",
       "      <td>coffee</td>\n",
       "      <td>9.0</td>\n",
       "    </tr>\n",
       "    <tr>\n",
       "      <th>5</th>\n",
       "      <td>6</td>\n",
       "      <td>Mocha</td>\n",
       "      <td>coffee</td>\n",
       "      <td>9.5</td>\n",
       "    </tr>\n",
       "    <tr>\n",
       "      <th>6</th>\n",
       "      <td>7</td>\n",
       "      <td>Hot Chocolate</td>\n",
       "      <td>non-coffee</td>\n",
       "      <td>9.0</td>\n",
       "    </tr>\n",
       "    <tr>\n",
       "      <th>7</th>\n",
       "      <td>8</td>\n",
       "      <td>Matcha Latte</td>\n",
       "      <td>non-coffee</td>\n",
       "      <td>10.0</td>\n",
       "    </tr>\n",
       "  </tbody>\n",
       "</table>\n",
       "</div>"
      ],
      "text/plain": [
       "   item_id      item_name    category  price\n",
       "0        1       Espresso      coffee    6.0\n",
       "1        2      Americano      coffee    7.0\n",
       "2        3          Latte      coffee    8.0\n",
       "3        4     Cappuccino      coffee    8.0\n",
       "4        5     Flat White      coffee    9.0\n",
       "5        6          Mocha      coffee    9.5\n",
       "6        7  Hot Chocolate  non-coffee    9.0\n",
       "7        8   Matcha Latte  non-coffee   10.0"
      ]
     },
     "execution_count": 69,
     "metadata": {},
     "output_type": "execute_result"
    }
   ],
   "source": [
    "menu_items.head(10)"
   ]
  },
  {
   "cell_type": "markdown",
   "id": "3bc3abf0",
   "metadata": {
    "papermill": {
     "duration": 0.012829,
     "end_time": "2025-10-01T14:08:38.074593",
     "exception": false,
     "start_time": "2025-10-01T14:08:38.061764",
     "status": "completed"
    },
    "tags": []
   },
   "source": [
    "### Data Cast"
   ]
  },
  {
   "cell_type": "code",
   "execution_count": 70,
   "id": "5c1c98d3",
   "metadata": {
    "execution": {
     "iopub.execute_input": "2025-10-01T14:08:38.101573Z",
     "iopub.status.busy": "2025-10-01T14:08:38.101301Z",
     "iopub.status.idle": "2025-10-01T14:08:38.108724Z",
     "shell.execute_reply": "2025-10-01T14:08:38.107978Z"
    },
    "papermill": {
     "duration": 0.022778,
     "end_time": "2025-10-01T14:08:38.110120",
     "exception": false,
     "start_time": "2025-10-01T14:08:38.087342",
     "status": "completed"
    },
    "tags": []
   },
   "outputs": [],
   "source": [
    "# 1) Textos\n",
    "menu_items[\"item_name\"] = menu_items[\"item_name\"].astype(\"string\").str.strip()\n",
    "menu_items[\"category\"] = menu_items[\"category\"].astype(\"string\").str.strip()\n",
    "\n",
    "# 2) Numéricos\n",
    "menu_items[\"item_id\"] = pd.to_numeric(menu_items[\"item_id\"], errors=\"coerce\").astype(\"Int64\")\n",
    "\n",
    "menu_items[\"price\"] = pd.to_numeric(menu_items[\"price\"], errors=\"coerce\").astype(\"float64\")"
   ]
  },
  {
   "cell_type": "code",
   "execution_count": 71,
   "id": "b8e8cb32",
   "metadata": {
    "execution": {
     "iopub.execute_input": "2025-10-01T14:08:38.137202Z",
     "iopub.status.busy": "2025-10-01T14:08:38.136853Z",
     "iopub.status.idle": "2025-10-01T14:08:38.143246Z",
     "shell.execute_reply": "2025-10-01T14:08:38.142476Z"
    },
    "papermill": {
     "duration": 0.021444,
     "end_time": "2025-10-01T14:08:38.144518",
     "exception": false,
     "start_time": "2025-10-01T14:08:38.123074",
     "status": "completed"
    },
    "tags": []
   },
   "outputs": [
    {
     "data": {
      "text/plain": [
       "item_id               Int64\n",
       "item_name    string[python]\n",
       "category     string[python]\n",
       "price               float64\n",
       "dtype: object"
      ]
     },
     "execution_count": 71,
     "metadata": {},
     "output_type": "execute_result"
    }
   ],
   "source": [
    "menu_items.dtypes"
   ]
  },
  {
   "cell_type": "code",
   "execution_count": 72,
   "id": "1367ca87",
   "metadata": {
    "execution": {
     "iopub.execute_input": "2025-10-01T14:08:38.171475Z",
     "iopub.status.busy": "2025-10-01T14:08:38.170951Z",
     "iopub.status.idle": "2025-10-01T14:08:38.180808Z",
     "shell.execute_reply": "2025-10-01T14:08:38.179974Z"
    },
    "papermill": {
     "duration": 0.024729,
     "end_time": "2025-10-01T14:08:38.182169",
     "exception": false,
     "start_time": "2025-10-01T14:08:38.157440",
     "status": "completed"
    },
    "tags": []
   },
   "outputs": [
    {
     "data": {
      "text/html": [
       "<div>\n",
       "<style scoped>\n",
       "    .dataframe tbody tr th:only-of-type {\n",
       "        vertical-align: middle;\n",
       "    }\n",
       "\n",
       "    .dataframe tbody tr th {\n",
       "        vertical-align: top;\n",
       "    }\n",
       "\n",
       "    .dataframe thead th {\n",
       "        text-align: right;\n",
       "    }\n",
       "</style>\n",
       "<table border=\"1\" class=\"dataframe\">\n",
       "  <thead>\n",
       "    <tr style=\"text-align: right;\">\n",
       "      <th></th>\n",
       "      <th>item_id</th>\n",
       "      <th>item_name</th>\n",
       "      <th>category</th>\n",
       "      <th>price</th>\n",
       "    </tr>\n",
       "  </thead>\n",
       "  <tbody>\n",
       "    <tr>\n",
       "      <th>0</th>\n",
       "      <td>1</td>\n",
       "      <td>Espresso</td>\n",
       "      <td>coffee</td>\n",
       "      <td>6.0</td>\n",
       "    </tr>\n",
       "    <tr>\n",
       "      <th>1</th>\n",
       "      <td>2</td>\n",
       "      <td>Americano</td>\n",
       "      <td>coffee</td>\n",
       "      <td>7.0</td>\n",
       "    </tr>\n",
       "    <tr>\n",
       "      <th>2</th>\n",
       "      <td>3</td>\n",
       "      <td>Latte</td>\n",
       "      <td>coffee</td>\n",
       "      <td>8.0</td>\n",
       "    </tr>\n",
       "    <tr>\n",
       "      <th>3</th>\n",
       "      <td>4</td>\n",
       "      <td>Cappuccino</td>\n",
       "      <td>coffee</td>\n",
       "      <td>8.0</td>\n",
       "    </tr>\n",
       "    <tr>\n",
       "      <th>4</th>\n",
       "      <td>5</td>\n",
       "      <td>Flat White</td>\n",
       "      <td>coffee</td>\n",
       "      <td>9.0</td>\n",
       "    </tr>\n",
       "    <tr>\n",
       "      <th>5</th>\n",
       "      <td>6</td>\n",
       "      <td>Mocha</td>\n",
       "      <td>coffee</td>\n",
       "      <td>9.5</td>\n",
       "    </tr>\n",
       "    <tr>\n",
       "      <th>6</th>\n",
       "      <td>7</td>\n",
       "      <td>Hot Chocolate</td>\n",
       "      <td>non-coffee</td>\n",
       "      <td>9.0</td>\n",
       "    </tr>\n",
       "    <tr>\n",
       "      <th>7</th>\n",
       "      <td>8</td>\n",
       "      <td>Matcha Latte</td>\n",
       "      <td>non-coffee</td>\n",
       "      <td>10.0</td>\n",
       "    </tr>\n",
       "  </tbody>\n",
       "</table>\n",
       "</div>"
      ],
      "text/plain": [
       "   item_id      item_name    category  price\n",
       "0        1       Espresso      coffee    6.0\n",
       "1        2      Americano      coffee    7.0\n",
       "2        3          Latte      coffee    8.0\n",
       "3        4     Cappuccino      coffee    8.0\n",
       "4        5     Flat White      coffee    9.0\n",
       "5        6          Mocha      coffee    9.5\n",
       "6        7  Hot Chocolate  non-coffee    9.0\n",
       "7        8   Matcha Latte  non-coffee   10.0"
      ]
     },
     "execution_count": 72,
     "metadata": {},
     "output_type": "execute_result"
    }
   ],
   "source": [
    "menu_items.head(10)"
   ]
  },
  {
   "cell_type": "markdown",
   "id": "46b925f3",
   "metadata": {
    "papermill": {
     "duration": 0.01276,
     "end_time": "2025-10-01T14:08:38.208291",
     "exception": false,
     "start_time": "2025-10-01T14:08:38.195531",
     "status": "completed"
    },
    "tags": []
   },
   "source": [
    "## Stores"
   ]
  },
  {
   "cell_type": "code",
   "execution_count": 73,
   "id": "7a095259",
   "metadata": {
    "execution": {
     "iopub.execute_input": "2025-10-01T14:08:38.236608Z",
     "iopub.status.busy": "2025-10-01T14:08:38.235897Z",
     "iopub.status.idle": "2025-10-01T14:08:38.254255Z",
     "shell.execute_reply": "2025-10-01T14:08:38.253296Z"
    },
    "papermill": {
     "duration": 0.034193,
     "end_time": "2025-10-01T14:08:38.255704",
     "exception": false,
     "start_time": "2025-10-01T14:08:38.221511",
     "status": "completed"
    },
    "tags": []
   },
   "outputs": [
    {
     "data": {
      "text/html": [
       "<div>\n",
       "<style scoped>\n",
       "    .dataframe tbody tr th:only-of-type {\n",
       "        vertical-align: middle;\n",
       "    }\n",
       "\n",
       "    .dataframe tbody tr th {\n",
       "        vertical-align: top;\n",
       "    }\n",
       "\n",
       "    .dataframe thead th {\n",
       "        text-align: right;\n",
       "    }\n",
       "</style>\n",
       "<table border=\"1\" class=\"dataframe\">\n",
       "  <thead>\n",
       "    <tr style=\"text-align: right;\">\n",
       "      <th></th>\n",
       "      <th>store_id</th>\n",
       "      <th>store_name</th>\n",
       "      <th>street</th>\n",
       "      <th>postal_code</th>\n",
       "      <th>city</th>\n",
       "      <th>state</th>\n",
       "      <th>latitude</th>\n",
       "      <th>longitude</th>\n",
       "    </tr>\n",
       "  </thead>\n",
       "  <tbody>\n",
       "  </tbody>\n",
       "</table>\n",
       "</div>"
      ],
      "text/plain": [
       "Empty DataFrame\n",
       "Columns: [store_id, store_name, street, postal_code, city, state, latitude, longitude]\n",
       "Index: []"
      ]
     },
     "execution_count": 73,
     "metadata": {},
     "output_type": "execute_result"
    }
   ],
   "source": [
    "# columnas a DESCARTAR (0-based)\n",
    "drop_idx = {2, 3, 6, 7}\n",
    "# obtenemos cantidad de columnas leyendo solo el header\n",
    "sample = pd.read_csv('../client/data/stores/stores.csv', nrows=0)\n",
    "keep_idx = [i for i in range(sample.shape[1]) if i not in drop_idx]\n",
    "sample"
   ]
  },
  {
   "cell_type": "code",
   "execution_count": 74,
   "id": "3b9d9faa",
   "metadata": {
    "execution": {
     "iopub.execute_input": "2025-10-01T14:08:38.284128Z",
     "iopub.status.busy": "2025-10-01T14:08:38.283460Z",
     "iopub.status.idle": "2025-10-01T14:08:38.289764Z",
     "shell.execute_reply": "2025-10-01T14:08:38.288998Z"
    },
    "papermill": {
     "duration": 0.021893,
     "end_time": "2025-10-01T14:08:38.291199",
     "exception": false,
     "start_time": "2025-10-01T14:08:38.269306",
     "status": "completed"
    },
    "tags": []
   },
   "outputs": [],
   "source": [
    "stores = pd.read_csv('../client/data/stores/stores.csv', usecols=keep_idx, low_memory=False)\n"
   ]
  },
  {
   "cell_type": "code",
   "execution_count": 75,
   "id": "8217f105",
   "metadata": {
    "execution": {
     "iopub.execute_input": "2025-10-01T14:08:38.320725Z",
     "iopub.status.busy": "2025-10-01T14:08:38.320021Z",
     "iopub.status.idle": "2025-10-01T14:08:38.325972Z",
     "shell.execute_reply": "2025-10-01T14:08:38.324886Z"
    },
    "papermill": {
     "duration": 0.022121,
     "end_time": "2025-10-01T14:08:38.327579",
     "exception": false,
     "start_time": "2025-10-01T14:08:38.305458",
     "status": "completed"
    },
    "tags": []
   },
   "outputs": [
    {
     "data": {
      "text/plain": [
       "(10, 4)"
      ]
     },
     "execution_count": 75,
     "metadata": {},
     "output_type": "execute_result"
    }
   ],
   "source": [
    "stores.shape"
   ]
  },
  {
   "cell_type": "code",
   "execution_count": 76,
   "id": "1f535935",
   "metadata": {
    "execution": {
     "iopub.execute_input": "2025-10-01T14:08:38.358419Z",
     "iopub.status.busy": "2025-10-01T14:08:38.358131Z",
     "iopub.status.idle": "2025-10-01T14:08:38.367866Z",
     "shell.execute_reply": "2025-10-01T14:08:38.367021Z"
    },
    "papermill": {
     "duration": 0.025829,
     "end_time": "2025-10-01T14:08:38.369388",
     "exception": false,
     "start_time": "2025-10-01T14:08:38.343559",
     "status": "completed"
    },
    "tags": []
   },
   "outputs": [
    {
     "data": {
      "text/html": [
       "<div>\n",
       "<style scoped>\n",
       "    .dataframe tbody tr th:only-of-type {\n",
       "        vertical-align: middle;\n",
       "    }\n",
       "\n",
       "    .dataframe tbody tr th {\n",
       "        vertical-align: top;\n",
       "    }\n",
       "\n",
       "    .dataframe thead th {\n",
       "        text-align: right;\n",
       "    }\n",
       "</style>\n",
       "<table border=\"1\" class=\"dataframe\">\n",
       "  <thead>\n",
       "    <tr style=\"text-align: right;\">\n",
       "      <th></th>\n",
       "      <th>store_id</th>\n",
       "      <th>store_name</th>\n",
       "      <th>city</th>\n",
       "      <th>state</th>\n",
       "    </tr>\n",
       "  </thead>\n",
       "  <tbody>\n",
       "    <tr>\n",
       "      <th>0</th>\n",
       "      <td>1</td>\n",
       "      <td>G Coffee @ USJ 89q</td>\n",
       "      <td>USJ 89q</td>\n",
       "      <td>Kuala Lumpur</td>\n",
       "    </tr>\n",
       "    <tr>\n",
       "      <th>1</th>\n",
       "      <td>2</td>\n",
       "      <td>G Coffee @ Kondominium Putra</td>\n",
       "      <td>Kondominium Putra</td>\n",
       "      <td>Selangor Darul Ehsan</td>\n",
       "    </tr>\n",
       "    <tr>\n",
       "      <th>2</th>\n",
       "      <td>3</td>\n",
       "      <td>G Coffee @ USJ 57W</td>\n",
       "      <td>USJ 57W</td>\n",
       "      <td>Putrajaya</td>\n",
       "    </tr>\n",
       "    <tr>\n",
       "      <th>3</th>\n",
       "      <td>4</td>\n",
       "      <td>G Coffee @ Kampung Changkat</td>\n",
       "      <td>Kampung Changkat</td>\n",
       "      <td>Putrajaya</td>\n",
       "    </tr>\n",
       "    <tr>\n",
       "      <th>4</th>\n",
       "      <td>5</td>\n",
       "      <td>G Coffee @ Seksyen 21</td>\n",
       "      <td>Seksyen 21</td>\n",
       "      <td>Putrajaya</td>\n",
       "    </tr>\n",
       "    <tr>\n",
       "      <th>5</th>\n",
       "      <td>6</td>\n",
       "      <td>G Coffee @ Alam Tun Hussein Onn</td>\n",
       "      <td>Alam Tun Hussein Onn</td>\n",
       "      <td>Selangor Darul Ehsan</td>\n",
       "    </tr>\n",
       "    <tr>\n",
       "      <th>6</th>\n",
       "      <td>7</td>\n",
       "      <td>G Coffee @ Damansara Saujana</td>\n",
       "      <td>Damansara Saujana</td>\n",
       "      <td>Selangor Darul Ehsan</td>\n",
       "    </tr>\n",
       "    <tr>\n",
       "      <th>7</th>\n",
       "      <td>8</td>\n",
       "      <td>G Coffee @ Bandar Seri Mulia</td>\n",
       "      <td>Bandar Seri Mulia</td>\n",
       "      <td>Kuala Lumpur</td>\n",
       "    </tr>\n",
       "    <tr>\n",
       "      <th>8</th>\n",
       "      <td>9</td>\n",
       "      <td>G Coffee @ PJS8</td>\n",
       "      <td>PJS8</td>\n",
       "      <td>Putrajaya</td>\n",
       "    </tr>\n",
       "    <tr>\n",
       "      <th>9</th>\n",
       "      <td>10</td>\n",
       "      <td>G Coffee @ Taman Damansara</td>\n",
       "      <td>Taman Damansara</td>\n",
       "      <td>Selangor Darul Ehsan</td>\n",
       "    </tr>\n",
       "  </tbody>\n",
       "</table>\n",
       "</div>"
      ],
      "text/plain": [
       "   store_id                       store_name                  city  \\\n",
       "0         1               G Coffee @ USJ 89q               USJ 89q   \n",
       "1         2     G Coffee @ Kondominium Putra     Kondominium Putra   \n",
       "2         3               G Coffee @ USJ 57W               USJ 57W   \n",
       "3         4      G Coffee @ Kampung Changkat      Kampung Changkat   \n",
       "4         5            G Coffee @ Seksyen 21            Seksyen 21   \n",
       "5         6  G Coffee @ Alam Tun Hussein Onn  Alam Tun Hussein Onn   \n",
       "6         7     G Coffee @ Damansara Saujana     Damansara Saujana   \n",
       "7         8     G Coffee @ Bandar Seri Mulia     Bandar Seri Mulia   \n",
       "8         9                  G Coffee @ PJS8                  PJS8   \n",
       "9        10       G Coffee @ Taman Damansara       Taman Damansara   \n",
       "\n",
       "                  state  \n",
       "0          Kuala Lumpur  \n",
       "1  Selangor Darul Ehsan  \n",
       "2             Putrajaya  \n",
       "3             Putrajaya  \n",
       "4             Putrajaya  \n",
       "5  Selangor Darul Ehsan  \n",
       "6  Selangor Darul Ehsan  \n",
       "7          Kuala Lumpur  \n",
       "8             Putrajaya  \n",
       "9  Selangor Darul Ehsan  "
      ]
     },
     "execution_count": 76,
     "metadata": {},
     "output_type": "execute_result"
    }
   ],
   "source": [
    "stores.head(15)"
   ]
  },
  {
   "cell_type": "markdown",
   "id": "e8dedaaf",
   "metadata": {
    "papermill": {
     "duration": 0.013082,
     "end_time": "2025-10-01T14:08:38.396603",
     "exception": false,
     "start_time": "2025-10-01T14:08:38.383521",
     "status": "completed"
    },
    "tags": []
   },
   "source": [
    "### Data Cast"
   ]
  },
  {
   "cell_type": "code",
   "execution_count": 77,
   "id": "13c2b249",
   "metadata": {
    "execution": {
     "iopub.execute_input": "2025-10-01T14:08:38.424810Z",
     "iopub.status.busy": "2025-10-01T14:08:38.424495Z",
     "iopub.status.idle": "2025-10-01T14:08:38.432517Z",
     "shell.execute_reply": "2025-10-01T14:08:38.431714Z"
    },
    "papermill": {
     "duration": 0.023878,
     "end_time": "2025-10-01T14:08:38.434122",
     "exception": false,
     "start_time": "2025-10-01T14:08:38.410244",
     "status": "completed"
    },
    "tags": []
   },
   "outputs": [],
   "source": [
    "# 1) Textos\n",
    "stores[\"store_name\"] = stores[\"store_name\"].astype(\"string\").str.strip()\n",
    "stores[\"city\"] = stores[\"city\"].astype(\"string\").str.strip()\n",
    "stores[\"state\"] = stores[\"state\"].astype(\"string\").str.strip()\n",
    "\n",
    "# 2) Numéricos\n",
    "stores[\"store_id\"] = pd.to_numeric(stores[\"store_id\"], errors=\"coerce\").astype(\"Int64\")"
   ]
  },
  {
   "cell_type": "code",
   "execution_count": 78,
   "id": "790e35e8",
   "metadata": {
    "execution": {
     "iopub.execute_input": "2025-10-01T14:08:38.463420Z",
     "iopub.status.busy": "2025-10-01T14:08:38.462262Z",
     "iopub.status.idle": "2025-10-01T14:08:38.469090Z",
     "shell.execute_reply": "2025-10-01T14:08:38.468250Z"
    },
    "papermill": {
     "duration": 0.022709,
     "end_time": "2025-10-01T14:08:38.470547",
     "exception": false,
     "start_time": "2025-10-01T14:08:38.447838",
     "status": "completed"
    },
    "tags": []
   },
   "outputs": [
    {
     "data": {
      "text/plain": [
       "store_id               Int64\n",
       "store_name    string[python]\n",
       "city          string[python]\n",
       "state         string[python]\n",
       "dtype: object"
      ]
     },
     "execution_count": 78,
     "metadata": {},
     "output_type": "execute_result"
    }
   ],
   "source": [
    "stores.dtypes"
   ]
  },
  {
   "cell_type": "code",
   "execution_count": 79,
   "id": "29787e42",
   "metadata": {
    "execution": {
     "iopub.execute_input": "2025-10-01T14:08:38.499943Z",
     "iopub.status.busy": "2025-10-01T14:08:38.499646Z",
     "iopub.status.idle": "2025-10-01T14:08:38.509455Z",
     "shell.execute_reply": "2025-10-01T14:08:38.508679Z"
    },
    "papermill": {
     "duration": 0.02632,
     "end_time": "2025-10-01T14:08:38.510814",
     "exception": false,
     "start_time": "2025-10-01T14:08:38.484494",
     "status": "completed"
    },
    "tags": []
   },
   "outputs": [
    {
     "data": {
      "text/html": [
       "<div>\n",
       "<style scoped>\n",
       "    .dataframe tbody tr th:only-of-type {\n",
       "        vertical-align: middle;\n",
       "    }\n",
       "\n",
       "    .dataframe tbody tr th {\n",
       "        vertical-align: top;\n",
       "    }\n",
       "\n",
       "    .dataframe thead th {\n",
       "        text-align: right;\n",
       "    }\n",
       "</style>\n",
       "<table border=\"1\" class=\"dataframe\">\n",
       "  <thead>\n",
       "    <tr style=\"text-align: right;\">\n",
       "      <th></th>\n",
       "      <th>store_id</th>\n",
       "      <th>store_name</th>\n",
       "      <th>city</th>\n",
       "      <th>state</th>\n",
       "    </tr>\n",
       "  </thead>\n",
       "  <tbody>\n",
       "    <tr>\n",
       "      <th>0</th>\n",
       "      <td>1</td>\n",
       "      <td>G Coffee @ USJ 89q</td>\n",
       "      <td>USJ 89q</td>\n",
       "      <td>Kuala Lumpur</td>\n",
       "    </tr>\n",
       "    <tr>\n",
       "      <th>1</th>\n",
       "      <td>2</td>\n",
       "      <td>G Coffee @ Kondominium Putra</td>\n",
       "      <td>Kondominium Putra</td>\n",
       "      <td>Selangor Darul Ehsan</td>\n",
       "    </tr>\n",
       "    <tr>\n",
       "      <th>2</th>\n",
       "      <td>3</td>\n",
       "      <td>G Coffee @ USJ 57W</td>\n",
       "      <td>USJ 57W</td>\n",
       "      <td>Putrajaya</td>\n",
       "    </tr>\n",
       "    <tr>\n",
       "      <th>3</th>\n",
       "      <td>4</td>\n",
       "      <td>G Coffee @ Kampung Changkat</td>\n",
       "      <td>Kampung Changkat</td>\n",
       "      <td>Putrajaya</td>\n",
       "    </tr>\n",
       "    <tr>\n",
       "      <th>4</th>\n",
       "      <td>5</td>\n",
       "      <td>G Coffee @ Seksyen 21</td>\n",
       "      <td>Seksyen 21</td>\n",
       "      <td>Putrajaya</td>\n",
       "    </tr>\n",
       "    <tr>\n",
       "      <th>5</th>\n",
       "      <td>6</td>\n",
       "      <td>G Coffee @ Alam Tun Hussein Onn</td>\n",
       "      <td>Alam Tun Hussein Onn</td>\n",
       "      <td>Selangor Darul Ehsan</td>\n",
       "    </tr>\n",
       "    <tr>\n",
       "      <th>6</th>\n",
       "      <td>7</td>\n",
       "      <td>G Coffee @ Damansara Saujana</td>\n",
       "      <td>Damansara Saujana</td>\n",
       "      <td>Selangor Darul Ehsan</td>\n",
       "    </tr>\n",
       "    <tr>\n",
       "      <th>7</th>\n",
       "      <td>8</td>\n",
       "      <td>G Coffee @ Bandar Seri Mulia</td>\n",
       "      <td>Bandar Seri Mulia</td>\n",
       "      <td>Kuala Lumpur</td>\n",
       "    </tr>\n",
       "    <tr>\n",
       "      <th>8</th>\n",
       "      <td>9</td>\n",
       "      <td>G Coffee @ PJS8</td>\n",
       "      <td>PJS8</td>\n",
       "      <td>Putrajaya</td>\n",
       "    </tr>\n",
       "    <tr>\n",
       "      <th>9</th>\n",
       "      <td>10</td>\n",
       "      <td>G Coffee @ Taman Damansara</td>\n",
       "      <td>Taman Damansara</td>\n",
       "      <td>Selangor Darul Ehsan</td>\n",
       "    </tr>\n",
       "  </tbody>\n",
       "</table>\n",
       "</div>"
      ],
      "text/plain": [
       "   store_id                       store_name                  city  \\\n",
       "0         1               G Coffee @ USJ 89q               USJ 89q   \n",
       "1         2     G Coffee @ Kondominium Putra     Kondominium Putra   \n",
       "2         3               G Coffee @ USJ 57W               USJ 57W   \n",
       "3         4      G Coffee @ Kampung Changkat      Kampung Changkat   \n",
       "4         5            G Coffee @ Seksyen 21            Seksyen 21   \n",
       "5         6  G Coffee @ Alam Tun Hussein Onn  Alam Tun Hussein Onn   \n",
       "6         7     G Coffee @ Damansara Saujana     Damansara Saujana   \n",
       "7         8     G Coffee @ Bandar Seri Mulia     Bandar Seri Mulia   \n",
       "8         9                  G Coffee @ PJS8                  PJS8   \n",
       "9        10       G Coffee @ Taman Damansara       Taman Damansara   \n",
       "\n",
       "                  state  \n",
       "0          Kuala Lumpur  \n",
       "1  Selangor Darul Ehsan  \n",
       "2             Putrajaya  \n",
       "3             Putrajaya  \n",
       "4             Putrajaya  \n",
       "5  Selangor Darul Ehsan  \n",
       "6  Selangor Darul Ehsan  \n",
       "7          Kuala Lumpur  \n",
       "8             Putrajaya  \n",
       "9  Selangor Darul Ehsan  "
      ]
     },
     "execution_count": 79,
     "metadata": {},
     "output_type": "execute_result"
    }
   ],
   "source": [
    "stores.head(10)"
   ]
  },
  {
   "cell_type": "markdown",
   "id": "ae0ff76d",
   "metadata": {
    "papermill": {
     "duration": 0.013606,
     "end_time": "2025-10-01T14:08:38.538312",
     "exception": false,
     "start_time": "2025-10-01T14:08:38.524706",
     "status": "completed"
    },
    "tags": []
   },
   "source": [
    "# Queries Definitions"
   ]
  },
  {
   "cell_type": "code",
   "execution_count": 80,
   "id": "19fcba99",
   "metadata": {},
   "outputs": [],
   "source": [
    "# 3) Guardar a /kaggle/working/results (descargable)\n",
    "OUTDIR = \"data/kaggle\"\n",
    "os.makedirs(OUTDIR, exist_ok=True)\n",
    "\n",
    "# Opción A: NDJSON (compatible con tu script de comparación)\n",
    "ndjson_path = f\"{OUTDIR}/results-test-case.ndjson\""
   ]
  },
  {
   "cell_type": "code",
   "execution_count": 81,
   "id": "ac4df9dd",
   "metadata": {},
   "outputs": [],
   "source": [
    "def reset_results():\n",
    "    \"\"\"Útil si vas a re-ejecutar todo y querés empezar de cero.\"\"\"\n",
    "    if os.path.exists(ndjson_path):\n",
    "        os.remove(ndjson_path)"
   ]
  },
  {
   "cell_type": "markdown",
   "id": "50059c38",
   "metadata": {
    "papermill": {
     "duration": 0.013412,
     "end_time": "2025-10-01T14:08:38.565716",
     "exception": false,
     "start_time": "2025-10-01T14:08:38.552304",
     "status": "completed"
    },
    "tags": []
   },
   "source": [
    "1. Transactions (Id and amount) of 2024 and 2025 created between 06:00 AM and 11:00 PM with amount greater or equals to 75."
   ]
  },
  {
   "cell_type": "code",
   "execution_count": 82,
   "id": "76b1a0e2",
   "metadata": {},
   "outputs": [],
   "source": [
    "\n",
    "def append_ndjson(df):\n",
    "    \"\"\"Agrega filas de df al NDJSON global sin pisar lo anterior.\"\"\"\n",
    "    if df is None or df.empty:\n",
    "        return\n",
    "    with open(ndjson_path, \"a\", encoding=\"utf-8\") as f:\n",
    "        # pandas escribe en 'lines' (una línea por registro) al file handle abierto en 'a'\n",
    "        df.to_json(f, orient=\"records\", lines=True, force_ascii=False)"
   ]
  },
  {
   "cell_type": "code",
   "execution_count": 83,
   "id": "d33ec370",
   "metadata": {
    "execution": {
     "iopub.execute_input": "2025-10-01T14:08:38.594156Z",
     "iopub.status.busy": "2025-10-01T14:08:38.593810Z",
     "iopub.status.idle": "2025-10-01T14:08:38.851259Z",
     "shell.execute_reply": "2025-10-01T14:08:38.850469Z"
    },
    "papermill": {
     "duration": 0.273527,
     "end_time": "2025-10-01T14:08:38.852821",
     "exception": false,
     "start_time": "2025-10-01T14:08:38.579294",
     "status": "completed"
    },
    "tags": []
   },
   "outputs": [
    {
     "data": {
      "text/html": [
       "<div>\n",
       "<style scoped>\n",
       "    .dataframe tbody tr th:only-of-type {\n",
       "        vertical-align: middle;\n",
       "    }\n",
       "\n",
       "    .dataframe tbody tr th {\n",
       "        vertical-align: top;\n",
       "    }\n",
       "\n",
       "    .dataframe thead th {\n",
       "        text-align: right;\n",
       "    }\n",
       "</style>\n",
       "<table border=\"1\" class=\"dataframe\">\n",
       "  <thead>\n",
       "    <tr style=\"text-align: right;\">\n",
       "      <th></th>\n",
       "      <th>transaction_id</th>\n",
       "      <th>final_amount</th>\n",
       "    </tr>\n",
       "  </thead>\n",
       "  <tbody>\n",
       "    <tr>\n",
       "      <th>423654</th>\n",
       "      <td>000350e9-393c-4383-bf83-f67d46241e76</td>\n",
       "      <td>77.0</td>\n",
       "    </tr>\n",
       "    <tr>\n",
       "      <th>591645</th>\n",
       "      <td>000cace1-775e-42dc-b584-5df1f9dafcac</td>\n",
       "      <td>81.0</td>\n",
       "    </tr>\n",
       "    <tr>\n",
       "      <th>185384</th>\n",
       "      <td>0013677d-26ea-4515-b8a2-695fe4ca8e30</td>\n",
       "      <td>75.5</td>\n",
       "    </tr>\n",
       "    <tr>\n",
       "      <th>649014</th>\n",
       "      <td>0016244a-40cf-47ba-bc51-9a4919a03518</td>\n",
       "      <td>75.0</td>\n",
       "    </tr>\n",
       "    <tr>\n",
       "      <th>943345</th>\n",
       "      <td>0018c79c-bfec-4c83-90ad-50a898900a75</td>\n",
       "      <td>76.5</td>\n",
       "    </tr>\n",
       "    <tr>\n",
       "      <th>615857</th>\n",
       "      <td>001f2f40-0480-4286-9e9f-fb1c31be832d</td>\n",
       "      <td>84.0</td>\n",
       "    </tr>\n",
       "    <tr>\n",
       "      <th>759484</th>\n",
       "      <td>00257854-385b-4dee-b2c5-9da1ea491c32</td>\n",
       "      <td>87.0</td>\n",
       "    </tr>\n",
       "    <tr>\n",
       "      <th>285800</th>\n",
       "      <td>002a0ab8-c3d1-4160-9ff4-d785fde2bb43</td>\n",
       "      <td>84.0</td>\n",
       "    </tr>\n",
       "    <tr>\n",
       "      <th>363676</th>\n",
       "      <td>002dbd5e-fc8d-433f-9361-a9c56602896d</td>\n",
       "      <td>82.5</td>\n",
       "    </tr>\n",
       "    <tr>\n",
       "      <th>683821</th>\n",
       "      <td>0035bcaa-076f-45b3-a053-511e11fcfce3</td>\n",
       "      <td>79.5</td>\n",
       "    </tr>\n",
       "  </tbody>\n",
       "</table>\n",
       "</div>"
      ],
      "text/plain": [
       "                              transaction_id  final_amount\n",
       "423654  000350e9-393c-4383-bf83-f67d46241e76          77.0\n",
       "591645  000cace1-775e-42dc-b584-5df1f9dafcac          81.0\n",
       "185384  0013677d-26ea-4515-b8a2-695fe4ca8e30          75.5\n",
       "649014  0016244a-40cf-47ba-bc51-9a4919a03518          75.0\n",
       "943345  0018c79c-bfec-4c83-90ad-50a898900a75          76.5\n",
       "615857  001f2f40-0480-4286-9e9f-fb1c31be832d          84.0\n",
       "759484  00257854-385b-4dee-b2c5-9da1ea491c32          87.0\n",
       "285800  002a0ab8-c3d1-4160-9ff4-d785fde2bb43          84.0\n",
       "363676  002dbd5e-fc8d-433f-9361-a9c56602896d          82.5\n",
       "683821  0035bcaa-076f-45b3-a053-511e11fcfce3          79.5"
      ]
     },
     "metadata": {},
     "output_type": "display_data"
    }
   ],
   "source": [
    "q1_transactions_6_to_23_hours = transactions.set_index('created_at').between_time(\"6:00\",\"23:00\")\n",
    "q1_transactions_6_to_23_hours.reset_index(inplace=True) \n",
    "q1_transactions_6_to_23_hours_gt_15 = q1_transactions_6_to_23_hours[q1_transactions_6_to_23_hours[\"final_amount\"] >= 75]\n",
    "results = q1_transactions_6_to_23_hours_gt_15[[\"transaction_id\", \"final_amount\"]].sort_values(by=[\"transaction_id\"]).head(10)\n",
    "df_out = (\n",
    "    q1_transactions_6_to_23_hours_gt_15[[\"transaction_id\", \"final_amount\"]]\n",
    "    .sort_values(by=\"transaction_id\")\n",
    "    .assign(qId=\"q1\")  # para que tu comparador lo reconozca\n",
    ")[[\"qId\",\"transaction_id\",\"final_amount\"]]\n",
    "append_ndjson(df_out)\n",
    "display(results)"
   ]
  },
  {
   "cell_type": "markdown",
   "id": "e4edc1bd",
   "metadata": {
    "papermill": {
     "duration": 0.014358,
     "end_time": "2025-10-01T14:08:38.881602",
     "exception": false,
     "start_time": "2025-10-01T14:08:38.867244",
     "status": "completed"
    },
    "tags": []
   },
   "source": [
    "2. Best-selling products (name and quantity) and products that generated the biggest profits (name and profit), for each month of 2024 and 2025. "
   ]
  },
  {
   "cell_type": "code",
   "execution_count": 84,
   "id": "b00a59a7",
   "metadata": {
    "execution": {
     "iopub.execute_input": "2025-10-01T14:08:38.911192Z",
     "iopub.status.busy": "2025-10-01T14:08:38.910804Z",
     "iopub.status.idle": "2025-10-01T14:08:49.360511Z",
     "shell.execute_reply": "2025-10-01T14:08:49.359694Z"
    },
    "papermill": {
     "duration": 10.466684,
     "end_time": "2025-10-01T14:08:49.362277",
     "exception": false,
     "start_time": "2025-10-01T14:08:38.895593",
     "status": "completed"
    },
    "tags": []
   },
   "outputs": [],
   "source": [
    "transaction_items = pd.concat([transactions_items_2024, transactions_items_2025], ignore_index=True)\n",
    "transaction_items[\"year_month_created_at\"] = transaction_items[\"created_at\"].dt.strftime(\"%Y-%m\")\n",
    "transaction_items_by_year_month = transaction_items.groupby([\"year_month_created_at\", \"item_id\"])\n",
    "menu_items_names_only = menu_items[[\"item_id\", \"item_name\"]]"
   ]
  },
  {
   "cell_type": "code",
   "execution_count": 85,
   "id": "8703c2c5",
   "metadata": {
    "execution": {
     "iopub.execute_input": "2025-10-01T14:08:49.393748Z",
     "iopub.status.busy": "2025-10-01T14:08:49.393034Z",
     "iopub.status.idle": "2025-10-01T14:08:49.706905Z",
     "shell.execute_reply": "2025-10-01T14:08:49.706086Z"
    },
    "papermill": {
     "duration": 0.330177,
     "end_time": "2025-10-01T14:08:49.708540",
     "exception": false,
     "start_time": "2025-10-01T14:08:49.378363",
     "status": "completed"
    },
    "tags": []
   },
   "outputs": [
    {
     "data": {
      "text/html": [
       "<div>\n",
       "<style scoped>\n",
       "    .dataframe tbody tr th:only-of-type {\n",
       "        vertical-align: middle;\n",
       "    }\n",
       "\n",
       "    .dataframe tbody tr th {\n",
       "        vertical-align: top;\n",
       "    }\n",
       "\n",
       "    .dataframe thead th {\n",
       "        text-align: right;\n",
       "    }\n",
       "</style>\n",
       "<table border=\"1\" class=\"dataframe\">\n",
       "  <thead>\n",
       "    <tr style=\"text-align: right;\">\n",
       "      <th></th>\n",
       "      <th>year_month_created_at</th>\n",
       "      <th>item_name</th>\n",
       "      <th>sellings_qty</th>\n",
       "    </tr>\n",
       "  </thead>\n",
       "  <tbody>\n",
       "    <tr>\n",
       "      <th>0</th>\n",
       "      <td>2023-07</td>\n",
       "      <td>Hot Chocolate</td>\n",
       "      <td>311158</td>\n",
       "    </tr>\n",
       "    <tr>\n",
       "      <th>1</th>\n",
       "      <td>2024-01</td>\n",
       "      <td>Mocha</td>\n",
       "      <td>25435</td>\n",
       "    </tr>\n",
       "    <tr>\n",
       "      <th>2</th>\n",
       "      <td>2024-02</td>\n",
       "      <td>Mocha</td>\n",
       "      <td>25961</td>\n",
       "    </tr>\n",
       "    <tr>\n",
       "      <th>3</th>\n",
       "      <td>2024-11</td>\n",
       "      <td>Flat White</td>\n",
       "      <td>21988</td>\n",
       "    </tr>\n",
       "    <tr>\n",
       "      <th>4</th>\n",
       "      <td>2024-12</td>\n",
       "      <td>Matcha Latte</td>\n",
       "      <td>56969</td>\n",
       "    </tr>\n",
       "    <tr>\n",
       "      <th>5</th>\n",
       "      <td>2025-01</td>\n",
       "      <td>Latte</td>\n",
       "      <td>43438</td>\n",
       "    </tr>\n",
       "    <tr>\n",
       "      <th>6</th>\n",
       "      <td>2025-02</td>\n",
       "      <td>Americano</td>\n",
       "      <td>55652</td>\n",
       "    </tr>\n",
       "    <tr>\n",
       "      <th>7</th>\n",
       "      <td>2025-05</td>\n",
       "      <td>Mocha</td>\n",
       "      <td>55824</td>\n",
       "    </tr>\n",
       "    <tr>\n",
       "      <th>8</th>\n",
       "      <td>2025-06</td>\n",
       "      <td>Matcha Latte</td>\n",
       "      <td>40410</td>\n",
       "    </tr>\n",
       "  </tbody>\n",
       "</table>\n",
       "</div>"
      ],
      "text/plain": [
       "  year_month_created_at      item_name  sellings_qty\n",
       "0               2023-07  Hot Chocolate        311158\n",
       "1               2024-01          Mocha         25435\n",
       "2               2024-02          Mocha         25961\n",
       "3               2024-11     Flat White         21988\n",
       "4               2024-12   Matcha Latte         56969\n",
       "5               2025-01          Latte         43438\n",
       "6               2025-02      Americano         55652\n",
       "7               2025-05          Mocha         55824\n",
       "8               2025-06   Matcha Latte         40410"
      ]
     },
     "metadata": {},
     "output_type": "display_data"
    },
    {
     "data": {
      "text/html": [
       "<div>\n",
       "<style scoped>\n",
       "    .dataframe tbody tr th:only-of-type {\n",
       "        vertical-align: middle;\n",
       "    }\n",
       "\n",
       "    .dataframe tbody tr th {\n",
       "        vertical-align: top;\n",
       "    }\n",
       "\n",
       "    .dataframe thead th {\n",
       "        text-align: right;\n",
       "    }\n",
       "</style>\n",
       "<table border=\"1\" class=\"dataframe\">\n",
       "  <thead>\n",
       "    <tr style=\"text-align: right;\">\n",
       "      <th></th>\n",
       "      <th>year_month_created_at</th>\n",
       "      <th>item_name</th>\n",
       "      <th>profit_sum</th>\n",
       "    </tr>\n",
       "  </thead>\n",
       "  <tbody>\n",
       "    <tr>\n",
       "      <th>0</th>\n",
       "      <td>2023-07</td>\n",
       "      <td>Matcha Latte</td>\n",
       "      <td>3096490.0</td>\n",
       "    </tr>\n",
       "    <tr>\n",
       "      <th>1</th>\n",
       "      <td>2024-01</td>\n",
       "      <td>Matcha Latte</td>\n",
       "      <td>253940.0</td>\n",
       "    </tr>\n",
       "    <tr>\n",
       "      <th>2</th>\n",
       "      <td>2024-02</td>\n",
       "      <td>Matcha Latte</td>\n",
       "      <td>253700.0</td>\n",
       "    </tr>\n",
       "    <tr>\n",
       "      <th>3</th>\n",
       "      <td>2024-11</td>\n",
       "      <td>Matcha Latte</td>\n",
       "      <td>215260.0</td>\n",
       "    </tr>\n",
       "    <tr>\n",
       "      <th>4</th>\n",
       "      <td>2024-12</td>\n",
       "      <td>Matcha Latte</td>\n",
       "      <td>569690.0</td>\n",
       "    </tr>\n",
       "    <tr>\n",
       "      <th>5</th>\n",
       "      <td>2025-01</td>\n",
       "      <td>Matcha Latte</td>\n",
       "      <td>429560.0</td>\n",
       "    </tr>\n",
       "    <tr>\n",
       "      <th>6</th>\n",
       "      <td>2025-02</td>\n",
       "      <td>Matcha Latte</td>\n",
       "      <td>548630.0</td>\n",
       "    </tr>\n",
       "    <tr>\n",
       "      <th>7</th>\n",
       "      <td>2025-05</td>\n",
       "      <td>Matcha Latte</td>\n",
       "      <td>546980.0</td>\n",
       "    </tr>\n",
       "    <tr>\n",
       "      <th>8</th>\n",
       "      <td>2025-06</td>\n",
       "      <td>Matcha Latte</td>\n",
       "      <td>404100.0</td>\n",
       "    </tr>\n",
       "  </tbody>\n",
       "</table>\n",
       "</div>"
      ],
      "text/plain": [
       "  year_month_created_at     item_name  profit_sum\n",
       "0               2023-07  Matcha Latte   3096490.0\n",
       "1               2024-01  Matcha Latte    253940.0\n",
       "2               2024-02  Matcha Latte    253700.0\n",
       "3               2024-11  Matcha Latte    215260.0\n",
       "4               2024-12  Matcha Latte    569690.0\n",
       "5               2025-01  Matcha Latte    429560.0\n",
       "6               2025-02  Matcha Latte    548630.0\n",
       "7               2025-05  Matcha Latte    546980.0\n",
       "8               2025-06  Matcha Latte    404100.0"
      ]
     },
     "metadata": {},
     "output_type": "display_data"
    }
   ],
   "source": [
    "#q2_groups_with_quantity = transaction_items_by_year_month[\"transaction_id\"].nunique().reset_index(drop=False).rename(columns={\"transaction_id\":\"sellings_qty\"})\n",
    "#q2_best_selling = q2_groups_with_quantity.sort_values(by=[\"year_month_created_at\", \"sellings_qty\"], ascending=[True, False]).groupby([\"year_month_created_at\"]).head(1)\n",
    "q2_groups_with_quantity = transaction_items_by_year_month[\"quantity\"].sum().reset_index(drop= False).rename(columns={\"quantity\": \"sellings_qty\"})\n",
    "q2_best_selling = q2_groups_with_quantity.sort_values(by=[\"year_month_created_at\", \"sellings_qty\"], ascending=[True, False]).groupby([\"year_month_created_at\"]).head(1)\n",
    "\n",
    "q2_groups_with_subtotal = transaction_items_by_year_month[\"subtotal\"].sum().reset_index(drop=False).rename(columns={\"subtotal\":\"profit_sum\"})\n",
    "q2_most_profits = q2_groups_with_subtotal.sort_values(by=[\"year_month_created_at\", \"profit_sum\"], ascending=[True, False]).groupby([\"year_month_created_at\"]).head(1)\n",
    "\n",
    "q2_best_selling_with_name = pd.merge(q2_best_selling, menu_items_names_only, on=\"item_id\")\n",
    "q2_most_profits_with_name = pd.merge(q2_most_profits, menu_items_names_only, on=\"item_id\")\n",
    "df_q2_qty = (\n",
    "    q2_best_selling_with_name[[\"year_month_created_at\", \"item_name\", \"sellings_qty\"]]\n",
    "    .assign(qId=\"q2\")\n",
    "    .astype({\"sellings_qty\": \"int64\"})\n",
    "    .sort_values([\"year_month_created_at\", \"item_name\"])\n",
    ")[[\"qId\",\"year_month_created_at\",\"item_name\",\"sellings_qty\"]]\n",
    "\n",
    "df_q2_profit = (\n",
    "    q2_most_profits_with_name[[\"year_month_created_at\", \"item_name\", \"profit_sum\"]]\n",
    "    .assign(qId=\"q2\")\n",
    "    .astype({\"profit_sum\": \"float64\"})\n",
    "    .sort_values([\"year_month_created_at\", \"item_name\"])\n",
    ")[[\"qId\",\"year_month_created_at\",\"item_name\",\"profit_sum\"]]\n",
    "\n",
    "append_ndjson(df_q2_qty)\n",
    "append_ndjson(df_q2_profit)\n",
    "\n",
    "display(q2_best_selling_with_name[[\"year_month_created_at\", \"item_name\", \"sellings_qty\"]])\n",
    "display(q2_most_profits_with_name[[\"year_month_created_at\", \"item_name\", \"profit_sum\"]])"
   ]
  },
  {
   "cell_type": "markdown",
   "id": "aaa421c1",
   "metadata": {
    "papermill": {
     "duration": 0.01356,
     "end_time": "2025-10-01T14:08:49.736122",
     "exception": false,
     "start_time": "2025-10-01T14:08:49.722562",
     "status": "completed"
    },
    "tags": []
   },
   "source": [
    "3. TPV (Total Payment Value) per each semester during 2024 and 2025, per branch, created between 06:00 AM and 11:00 PM."
   ]
  },
  {
   "cell_type": "code",
   "execution_count": 86,
   "id": "5654244e",
   "metadata": {
    "execution": {
     "iopub.execute_input": "2025-10-01T14:08:49.765260Z",
     "iopub.status.busy": "2025-10-01T14:08:49.764958Z",
     "iopub.status.idle": "2025-10-01T14:08:50.636189Z",
     "shell.execute_reply": "2025-10-01T14:08:50.635356Z"
    },
    "papermill": {
     "duration": 0.887725,
     "end_time": "2025-10-01T14:08:50.637830",
     "exception": false,
     "start_time": "2025-10-01T14:08:49.750105",
     "status": "completed"
    },
    "tags": []
   },
   "outputs": [],
   "source": [
    "q3_transactions_6_to_23_hours = q1_transactions_6_to_23_hours[[\"created_at\", \"store_id\", \"final_amount\"]].copy()\n",
    "q3_transactions_6_to_23_hours.loc[q3_transactions_6_to_23_hours[\"created_at\"].dt.month <= 6, \"half_created_at\"] = \"1\"\n",
    "q3_transactions_6_to_23_hours.loc[q3_transactions_6_to_23_hours[\"created_at\"].dt.month >= 7, \"half_created_at\"] = \"2\"\n",
    "q3_transactions_6_to_23_hours[\"year_half_created_at\"] = q3_transactions_6_to_23_hours[\"created_at\"].dt.year.astype(str) + \"-H\" + q3_transactions_6_to_23_hours[\"half_created_at\"]\n",
    "q3_transactions_by_year_half = q3_transactions_6_to_23_hours.groupby([\"year_half_created_at\", \"store_id\"])\n",
    "stores_names_only = stores[[\"store_id\", \"store_name\"]]"
   ]
  },
  {
   "cell_type": "code",
   "execution_count": 87,
   "id": "d7c463fe",
   "metadata": {
    "execution": {
     "iopub.execute_input": "2025-10-01T14:08:50.667739Z",
     "iopub.status.busy": "2025-10-01T14:08:50.667474Z",
     "iopub.status.idle": "2025-10-01T14:08:50.811603Z",
     "shell.execute_reply": "2025-10-01T14:08:50.810738Z"
    },
    "papermill": {
     "duration": 0.160543,
     "end_time": "2025-10-01T14:08:50.813107",
     "exception": false,
     "start_time": "2025-10-01T14:08:50.652564",
     "status": "completed"
    },
    "tags": []
   },
   "outputs": [
    {
     "data": {
      "text/html": [
       "<div>\n",
       "<style scoped>\n",
       "    .dataframe tbody tr th:only-of-type {\n",
       "        vertical-align: middle;\n",
       "    }\n",
       "\n",
       "    .dataframe tbody tr th {\n",
       "        vertical-align: top;\n",
       "    }\n",
       "\n",
       "    .dataframe thead th {\n",
       "        text-align: right;\n",
       "    }\n",
       "</style>\n",
       "<table border=\"1\" class=\"dataframe\">\n",
       "  <thead>\n",
       "    <tr style=\"text-align: right;\">\n",
       "      <th></th>\n",
       "      <th>year_half_created_at</th>\n",
       "      <th>store_name</th>\n",
       "      <th>tpv</th>\n",
       "    </tr>\n",
       "  </thead>\n",
       "  <tbody>\n",
       "    <tr>\n",
       "      <th>5</th>\n",
       "      <td>2023-H2</td>\n",
       "      <td>G Coffee @ Alam Tun Hussein Onn</td>\n",
       "      <td>644041.11</td>\n",
       "    </tr>\n",
       "    <tr>\n",
       "      <th>7</th>\n",
       "      <td>2023-H2</td>\n",
       "      <td>G Coffee @ Bandar Seri Mulia</td>\n",
       "      <td>650645.37</td>\n",
       "    </tr>\n",
       "    <tr>\n",
       "      <th>6</th>\n",
       "      <td>2023-H2</td>\n",
       "      <td>G Coffee @ Damansara Saujana</td>\n",
       "      <td>642772.90</td>\n",
       "    </tr>\n",
       "    <tr>\n",
       "      <th>3</th>\n",
       "      <td>2023-H2</td>\n",
       "      <td>G Coffee @ Kampung Changkat</td>\n",
       "      <td>645020.81</td>\n",
       "    </tr>\n",
       "    <tr>\n",
       "      <th>1</th>\n",
       "      <td>2023-H2</td>\n",
       "      <td>G Coffee @ Kondominium Putra</td>\n",
       "      <td>642288.04</td>\n",
       "    </tr>\n",
       "    <tr>\n",
       "      <th>8</th>\n",
       "      <td>2023-H2</td>\n",
       "      <td>G Coffee @ PJS8</td>\n",
       "      <td>643854.43</td>\n",
       "    </tr>\n",
       "    <tr>\n",
       "      <th>4</th>\n",
       "      <td>2023-H2</td>\n",
       "      <td>G Coffee @ Seksyen 21</td>\n",
       "      <td>638442.94</td>\n",
       "    </tr>\n",
       "    <tr>\n",
       "      <th>9</th>\n",
       "      <td>2023-H2</td>\n",
       "      <td>G Coffee @ Taman Damansara</td>\n",
       "      <td>642775.53</td>\n",
       "    </tr>\n",
       "    <tr>\n",
       "      <th>2</th>\n",
       "      <td>2023-H2</td>\n",
       "      <td>G Coffee @ USJ 57W</td>\n",
       "      <td>646554.69</td>\n",
       "    </tr>\n",
       "    <tr>\n",
       "      <th>0</th>\n",
       "      <td>2023-H2</td>\n",
       "      <td>G Coffee @ USJ 89q</td>\n",
       "      <td>649287.40</td>\n",
       "    </tr>\n",
       "    <tr>\n",
       "      <th>15</th>\n",
       "      <td>2024-H1</td>\n",
       "      <td>G Coffee @ Alam Tun Hussein Onn</td>\n",
       "      <td>705215.00</td>\n",
       "    </tr>\n",
       "    <tr>\n",
       "      <th>17</th>\n",
       "      <td>2024-H1</td>\n",
       "      <td>G Coffee @ Bandar Seri Mulia</td>\n",
       "      <td>707905.50</td>\n",
       "    </tr>\n",
       "    <tr>\n",
       "      <th>16</th>\n",
       "      <td>2024-H1</td>\n",
       "      <td>G Coffee @ Damansara Saujana</td>\n",
       "      <td>708307.00</td>\n",
       "    </tr>\n",
       "    <tr>\n",
       "      <th>13</th>\n",
       "      <td>2024-H1</td>\n",
       "      <td>G Coffee @ Kampung Changkat</td>\n",
       "      <td>708112.00</td>\n",
       "    </tr>\n",
       "    <tr>\n",
       "      <th>11</th>\n",
       "      <td>2024-H1</td>\n",
       "      <td>G Coffee @ Kondominium Putra</td>\n",
       "      <td>710936.50</td>\n",
       "    </tr>\n",
       "    <tr>\n",
       "      <th>18</th>\n",
       "      <td>2024-H1</td>\n",
       "      <td>G Coffee @ PJS8</td>\n",
       "      <td>701682.50</td>\n",
       "    </tr>\n",
       "    <tr>\n",
       "      <th>14</th>\n",
       "      <td>2024-H1</td>\n",
       "      <td>G Coffee @ Seksyen 21</td>\n",
       "      <td>703159.50</td>\n",
       "    </tr>\n",
       "    <tr>\n",
       "      <th>19</th>\n",
       "      <td>2024-H1</td>\n",
       "      <td>G Coffee @ Taman Damansara</td>\n",
       "      <td>715415.00</td>\n",
       "    </tr>\n",
       "    <tr>\n",
       "      <th>12</th>\n",
       "      <td>2024-H1</td>\n",
       "      <td>G Coffee @ USJ 57W</td>\n",
       "      <td>709802.00</td>\n",
       "    </tr>\n",
       "    <tr>\n",
       "      <th>10</th>\n",
       "      <td>2024-H1</td>\n",
       "      <td>G Coffee @ USJ 89q</td>\n",
       "      <td>715013.00</td>\n",
       "    </tr>\n",
       "    <tr>\n",
       "      <th>25</th>\n",
       "      <td>2024-H2</td>\n",
       "      <td>G Coffee @ Alam Tun Hussein Onn</td>\n",
       "      <td>1007818.50</td>\n",
       "    </tr>\n",
       "    <tr>\n",
       "      <th>27</th>\n",
       "      <td>2024-H2</td>\n",
       "      <td>G Coffee @ Bandar Seri Mulia</td>\n",
       "      <td>1031944.50</td>\n",
       "    </tr>\n",
       "    <tr>\n",
       "      <th>26</th>\n",
       "      <td>2024-H2</td>\n",
       "      <td>G Coffee @ Damansara Saujana</td>\n",
       "      <td>1009430.00</td>\n",
       "    </tr>\n",
       "    <tr>\n",
       "      <th>23</th>\n",
       "      <td>2024-H2</td>\n",
       "      <td>G Coffee @ Kampung Changkat</td>\n",
       "      <td>1015134.00</td>\n",
       "    </tr>\n",
       "    <tr>\n",
       "      <th>21</th>\n",
       "      <td>2024-H2</td>\n",
       "      <td>G Coffee @ Kondominium Putra</td>\n",
       "      <td>1019568.00</td>\n",
       "    </tr>\n",
       "    <tr>\n",
       "      <th>28</th>\n",
       "      <td>2024-H2</td>\n",
       "      <td>G Coffee @ PJS8</td>\n",
       "      <td>1019863.50</td>\n",
       "    </tr>\n",
       "    <tr>\n",
       "      <th>24</th>\n",
       "      <td>2024-H2</td>\n",
       "      <td>G Coffee @ Seksyen 21</td>\n",
       "      <td>1013120.50</td>\n",
       "    </tr>\n",
       "    <tr>\n",
       "      <th>29</th>\n",
       "      <td>2024-H2</td>\n",
       "      <td>G Coffee @ Taman Damansara</td>\n",
       "      <td>1012176.50</td>\n",
       "    </tr>\n",
       "    <tr>\n",
       "      <th>22</th>\n",
       "      <td>2024-H2</td>\n",
       "      <td>G Coffee @ USJ 57W</td>\n",
       "      <td>1016139.50</td>\n",
       "    </tr>\n",
       "    <tr>\n",
       "      <th>20</th>\n",
       "      <td>2024-H2</td>\n",
       "      <td>G Coffee @ USJ 89q</td>\n",
       "      <td>1004912.00</td>\n",
       "    </tr>\n",
       "    <tr>\n",
       "      <th>35</th>\n",
       "      <td>2025-H1</td>\n",
       "      <td>G Coffee @ Alam Tun Hussein Onn</td>\n",
       "      <td>1542067.87</td>\n",
       "    </tr>\n",
       "    <tr>\n",
       "      <th>37</th>\n",
       "      <td>2025-H1</td>\n",
       "      <td>G Coffee @ Bandar Seri Mulia</td>\n",
       "      <td>1559369.71</td>\n",
       "    </tr>\n",
       "    <tr>\n",
       "      <th>36</th>\n",
       "      <td>2025-H1</td>\n",
       "      <td>G Coffee @ Damansara Saujana</td>\n",
       "      <td>1533710.38</td>\n",
       "    </tr>\n",
       "    <tr>\n",
       "      <th>33</th>\n",
       "      <td>2025-H1</td>\n",
       "      <td>G Coffee @ Kampung Changkat</td>\n",
       "      <td>1549283.50</td>\n",
       "    </tr>\n",
       "    <tr>\n",
       "      <th>31</th>\n",
       "      <td>2025-H1</td>\n",
       "      <td>G Coffee @ Kondominium Putra</td>\n",
       "      <td>1556495.31</td>\n",
       "    </tr>\n",
       "    <tr>\n",
       "      <th>38</th>\n",
       "      <td>2025-H1</td>\n",
       "      <td>G Coffee @ PJS8</td>\n",
       "      <td>1554468.26</td>\n",
       "    </tr>\n",
       "    <tr>\n",
       "      <th>34</th>\n",
       "      <td>2025-H1</td>\n",
       "      <td>G Coffee @ Seksyen 21</td>\n",
       "      <td>1550606.97</td>\n",
       "    </tr>\n",
       "    <tr>\n",
       "      <th>39</th>\n",
       "      <td>2025-H1</td>\n",
       "      <td>G Coffee @ Taman Damansara</td>\n",
       "      <td>1550416.24</td>\n",
       "    </tr>\n",
       "    <tr>\n",
       "      <th>32</th>\n",
       "      <td>2025-H1</td>\n",
       "      <td>G Coffee @ USJ 57W</td>\n",
       "      <td>1551751.47</td>\n",
       "    </tr>\n",
       "    <tr>\n",
       "      <th>30</th>\n",
       "      <td>2025-H1</td>\n",
       "      <td>G Coffee @ USJ 89q</td>\n",
       "      <td>1539933.27</td>\n",
       "    </tr>\n",
       "  </tbody>\n",
       "</table>\n",
       "</div>"
      ],
      "text/plain": [
       "   year_half_created_at                       store_name        tpv\n",
       "5               2023-H2  G Coffee @ Alam Tun Hussein Onn  644041.11\n",
       "7               2023-H2     G Coffee @ Bandar Seri Mulia  650645.37\n",
       "6               2023-H2     G Coffee @ Damansara Saujana  642772.90\n",
       "3               2023-H2      G Coffee @ Kampung Changkat  645020.81\n",
       "1               2023-H2     G Coffee @ Kondominium Putra  642288.04\n",
       "8               2023-H2                  G Coffee @ PJS8  643854.43\n",
       "4               2023-H2            G Coffee @ Seksyen 21  638442.94\n",
       "9               2023-H2       G Coffee @ Taman Damansara  642775.53\n",
       "2               2023-H2               G Coffee @ USJ 57W  646554.69\n",
       "0               2023-H2               G Coffee @ USJ 89q  649287.40\n",
       "15              2024-H1  G Coffee @ Alam Tun Hussein Onn  705215.00\n",
       "17              2024-H1     G Coffee @ Bandar Seri Mulia  707905.50\n",
       "16              2024-H1     G Coffee @ Damansara Saujana  708307.00\n",
       "13              2024-H1      G Coffee @ Kampung Changkat  708112.00\n",
       "11              2024-H1     G Coffee @ Kondominium Putra  710936.50\n",
       "18              2024-H1                  G Coffee @ PJS8  701682.50\n",
       "14              2024-H1            G Coffee @ Seksyen 21  703159.50\n",
       "19              2024-H1       G Coffee @ Taman Damansara  715415.00\n",
       "12              2024-H1               G Coffee @ USJ 57W  709802.00\n",
       "10              2024-H1               G Coffee @ USJ 89q  715013.00\n",
       "25              2024-H2  G Coffee @ Alam Tun Hussein Onn 1007818.50\n",
       "27              2024-H2     G Coffee @ Bandar Seri Mulia 1031944.50\n",
       "26              2024-H2     G Coffee @ Damansara Saujana 1009430.00\n",
       "23              2024-H2      G Coffee @ Kampung Changkat 1015134.00\n",
       "21              2024-H2     G Coffee @ Kondominium Putra 1019568.00\n",
       "28              2024-H2                  G Coffee @ PJS8 1019863.50\n",
       "24              2024-H2            G Coffee @ Seksyen 21 1013120.50\n",
       "29              2024-H2       G Coffee @ Taman Damansara 1012176.50\n",
       "22              2024-H2               G Coffee @ USJ 57W 1016139.50\n",
       "20              2024-H2               G Coffee @ USJ 89q 1004912.00\n",
       "35              2025-H1  G Coffee @ Alam Tun Hussein Onn 1542067.87\n",
       "37              2025-H1     G Coffee @ Bandar Seri Mulia 1559369.71\n",
       "36              2025-H1     G Coffee @ Damansara Saujana 1533710.38\n",
       "33              2025-H1      G Coffee @ Kampung Changkat 1549283.50\n",
       "31              2025-H1     G Coffee @ Kondominium Putra 1556495.31\n",
       "38              2025-H1                  G Coffee @ PJS8 1554468.26\n",
       "34              2025-H1            G Coffee @ Seksyen 21 1550606.97\n",
       "39              2025-H1       G Coffee @ Taman Damansara 1550416.24\n",
       "32              2025-H1               G Coffee @ USJ 57W 1551751.47\n",
       "30              2025-H1               G Coffee @ USJ 89q 1539933.27"
      ]
     },
     "metadata": {},
     "output_type": "display_data"
    }
   ],
   "source": [
    "q3_groups_with_tpv = q3_transactions_by_year_half[\"final_amount\"].sum().reset_index(drop=False).rename(columns={\"final_amount\":\"tpv\"})\n",
    "q3_tpv_with_name = pd.merge(q3_groups_with_tpv, stores_names_only, on=\"store_id\")\n",
    "pd.options.display.float_format = '{:.2f}'.format\n",
    "display(q3_tpv_with_name[[\"year_half_created_at\", \"store_name\", \"tpv\"]].sort_values(by=[\"year_half_created_at\", \"store_name\"]))\n",
    "pd.reset_option('display.float_format')\n",
    "\n",
    "d3_groups_with_tpv = (\n",
    "    q3_transactions_by_year_half[\"final_amount\"]\n",
    "    .sum()\n",
    "    .reset_index(drop=False)\n",
    "    .rename(columns={\"final_amount\": \"tpv\"})\n",
    ")\n",
    "q3_tpv_with_name = pd.merge(q3_groups_with_tpv, stores_names_only, on=\"store_id\")\n",
    "\n",
    "# --- dataset final para comparar y guardar ---\n",
    "df_q3 = (\n",
    "    q3_tpv_with_name\n",
    "    .rename(columns={\"year_half_created_at\": \"period\"})      # normaliza el nombre\n",
    "    [[\"period\", \"store_name\", \"tpv\"]]\n",
    "    .assign(qId=\"q3\")                                        # tag para el comparador\n",
    "    [[\"qId\", \"period\", \"store_name\", \"tpv\"]]\n",
    "    .sort_values([\"period\", \"store_name\"])\n",
    "    .astype({\"tpv\": \"float64\"})\n",
    ")\n",
    "\n",
    "# apendear al NDJSON global (NO pisa)\n",
    "append_ndjson(df_q3)"
   ]
  },
  {
   "cell_type": "markdown",
   "id": "43e0f78f",
   "metadata": {
    "papermill": {
     "duration": 0.014183,
     "end_time": "2025-10-01T14:08:50.841784",
     "exception": false,
     "start_time": "2025-10-01T14:08:50.827601",
     "status": "completed"
    },
    "tags": []
   },
   "source": [
    "4. Birthday date of the 3 customers who have made the most purchases for each branch"
   ]
  },
  {
   "cell_type": "code",
   "execution_count": 88,
   "id": "446c7ec7",
   "metadata": {
    "execution": {
     "iopub.execute_input": "2025-10-01T14:08:50.871853Z",
     "iopub.status.busy": "2025-10-01T14:08:50.871333Z",
     "iopub.status.idle": "2025-10-01T14:08:50.958172Z",
     "shell.execute_reply": "2025-10-01T14:08:50.957109Z"
    },
    "papermill": {
     "duration": 0.103744,
     "end_time": "2025-10-01T14:08:50.959873",
     "exception": false,
     "start_time": "2025-10-01T14:08:50.856129",
     "status": "completed"
    },
    "tags": []
   },
   "outputs": [],
   "source": [
    "transactions_by_store_user = transactions.dropna(subset=['user_id']).groupby([\"store_id\", \"user_id\"])\n",
    "stores_names_only = stores[[\"store_id\", \"store_name\"]]\n",
    "users_birthdates_only = users[[\"user_id\", \"birthdate\"]]"
   ]
  },
  {
   "cell_type": "code",
   "execution_count": 89,
   "id": "753ae990",
   "metadata": {
    "execution": {
     "iopub.execute_input": "2025-10-01T14:08:50.990736Z",
     "iopub.status.busy": "2025-10-01T14:08:50.990409Z",
     "iopub.status.idle": "2025-10-01T14:08:51.893440Z",
     "shell.execute_reply": "2025-10-01T14:08:51.892521Z"
    },
    "papermill": {
     "duration": 0.920148,
     "end_time": "2025-10-01T14:08:51.895258",
     "exception": false,
     "start_time": "2025-10-01T14:08:50.975110",
     "status": "completed"
    },
    "tags": []
   },
   "outputs": [
    {
     "name": "stdout",
     "output_type": "stream",
     "text": [
      "                          store_name  birthdate  purchases_qty\n",
      "191  G Coffee @ Alam Tun Hussein Onn 1966-09-18              2\n",
      "200  G Coffee @ Alam Tun Hussein Onn 1967-04-01              2\n",
      "194  G Coffee @ Alam Tun Hussein Onn 1970-04-12              2\n",
      "209  G Coffee @ Alam Tun Hussein Onn 1971-01-13              2\n",
      "204  G Coffee @ Alam Tun Hussein Onn 1973-05-15              2\n",
      "196  G Coffee @ Alam Tun Hussein Onn 1975-08-26              2\n",
      "207  G Coffee @ Alam Tun Hussein Onn 1978-08-11              2\n",
      "203  G Coffee @ Alam Tun Hussein Onn 1979-06-03              2\n",
      "193  G Coffee @ Alam Tun Hussein Onn 1981-11-26              2\n",
      "192  G Coffee @ Alam Tun Hussein Onn 1983-09-14              2\n",
      "195  G Coffee @ Alam Tun Hussein Onn 1988-12-15              2\n",
      "201  G Coffee @ Alam Tun Hussein Onn 1989-11-09              2\n",
      "205  G Coffee @ Alam Tun Hussein Onn 1993-09-27              2\n",
      "198  G Coffee @ Alam Tun Hussein Onn 1998-05-10              2\n",
      "199  G Coffee @ Alam Tun Hussein Onn 2000-06-18              2\n",
      "202  G Coffee @ Alam Tun Hussein Onn 2001-12-19              2\n",
      "197  G Coffee @ Alam Tun Hussein Onn 2005-03-20              2\n",
      "190  G Coffee @ Alam Tun Hussein Onn 2005-05-10              2\n",
      "206  G Coffee @ Alam Tun Hussein Onn 2006-10-29              2\n",
      "208  G Coffee @ Alam Tun Hussein Onn 2007-11-07              2\n",
      "189  G Coffee @ Alam Tun Hussein Onn 1964-08-11              3\n",
      "187  G Coffee @ Alam Tun Hussein Onn 1968-05-31              3\n",
      "188  G Coffee @ Alam Tun Hussein Onn 1969-09-27              3\n",
      "184  G Coffee @ Alam Tun Hussein Onn 1971-02-09              3\n",
      "186  G Coffee @ Alam Tun Hussein Onn 1977-03-17              3\n",
      "179  G Coffee @ Alam Tun Hussein Onn 1979-05-22              3\n",
      "177  G Coffee @ Alam Tun Hussein Onn 1980-12-12              3\n",
      "185  G Coffee @ Alam Tun Hussein Onn 1982-09-02              3\n",
      "178  G Coffee @ Alam Tun Hussein Onn 1983-10-30              3\n",
      "176  G Coffee @ Alam Tun Hussein Onn 1985-06-24              3\n",
      "181  G Coffee @ Alam Tun Hussein Onn 1987-09-25              3\n",
      "183  G Coffee @ Alam Tun Hussein Onn 1987-11-27              3\n",
      "180  G Coffee @ Alam Tun Hussein Onn 1995-03-21              3\n",
      "175  G Coffee @ Alam Tun Hussein Onn 2006-06-16              3\n",
      "182  G Coffee @ Alam Tun Hussein Onn 2008-06-17              3\n",
      "264     G Coffee @ Bandar Seri Mulia 1970-04-12              2\n",
      "278     G Coffee @ Bandar Seri Mulia 1970-10-14              2\n",
      "272     G Coffee @ Bandar Seri Mulia 1974-04-06              2\n",
      "276     G Coffee @ Bandar Seri Mulia 1975-03-04              2\n",
      "268     G Coffee @ Bandar Seri Mulia 1982-08-07              2\n",
      "263     G Coffee @ Bandar Seri Mulia 1984-08-15              2\n",
      "267     G Coffee @ Bandar Seri Mulia 1987-02-11              2\n",
      "271     G Coffee @ Bandar Seri Mulia 1990-09-26              2\n",
      "275     G Coffee @ Bandar Seri Mulia 1992-03-01              2\n",
      "279     G Coffee @ Bandar Seri Mulia 1993-06-05              2\n",
      "265     G Coffee @ Bandar Seri Mulia 1995-08-17              2\n",
      "274     G Coffee @ Bandar Seri Mulia 1995-11-24              2\n",
      "273     G Coffee @ Bandar Seri Mulia 1997-10-13              2\n",
      "270     G Coffee @ Bandar Seri Mulia 1997-12-31              2\n",
      "269     G Coffee @ Bandar Seri Mulia 2001-04-12              2\n",
      "266     G Coffee @ Bandar Seri Mulia 2007-08-02              2\n",
      "277     G Coffee @ Bandar Seri Mulia 2008-10-22              2\n",
      "257     G Coffee @ Bandar Seri Mulia 1965-06-03              3\n",
      "248     G Coffee @ Bandar Seri Mulia 1966-05-08              3\n",
      "249     G Coffee @ Bandar Seri Mulia 1967-08-06              3\n",
      "256     G Coffee @ Bandar Seri Mulia 1974-07-29              3\n",
      "253     G Coffee @ Bandar Seri Mulia 1975-08-27              3\n",
      "259     G Coffee @ Bandar Seri Mulia 1976-06-01              3\n",
      "254     G Coffee @ Bandar Seri Mulia 1978-09-12              3\n",
      "247     G Coffee @ Bandar Seri Mulia 1981-06-27              3\n",
      "245     G Coffee @ Bandar Seri Mulia 1987-12-02              3\n",
      "252     G Coffee @ Bandar Seri Mulia 1995-02-24              3\n",
      "250     G Coffee @ Bandar Seri Mulia 1999-03-11              3\n",
      "251     G Coffee @ Bandar Seri Mulia 1999-12-31              3\n",
      "255     G Coffee @ Bandar Seri Mulia 2002-03-06              3\n",
      "262     G Coffee @ Bandar Seri Mulia 2003-10-08              3\n",
      "246     G Coffee @ Bandar Seri Mulia 2004-01-04              3\n",
      "260     G Coffee @ Bandar Seri Mulia 2004-03-23              3\n",
      "261     G Coffee @ Bandar Seri Mulia 2005-07-22              3\n",
      "258     G Coffee @ Bandar Seri Mulia 2008-04-30              3\n",
      "233     G Coffee @ Damansara Saujana 1974-02-17              2\n",
      "237     G Coffee @ Damansara Saujana 1975-08-11              2\n",
      "239     G Coffee @ Damansara Saujana 1975-09-30              2\n",
      "244     G Coffee @ Damansara Saujana 1977-02-06              2\n",
      "243     G Coffee @ Damansara Saujana 1978-03-18              2\n",
      "240     G Coffee @ Damansara Saujana 1981-01-12              2\n",
      "241     G Coffee @ Damansara Saujana 1982-01-13              2\n",
      "235     G Coffee @ Damansara Saujana 1982-12-18              2\n",
      "238     G Coffee @ Damansara Saujana 1985-02-06              2\n",
      "234     G Coffee @ Damansara Saujana 1997-08-31              2\n",
      "236     G Coffee @ Damansara Saujana 2001-11-08              2\n",
      "242     G Coffee @ Damansara Saujana 2006-12-23              2\n",
      "217     G Coffee @ Damansara Saujana 1965-02-02              3\n",
      "225     G Coffee @ Damansara Saujana 1966-02-26              3\n",
      "229     G Coffee @ Damansara Saujana 1966-10-21              3\n",
      "218     G Coffee @ Damansara Saujana 1969-07-19              3\n",
      "215     G Coffee @ Damansara Saujana 1969-10-17              3\n",
      "224     G Coffee @ Damansara Saujana 1969-11-29              3\n",
      "214     G Coffee @ Damansara Saujana 1970-01-07              3\n",
      "230     G Coffee @ Damansara Saujana 1971-01-29              3\n",
      "216     G Coffee @ Damansara Saujana 1971-05-28              3\n",
      "220     G Coffee @ Damansara Saujana 1976-11-21              3\n",
      "213     G Coffee @ Damansara Saujana 1978-07-23              3\n",
      "211     G Coffee @ Damansara Saujana 1979-05-15              3\n",
      "226     G Coffee @ Damansara Saujana 1980-06-20              3\n",
      "228     G Coffee @ Damansara Saujana 1986-01-29              3\n",
      "210     G Coffee @ Damansara Saujana 1991-12-08              3\n",
      "231     G Coffee @ Damansara Saujana 1993-07-12              3\n",
      "221     G Coffee @ Damansara Saujana 1993-12-13              3\n",
      "227     G Coffee @ Damansara Saujana 1994-04-21              3\n",
      "222     G Coffee @ Damansara Saujana 1996-06-03              3\n",
      "212     G Coffee @ Damansara Saujana 1996-07-20              3\n",
      "232     G Coffee @ Damansara Saujana 1997-05-14              3\n",
      "219     G Coffee @ Damansara Saujana 2008-03-17              3\n",
      "223     G Coffee @ Damansara Saujana 2009-03-29              3\n",
      "136      G Coffee @ Kampung Changkat 1965-12-29              2\n",
      "131      G Coffee @ Kampung Changkat 1966-12-30              2\n",
      "137      G Coffee @ Kampung Changkat 1972-09-07              2\n",
      "133      G Coffee @ Kampung Changkat 1973-05-08              2\n",
      "132      G Coffee @ Kampung Changkat 1982-12-18              2\n",
      "135      G Coffee @ Kampung Changkat 1992-03-05              2\n",
      "138      G Coffee @ Kampung Changkat 1992-07-31              2\n",
      "139      G Coffee @ Kampung Changkat 1999-01-30              2\n",
      "134      G Coffee @ Kampung Changkat 2004-03-29              2\n",
      "130      G Coffee @ Kampung Changkat 2005-05-10              2\n",
      "125      G Coffee @ Kampung Changkat 1965-02-22              3\n",
      "123      G Coffee @ Kampung Changkat 1968-03-18              3\n",
      "109      G Coffee @ Kampung Changkat 1970-10-16              3\n",
      "117      G Coffee @ Kampung Changkat 1978-05-13              3\n",
      "113      G Coffee @ Kampung Changkat 1978-09-15              3\n",
      "127      G Coffee @ Kampung Changkat 1981-09-06              3\n",
      "118      G Coffee @ Kampung Changkat 1982-11-25              3\n",
      "119      G Coffee @ Kampung Changkat 1983-05-25              3\n",
      "129      G Coffee @ Kampung Changkat 1985-08-11              3\n",
      "122      G Coffee @ Kampung Changkat 1988-08-26              3\n",
      "106      G Coffee @ Kampung Changkat 1989-08-01              3\n",
      "112      G Coffee @ Kampung Changkat 1993-09-25              3\n",
      "124      G Coffee @ Kampung Changkat 1994-06-21              3\n",
      "107      G Coffee @ Kampung Changkat 1995-08-17              3\n",
      "111      G Coffee @ Kampung Changkat 1998-04-04              3\n",
      "121      G Coffee @ Kampung Changkat 1999-12-02              3\n",
      "110      G Coffee @ Kampung Changkat 2000-10-01              3\n",
      "126      G Coffee @ Kampung Changkat 2002-11-07              3\n",
      "116      G Coffee @ Kampung Changkat 2003-07-18              3\n",
      "114      G Coffee @ Kampung Changkat 2004-04-21              3\n",
      "120      G Coffee @ Kampung Changkat 2004-05-09              3\n",
      "108      G Coffee @ Kampung Changkat 2006-03-18              3\n",
      "128      G Coffee @ Kampung Changkat 2008-01-21              3\n",
      "115      G Coffee @ Kampung Changkat 2008-10-29              3\n",
      "105      G Coffee @ Kampung Changkat 1970-04-22              4\n",
      "63      G Coffee @ Kondominium Putra 1970-05-20              2\n",
      "61      G Coffee @ Kondominium Putra 1972-07-05              2\n",
      "57      G Coffee @ Kondominium Putra 1975-01-26              2\n",
      "56      G Coffee @ Kondominium Putra 1975-11-08              2\n",
      "65      G Coffee @ Kondominium Putra 1977-08-17              2\n",
      "64      G Coffee @ Kondominium Putra 1985-04-11              2\n",
      "58      G Coffee @ Kondominium Putra 1985-06-24              2\n",
      "62      G Coffee @ Kondominium Putra 1987-10-06              2\n",
      "68      G Coffee @ Kondominium Putra 1992-10-15              2\n",
      "67      G Coffee @ Kondominium Putra 1992-12-11              2\n",
      "59      G Coffee @ Kondominium Putra 1997-08-31              2\n",
      "66      G Coffee @ Kondominium Putra 1999-04-19              2\n",
      "69      G Coffee @ Kondominium Putra 2007-04-21              2\n",
      "60      G Coffee @ Kondominium Putra 2008-10-22              2\n",
      "53      G Coffee @ Kondominium Putra 1964-11-01              3\n",
      "51      G Coffee @ Kondominium Putra 1967-09-10              3\n",
      "39      G Coffee @ Kondominium Putra 1969-05-12              3\n",
      "50      G Coffee @ Kondominium Putra 1969-05-31              3\n",
      "44      G Coffee @ Kondominium Putra 1980-10-08              3\n",
      "40      G Coffee @ Kondominium Putra 1987-12-24              3\n",
      "38      G Coffee @ Kondominium Putra 1988-06-07              3\n",
      "41      G Coffee @ Kondominium Putra 1991-08-01              3\n",
      "45      G Coffee @ Kondominium Putra 1993-07-09              3\n",
      "49      G Coffee @ Kondominium Putra 1994-11-20              3\n",
      "54      G Coffee @ Kondominium Putra 1995-05-28              3\n",
      "42      G Coffee @ Kondominium Putra 1996-02-03              3\n",
      "35      G Coffee @ Kondominium Putra 1998-04-12              3\n",
      "37      G Coffee @ Kondominium Putra 1998-12-26              3\n",
      "43      G Coffee @ Kondominium Putra 2001-09-27              3\n",
      "46      G Coffee @ Kondominium Putra 2002-10-31              3\n",
      "36      G Coffee @ Kondominium Putra 2002-12-23              3\n",
      "52      G Coffee @ Kondominium Putra 2003-01-13              3\n",
      "55      G Coffee @ Kondominium Putra 2004-12-12              3\n",
      "48      G Coffee @ Kondominium Putra 2005-02-21              3\n",
      "47      G Coffee @ Kondominium Putra 2007-05-06              3\n",
      "310                  G Coffee @ PJS8 1969-08-21              2\n",
      "304                  G Coffee @ PJS8 1972-11-20              2\n",
      "309                  G Coffee @ PJS8 1974-06-04              2\n",
      "313                  G Coffee @ PJS8 1975-11-19              2\n",
      "314                  G Coffee @ PJS8 1977-05-13              2\n",
      "299                  G Coffee @ PJS8 1979-03-03              2\n",
      "311                  G Coffee @ PJS8 1981-04-26              2\n",
      "312                  G Coffee @ PJS8 1982-02-23              2\n",
      "297                  G Coffee @ PJS8 1991-12-08              2\n",
      "301                  G Coffee @ PJS8 1995-04-28              2\n",
      "302                  G Coffee @ PJS8 1995-08-17              2\n",
      "300                  G Coffee @ PJS8 1997-08-31              2\n",
      "308                  G Coffee @ PJS8 2002-01-17              2\n",
      "307                  G Coffee @ PJS8 2002-02-16              2\n",
      "306                  G Coffee @ PJS8 2003-12-11              2\n",
      "303                  G Coffee @ PJS8 2005-03-20              2\n",
      "298                  G Coffee @ PJS8 2005-05-10              2\n",
      "305                  G Coffee @ PJS8 2007-05-10              2\n",
      "284                  G Coffee @ PJS8 1966-10-04              3\n",
      "280                  G Coffee @ PJS8 1966-12-30              3\n",
      "291                  G Coffee @ PJS8 1967-10-17              3\n",
      "283                  G Coffee @ PJS8 1975-12-09              3\n",
      "288                  G Coffee @ PJS8 1976-12-24              3\n",
      "289                  G Coffee @ PJS8 1978-04-17              3\n",
      "292                  G Coffee @ PJS8 1984-07-14              3\n",
      "286                  G Coffee @ PJS8 1984-12-04              3\n",
      "285                  G Coffee @ PJS8 1986-07-29              3\n",
      "293                  G Coffee @ PJS8 1987-05-23              3\n",
      "296                  G Coffee @ PJS8 1991-08-08              3\n",
      "282                  G Coffee @ PJS8 1993-03-12              3\n",
      "295                  G Coffee @ PJS8 1995-10-30              3\n",
      "290                  G Coffee @ PJS8 1998-01-12              3\n",
      "294                  G Coffee @ PJS8 2006-06-03              3\n",
      "287                  G Coffee @ PJS8 2006-12-18              3\n",
      "281                  G Coffee @ PJS8 2008-05-18              3\n",
      "164            G Coffee @ Seksyen 21 1967-01-19              2\n",
      "166            G Coffee @ Seksyen 21 1979-12-27              2\n",
      "167            G Coffee @ Seksyen 21 1981-03-30              2\n",
      "160            G Coffee @ Seksyen 21 1981-11-10              2\n",
      "171            G Coffee @ Seksyen 21 1988-05-23              2\n",
      "159            G Coffee @ Seksyen 21 1991-02-01              2\n",
      "170            G Coffee @ Seksyen 21 1992-01-17              2\n",
      "165            G Coffee @ Seksyen 21 1992-02-14              2\n",
      "168            G Coffee @ Seksyen 21 1994-10-10              2\n",
      "162            G Coffee @ Seksyen 21 1995-04-28              2\n",
      "163            G Coffee @ Seksyen 21 1995-09-27              2\n",
      "161            G Coffee @ Seksyen 21 1997-08-31              2\n",
      "174            G Coffee @ Seksyen 21 1998-06-08              2\n",
      "172            G Coffee @ Seksyen 21 2003-10-05              2\n",
      "173            G Coffee @ Seksyen 21 2005-09-08              2\n",
      "158            G Coffee @ Seksyen 21 2006-06-16              2\n",
      "169            G Coffee @ Seksyen 21 2007-02-26              2\n",
      "157            G Coffee @ Seksyen 21 1965-01-23              3\n",
      "154            G Coffee @ Seksyen 21 1967-12-05              3\n",
      "149            G Coffee @ Seksyen 21 1969-08-08              3\n",
      "148            G Coffee @ Seksyen 21 1970-10-11              3\n",
      "150            G Coffee @ Seksyen 21 1972-04-10              3\n",
      "143            G Coffee @ Seksyen 21 1982-07-09              3\n",
      "147            G Coffee @ Seksyen 21 1988-06-12              3\n",
      "144            G Coffee @ Seksyen 21 1991-08-20              3\n",
      "141            G Coffee @ Seksyen 21 1991-12-08              3\n",
      "142            G Coffee @ Seksyen 21 1993-06-14              3\n",
      "151            G Coffee @ Seksyen 21 1993-11-24              3\n",
      "155            G Coffee @ Seksyen 21 1995-03-04              3\n",
      "145            G Coffee @ Seksyen 21 1996-03-03              3\n",
      "152            G Coffee @ Seksyen 21 1997-08-15              3\n",
      "146            G Coffee @ Seksyen 21 2000-03-12              3\n",
      "153            G Coffee @ Seksyen 21 2001-01-29              3\n",
      "156            G Coffee @ Seksyen 21 2007-06-09              3\n",
      "140            G Coffee @ Seksyen 21 1979-08-28              4\n",
      "347       G Coffee @ Taman Damansara 1967-07-06              2\n",
      "343       G Coffee @ Taman Damansara 1970-03-03              2\n",
      "340       G Coffee @ Taman Damansara 1979-05-15              2\n",
      "349       G Coffee @ Taman Damansara 1981-03-08              2\n",
      "339       G Coffee @ Taman Damansara 1983-09-14              2\n",
      "345       G Coffee @ Taman Damansara 1983-10-23              2\n",
      "344       G Coffee @ Taman Damansara 1990-08-08              2\n",
      "348       G Coffee @ Taman Damansara 1994-12-25              2\n",
      "341       G Coffee @ Taman Damansara 1997-08-31              2\n",
      "342       G Coffee @ Taman Damansara 1997-08-31              2\n",
      "337       G Coffee @ Taman Damansara 2004-02-10              2\n",
      "346       G Coffee @ Taman Damansara 2005-02-03              2\n",
      "338       G Coffee @ Taman Damansara 2008-06-14              2\n",
      "328       G Coffee @ Taman Damansara 1966-04-10              3\n",
      "319       G Coffee @ Taman Damansara 1967-07-09              3\n",
      "326       G Coffee @ Taman Damansara 1967-11-26              3\n",
      "320       G Coffee @ Taman Damansara 1973-10-31              3\n",
      "317       G Coffee @ Taman Damansara 1973-12-24              3\n",
      "329       G Coffee @ Taman Damansara 1974-03-11              3\n",
      "330       G Coffee @ Taman Damansara 1978-09-26              3\n",
      "334       G Coffee @ Taman Damansara 1980-12-23              3\n",
      "331       G Coffee @ Taman Damansara 1983-01-05              3\n",
      "323       G Coffee @ Taman Damansara 1983-01-23              3\n",
      "327       G Coffee @ Taman Damansara 1983-11-09              3\n",
      "315       G Coffee @ Taman Damansara 1985-06-24              3\n",
      "324       G Coffee @ Taman Damansara 1986-07-22              3\n",
      "316       G Coffee @ Taman Damansara 1988-04-07              3\n",
      "335       G Coffee @ Taman Damansara 1991-03-29              3\n",
      "336       G Coffee @ Taman Damansara 1992-05-31              3\n",
      "318       G Coffee @ Taman Damansara 1995-01-26              3\n",
      "332       G Coffee @ Taman Damansara 1997-03-18              3\n",
      "321       G Coffee @ Taman Damansara 1999-09-17              3\n",
      "322       G Coffee @ Taman Damansara 2000-04-14              3\n",
      "325       G Coffee @ Taman Damansara 2005-07-27              3\n",
      "333       G Coffee @ Taman Damansara 2006-10-25              3\n",
      "90                G Coffee @ USJ 57W 1966-12-30              2\n",
      "94                G Coffee @ USJ 57W 1970-04-12              2\n",
      "89                G Coffee @ USJ 57W 1971-03-15              2\n",
      "102               G Coffee @ USJ 57W 1972-06-18              2\n",
      "93                G Coffee @ USJ 57W 1974-02-17              2\n",
      "92                G Coffee @ USJ 57W 1976-08-18              2\n",
      "97                G Coffee @ USJ 57W 1977-11-07              2\n",
      "91                G Coffee @ USJ 57W 1979-03-03              2\n",
      "98                G Coffee @ USJ 57W 1983-09-24              2\n",
      "103               G Coffee @ USJ 57W 1984-12-31              2\n",
      "104               G Coffee @ USJ 57W 1990-09-19              2\n",
      "99                G Coffee @ USJ 57W 1991-07-16              2\n",
      "88                G Coffee @ USJ 57W 1991-12-08              2\n",
      "101               G Coffee @ USJ 57W 2000-06-18              2\n",
      "96                G Coffee @ USJ 57W 2001-09-01              2\n",
      "100               G Coffee @ USJ 57W 2006-03-18              2\n",
      "95                G Coffee @ USJ 57W 2008-10-22              2\n",
      "76                G Coffee @ USJ 57W 1965-02-24              3\n",
      "86                G Coffee @ USJ 57W 1966-09-16              3\n",
      "74                G Coffee @ USJ 57W 1969-06-12              3\n",
      "81                G Coffee @ USJ 57W 1970-01-08              3\n",
      "73                G Coffee @ USJ 57W 1971-08-25              3\n",
      "85                G Coffee @ USJ 57W 1974-09-03              3\n",
      "78                G Coffee @ USJ 57W 1976-05-17              3\n",
      "83                G Coffee @ USJ 57W 1980-08-19              3\n",
      "71                G Coffee @ USJ 57W 1988-05-25              3\n",
      "80                G Coffee @ USJ 57W 1988-09-27              3\n",
      "79                G Coffee @ USJ 57W 1992-03-26              3\n",
      "84                G Coffee @ USJ 57W 1994-12-20              3\n",
      "87                G Coffee @ USJ 57W 1996-06-14              3\n",
      "70                G Coffee @ USJ 57W 1997-08-31              3\n",
      "72                G Coffee @ USJ 57W 2000-05-23              3\n",
      "75                G Coffee @ USJ 57W 2001-05-22              3\n",
      "82                G Coffee @ USJ 57W 2006-01-01              3\n",
      "77                G Coffee @ USJ 57W 2009-03-17              3\n",
      "25                G Coffee @ USJ 89q 1965-08-11              2\n",
      "33                G Coffee @ USJ 89q 1974-03-06              2\n",
      "24                G Coffee @ USJ 89q 1988-12-15              2\n",
      "34                G Coffee @ USJ 89q 1997-12-31              2\n",
      "27                G Coffee @ USJ 89q 1998-04-08              2\n",
      "26                G Coffee @ USJ 89q 1998-12-23              2\n",
      "32                G Coffee @ USJ 89q 2000-01-14              2\n",
      "28                G Coffee @ USJ 89q 2000-09-30              2\n",
      "29                G Coffee @ USJ 89q 2003-12-11              2\n",
      "31                G Coffee @ USJ 89q 2006-06-12              2\n",
      "30                G Coffee @ USJ 89q 2008-03-29              2\n",
      "2                 G Coffee @ USJ 89q 1972-07-05              3\n",
      "22                G Coffee @ USJ 89q 1975-09-04              3\n",
      "17                G Coffee @ USJ 89q 1980-04-24              3\n",
      "10                G Coffee @ USJ 89q 1981-01-15              3\n",
      "19                G Coffee @ USJ 89q 1985-09-25              3\n",
      "23                G Coffee @ USJ 89q 1986-10-14              3\n",
      "4                 G Coffee @ USJ 89q 1987-04-02              3\n",
      "15                G Coffee @ USJ 89q 1988-02-16              3\n",
      "5                 G Coffee @ USJ 89q 1991-07-23              3\n",
      "0                 G Coffee @ USJ 89q 1991-12-08              3\n",
      "16                G Coffee @ USJ 89q 1992-11-13              3\n",
      "3                 G Coffee @ USJ 89q 1994-01-08              3\n",
      "8                 G Coffee @ USJ 89q 1994-04-04              3\n",
      "12                G Coffee @ USJ 89q 2003-04-25              3\n",
      "7                 G Coffee @ USJ 89q 2005-03-01              3\n",
      "21                G Coffee @ USJ 89q 2005-10-02              3\n",
      "20                G Coffee @ USJ 89q 2006-07-20              3\n",
      "6                 G Coffee @ USJ 89q 2006-12-17              3\n",
      "11                G Coffee @ USJ 89q 2007-08-05              3\n",
      "18                G Coffee @ USJ 89q 2008-01-26              3\n",
      "1                 G Coffee @ USJ 89q 2008-06-14              3\n",
      "9                 G Coffee @ USJ 89q 2008-08-28              3\n",
      "14                G Coffee @ USJ 89q 2008-09-16              3\n",
      "13                G Coffee @ USJ 89q 2008-10-01              3\n"
     ]
    }
   ],
   "source": [
    "q4_groups_with_most_purchases = transactions_by_store_user[\"transaction_id\"].count().reset_index(drop=False).rename(columns={\"transaction_id\":\"purchases_qty\"})\n",
    "q4_most_purchases = q4_groups_with_most_purchases.sort_values(by=[\"store_id\", \"purchases_qty\"], ascending=[True, False]).groupby([\"store_id\"])\n",
    "q4_most_purchases_with_store = pd.merge(q4_most_purchases, stores_names_only, on=\"store_id\")\n",
    "q4_most_purchases_with_store_and_user = pd.merge(q4_most_purchases_with_store, users_birthdates_only, on=\"user_id\")\n",
    "\n",
    "pd.set_option('display.max_rows', None)\n",
    "res = q4_most_purchases_with_store_and_user[[\"store_name\", \"birthdate\", \"purchases_qty\"]].sort_values(by=[\"store_name\", \"purchases_qty\", \"birthdate\"])\n",
    "print(res)\n",
    "\n",
    "df_q3 = (\n",
    "    res\n",
    "    .assign(qId=\"q4\")                                        # tag para el comparador\n",
    "    [[\"qId\", \"store_name\", \"birthdate\", \"purchases_qty\"]]\n",
    ")\n",
    "\n",
    "\n",
    "df_q4_top3 = df_q3.copy()\n",
    "df_q4_top3[\"birthdate\"] = (\n",
    "    pd.to_datetime(df_q4_top3[\"birthdate\"], errors=\"coerce\")\n",
    "      .dt.strftime(\"%Y-%m-%d\")\n",
    "      .fillna(\"\")   \n",
    "             \n",
    ")\n",
    "\n",
    "append_ndjson(df_q4_top3)"
   ]
  }
 ],
 "metadata": {
  "kaggle": {
   "accelerator": "none",
   "dataSources": [
    {
     "datasetId": 7907172,
     "sourceId": 12526224,
     "sourceType": "datasetVersion"
    }
   ],
   "dockerImageVersionId": 31089,
   "isGpuEnabled": false,
   "isInternetEnabled": true,
   "language": "python",
   "sourceType": "notebook"
  },
  "kernelspec": {
   "display_name": "Python 3",
   "language": "python",
   "name": "python3"
  },
  "language_info": {
   "codemirror_mode": {
    "name": "ipython",
    "version": 3
   },
   "file_extension": ".py",
   "mimetype": "text/x-python",
   "name": "python",
   "nbconvert_exporter": "python",
   "pygments_lexer": "ipython3",
   "version": "3.11.5"
  },
  "papermill": {
   "default_parameters": {},
   "duration": 42.926642,
   "end_time": "2025-10-01T14:08:52.933162",
   "environment_variables": {},
   "exception": null,
   "input_path": "__notebook__.ipynb",
   "output_path": "__notebook__.ipynb",
   "parameters": {},
   "start_time": "2025-10-01T14:08:10.006520",
   "version": "2.6.0"
  }
 },
 "nbformat": 4,
 "nbformat_minor": 5
}
