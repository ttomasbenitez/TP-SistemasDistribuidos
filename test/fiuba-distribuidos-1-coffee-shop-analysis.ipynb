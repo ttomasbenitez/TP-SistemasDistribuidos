{
 "cells": [
  {
   "cell_type": "code",
   "execution_count": null,
   "id": "f8ff0b78",
   "metadata": {
    "_cell_guid": "b1076dfc-b9ad-4769-8c92-a6c4dae69d19",
    "_uuid": "8f2839f25d086af736a60e9eeb907d3b93b6e0e5",
    "execution": {
     "iopub.execute_input": "2025-10-01T14:08:15.503730Z",
     "iopub.status.busy": "2025-10-01T14:08:15.503401Z",
     "iopub.status.idle": "2025-10-01T14:08:17.476877Z",
     "shell.execute_reply": "2025-10-01T14:08:17.475980Z"
    },
    "papermill": {
     "duration": 1.988343,
     "end_time": "2025-10-01T14:08:17.478738",
     "exception": false,
     "start_time": "2025-10-01T14:08:15.490395",
     "status": "completed"
    },
    "tags": []
   },
   "outputs": [],
   "source": [
    "# This Python 3 environment comes with many helpful analytics libraries installed\n",
    "# It is defined by the kaggle/python Docker image: https://github.com/kaggle/docker-python\n",
    "# For example, here's several helpful packages to load\n",
    "# %pip install --upgrade -q pip\n",
    "# %pip install numpy pandas\n",
    "import numpy as np # linear algebra\n",
    "import pandas as pd # data processing, CSV file I/O (e.g. pd.read_csv)\n",
    "\n",
    "# Input data files are available in the read-only \"../input/\" directory\n",
    "# For example, running this (by clicking run or pressing Shift+Enter) will list all files under the input directory\n",
    "\n",
    "import os\n",
    "for dirname, _, filenames in os.walk('../client/data'):\n",
    "    for filename in filenames:\n",
    "        print(os.path.join(dirname, filename))"
   ]
  },
  {
   "cell_type": "markdown",
   "id": "8831b4c8",
   "metadata": {
    "papermill": {
     "duration": 0.010397,
     "end_time": "2025-10-01T14:08:17.500570",
     "exception": false,
     "start_time": "2025-10-01T14:08:17.490173",
     "status": "completed"
    },
    "tags": []
   },
   "source": [
    "# Import and Configurations"
   ]
  },
  {
   "cell_type": "code",
   "execution_count": 596,
   "id": "1510a1d2",
   "metadata": {
    "execution": {
     "iopub.execute_input": "2025-10-01T14:08:17.522196Z",
     "iopub.status.busy": "2025-10-01T14:08:17.521736Z",
     "iopub.status.idle": "2025-10-01T14:08:17.581195Z",
     "shell.execute_reply": "2025-10-01T14:08:17.580277Z"
    },
    "papermill": {
     "duration": 0.072048,
     "end_time": "2025-10-01T14:08:17.582917",
     "exception": false,
     "start_time": "2025-10-01T14:08:17.510869",
     "status": "completed"
    },
    "tags": []
   },
   "outputs": [],
   "source": [
    "# %pip install matplotlib\n",
    "import numpy as np # linear algebra\n",
    "import pandas as pd # data processing, CSV file I/O (e.g. pd.read_csv)\n",
    "import matplotlib.pyplot as plt\n",
    "import os\n",
    "\n",
    "pd.set_option('display.max_columns', None)\n",
    "pd.set_option('display.max_colwidth', 100)"
   ]
  },
  {
   "cell_type": "markdown",
   "id": "323ff9b9",
   "metadata": {
    "papermill": {
     "duration": 0.009647,
     "end_time": "2025-10-01T14:08:17.602837",
     "exception": false,
     "start_time": "2025-10-01T14:08:17.593190",
     "status": "completed"
    },
    "tags": []
   },
   "source": [
    "# Main Dataframes Loading"
   ]
  },
  {
   "cell_type": "markdown",
   "id": "61d629fb",
   "metadata": {
    "papermill": {
     "duration": 0.009708,
     "end_time": "2025-10-01T14:08:17.622365",
     "exception": false,
     "start_time": "2025-10-01T14:08:17.612657",
     "status": "completed"
    },
    "tags": []
   },
   "source": [
    "## 2024 and 2025 Transactions"
   ]
  },
  {
   "cell_type": "code",
   "execution_count": null,
   "id": "249d220d",
   "metadata": {
    "execution": {
     "iopub.execute_input": "2025-10-01T14:08:17.643464Z",
     "iopub.status.busy": "2025-10-01T14:08:17.643145Z",
     "iopub.status.idle": "2025-10-01T14:08:17.691644Z",
     "shell.execute_reply": "2025-10-01T14:08:17.690700Z"
    },
    "papermill": {
     "duration": 0.061033,
     "end_time": "2025-10-01T14:08:17.693325",
     "exception": false,
     "start_time": "2025-10-01T14:08:17.632292",
     "status": "completed"
    },
    "tags": []
   },
   "outputs": [],
   "source": [
    "# columnas a DESCARTAR (0-based)\n",
    "drop_idx = {2, 3, 6}\n",
    "# obtenemos cantidad de columnas leyendo solo el header\n",
    "sample = pd.read_csv('../client/data/transactions/transactions_202401.csv', nrows=0)\n",
    "keep_idx = [i for i in range(sample.shape[1]) if i not in drop_idx]\n",
    "sample"
   ]
  },
  {
   "cell_type": "code",
   "execution_count": 598,
   "id": "6cf543f6",
   "metadata": {
    "execution": {
     "iopub.execute_input": "2025-10-01T14:08:17.715958Z",
     "iopub.status.busy": "2025-10-01T14:08:17.715586Z",
     "iopub.status.idle": "2025-10-01T14:08:22.491441Z",
     "shell.execute_reply": "2025-10-01T14:08:22.490644Z"
    },
    "papermill": {
     "duration": 4.78912,
     "end_time": "2025-10-01T14:08:22.493121",
     "exception": false,
     "start_time": "2025-10-01T14:08:17.704001",
     "status": "completed"
    },
    "tags": []
   },
   "outputs": [],
   "source": [
    "transactions_202401 = pd.read_csv('../client/data/transactions/transactions_202401.csv', usecols=keep_idx, low_memory=False)\n",
    "transactions_202402 = pd.DataFrame() #pd.read_csv('../client/data/transactions/transactions_202402.csv', usecols=keep_idx, low_memory=False)\n",
    "transactions_202403 = pd.DataFrame() #pd.read_csv('../client/data/transactions/transactions_202403.csv', usecols=keep_idx, low_memory=False)\n",
    "transactions_202404 = pd.DataFrame() #pd.read_csv('../client/data/transactions/transactions_202404.csv', usecols=keep_idx, low_memory=False)\n",
    "transactions_202405 = pd.DataFrame() #pd.read_csv('../client/data/transactions/transactions_202405.csv', usecols=keep_idx, low_memory=False)\n",
    "transactions_202406 = pd.DataFrame() #pd.read_csv('../client/data/transactions/transactions_202406.csv', usecols=keep_idx, low_memory=False)\n",
    "transactions_202407 = pd.DataFrame() #pd.read_csv('../client/data/transactions/transactions_202407.csv', usecols=keep_idx, low_memory=False)\n",
    "transactions_202408 = pd.DataFrame() #pd.read_csv('../client/data/transactions/transactions_202408.csv', usecols=keep_idx, low_memory=False)\n",
    "transactions_202409 = pd.DataFrame() #pd.read_csv('../client/data/transactions/transactions_202409.csv', usecols=keep_idx, low_memory=False)\n",
    "transactions_202410 = pd.DataFrame() #pd.read_csv('../client/data/transactions/transactions_202410.csv', usecols=keep_idx, low_memory=False)\n",
    "transactions_202411 = pd.DataFrame() #pd.read_csv('../client/data/transactions/transactions_202411.csv', usecols=keep_idx, low_memory=False)\n",
    "transactions_202412 = pd.DataFrame() #pd.read_csv('../client/data/transactions/transactions_202412.csv', usecols=keep_idx, low_memory=False)\n",
    "\n",
    "transactions_202501 = pd.read_csv('../client/data/transactions/transactions_202501.csv', usecols=keep_idx, low_memory=False)\n",
    "transactions_202502 = pd.DataFrame() #pd.read_csv('../client/data/transactions/transactions_202502.csv', usecols=keep_idx, low_memory=False)\n",
    "transactions_202503 = pd.DataFrame() #pd.read_csv('../client/data/transactions/transactions_202503.csv', usecols=keep_idx, low_memory=False)\n",
    "transactions_202504 = pd.DataFrame() #pd.read_csv('../client/data/transactions/transactions_202504.csv', usecols=keep_idx, low_memory=False)\n",
    "transactions_202505 = pd.DataFrame() #pd.read_csv('../client/data/transactions/transactions_202505.csv', usecols=keep_idx, low_memory=False)\n",
    "transactions_202506 = pd.DataFrame() #pd.read_csv('../client/data/transactions/transactions_202506.csv', usecols=keep_idx, low_memory=False)"
   ]
  },
  {
   "cell_type": "code",
   "execution_count": 599,
   "id": "5b3757f9",
   "metadata": {
    "execution": {
     "iopub.execute_input": "2025-10-01T14:08:22.515388Z",
     "iopub.status.busy": "2025-10-01T14:08:22.514583Z",
     "iopub.status.idle": "2025-10-01T14:08:22.519138Z",
     "shell.execute_reply": "2025-10-01T14:08:22.518252Z"
    },
    "papermill": {
     "duration": 0.0169,
     "end_time": "2025-10-01T14:08:22.520483",
     "exception": false,
     "start_time": "2025-10-01T14:08:22.503583",
     "status": "completed"
    },
    "tags": []
   },
   "outputs": [],
   "source": [
    "dfs1 = [transactions_202401, \n",
    "       transactions_202402, \n",
    "       transactions_202403, \n",
    "       transactions_202404, \n",
    "       transactions_202405, \n",
    "       transactions_202406, \n",
    "       transactions_202407, \n",
    "       transactions_202408, \n",
    "       transactions_202409, \n",
    "       transactions_202410, \n",
    "       transactions_202411, \n",
    "       transactions_202412]"
   ]
  },
  {
   "cell_type": "code",
   "execution_count": 600,
   "id": "5536e0c6",
   "metadata": {
    "execution": {
     "iopub.execute_input": "2025-10-01T14:08:22.542150Z",
     "iopub.status.busy": "2025-10-01T14:08:22.541701Z",
     "iopub.status.idle": "2025-10-01T14:08:22.586872Z",
     "shell.execute_reply": "2025-10-01T14:08:22.585839Z"
    },
    "papermill": {
     "duration": 0.057771,
     "end_time": "2025-10-01T14:08:22.588529",
     "exception": false,
     "start_time": "2025-10-01T14:08:22.530758",
     "status": "completed"
    },
    "tags": []
   },
   "outputs": [],
   "source": [
    "dfs2 = [transactions_202501, \n",
    "       transactions_202502, \n",
    "       transactions_202503, \n",
    "       transactions_202504, \n",
    "       transactions_202505, \n",
    "       transactions_202506]\n",
    "\n",
    "transactions = pd.concat(dfs1 + dfs2, ignore_index=True)"
   ]
  },
  {
   "cell_type": "code",
   "execution_count": null,
   "id": "e450d807",
   "metadata": {
    "execution": {
     "iopub.execute_input": "2025-10-01T14:08:22.610253Z",
     "iopub.status.busy": "2025-10-01T14:08:22.609912Z",
     "iopub.status.idle": "2025-10-01T14:08:22.615848Z",
     "shell.execute_reply": "2025-10-01T14:08:22.615002Z"
    },
    "papermill": {
     "duration": 0.01861,
     "end_time": "2025-10-01T14:08:22.617296",
     "exception": false,
     "start_time": "2025-10-01T14:08:22.598686",
     "status": "completed"
    },
    "tags": []
   },
   "outputs": [],
   "source": [
    "transactions.shape"
   ]
  },
  {
   "cell_type": "code",
   "execution_count": null,
   "id": "682b4305",
   "metadata": {
    "execution": {
     "iopub.execute_input": "2025-10-01T14:08:22.639508Z",
     "iopub.status.busy": "2025-10-01T14:08:22.638891Z",
     "iopub.status.idle": "2025-10-01T14:08:22.652040Z",
     "shell.execute_reply": "2025-10-01T14:08:22.651118Z"
    },
    "papermill": {
     "duration": 0.025852,
     "end_time": "2025-10-01T14:08:22.653556",
     "exception": false,
     "start_time": "2025-10-01T14:08:22.627704",
     "status": "completed"
    },
    "tags": []
   },
   "outputs": [],
   "source": [
    "transactions.head()"
   ]
  },
  {
   "cell_type": "markdown",
   "id": "0f1a020b",
   "metadata": {
    "papermill": {
     "duration": 0.010157,
     "end_time": "2025-10-01T14:08:22.674415",
     "exception": false,
     "start_time": "2025-10-01T14:08:22.664258",
     "status": "completed"
    },
    "tags": []
   },
   "source": [
    "### Data Cast"
   ]
  },
  {
   "cell_type": "code",
   "execution_count": 603,
   "id": "43a4e496",
   "metadata": {
    "execution": {
     "iopub.execute_input": "2025-10-01T14:08:22.697052Z",
     "iopub.status.busy": "2025-10-01T14:08:22.696713Z",
     "iopub.status.idle": "2025-10-01T14:08:23.575716Z",
     "shell.execute_reply": "2025-10-01T14:08:23.574823Z"
    },
    "papermill": {
     "duration": 0.892527,
     "end_time": "2025-10-01T14:08:23.577374",
     "exception": false,
     "start_time": "2025-10-01T14:08:22.684847",
     "status": "completed"
    },
    "tags": []
   },
   "outputs": [],
   "source": [
    "# 1) IDs y textos\n",
    "transactions[\"transaction_id\"] = transactions[\"transaction_id\"].astype(\"string\").str.strip()\n",
    "\n",
    "# 2) Numéricos\n",
    "transactions[\"store_id\"] = pd.to_numeric(transactions[\"store_id\"], errors=\"coerce\").astype(\"Int64\")\n",
    "transactions[\"user_id\"] = pd.to_numeric(transactions[\"user_id\"], errors=\"coerce\").astype(\"Int64\")\n",
    "\n",
    "transactions[\"original_amount\"] = pd.to_numeric(transactions[\"original_amount\"], errors=\"coerce\").astype(\"float64\")\n",
    "transactions[\"final_amount\"]    = pd.to_numeric(transactions[\"final_amount\"],    errors=\"coerce\").astype(\"float64\")\n",
    "\n",
    "# 3) Fecha/Hora\n",
    "transactions[\"created_at\"] = pd.to_datetime(transactions[\"created_at\"], errors=\"coerce\")"
   ]
  },
  {
   "cell_type": "code",
   "execution_count": null,
   "id": "d7d77be8",
   "metadata": {
    "execution": {
     "iopub.execute_input": "2025-10-01T14:08:23.599726Z",
     "iopub.status.busy": "2025-10-01T14:08:23.599457Z",
     "iopub.status.idle": "2025-10-01T14:08:23.606309Z",
     "shell.execute_reply": "2025-10-01T14:08:23.605620Z"
    },
    "papermill": {
     "duration": 0.019331,
     "end_time": "2025-10-01T14:08:23.607621",
     "exception": false,
     "start_time": "2025-10-01T14:08:23.588290",
     "status": "completed"
    },
    "tags": []
   },
   "outputs": [],
   "source": [
    "transactions.dtypes"
   ]
  },
  {
   "cell_type": "code",
   "execution_count": null,
   "id": "05f8b96c",
   "metadata": {
    "execution": {
     "iopub.execute_input": "2025-10-01T14:08:23.696418Z",
     "iopub.status.busy": "2025-10-01T14:08:23.696145Z",
     "iopub.status.idle": "2025-10-01T14:08:23.712157Z",
     "shell.execute_reply": "2025-10-01T14:08:23.711410Z"
    },
    "papermill": {
     "duration": 0.028888,
     "end_time": "2025-10-01T14:08:23.713367",
     "exception": false,
     "start_time": "2025-10-01T14:08:23.684479",
     "status": "completed"
    },
    "tags": []
   },
   "outputs": [],
   "source": [
    "transactions.head()"
   ]
  },
  {
   "cell_type": "markdown",
   "id": "95387cd4",
   "metadata": {
    "papermill": {
     "duration": 0.010587,
     "end_time": "2025-10-01T14:08:23.734863",
     "exception": false,
     "start_time": "2025-10-01T14:08:23.724276",
     "status": "completed"
    },
    "tags": []
   },
   "source": [
    "### Data Exploration"
   ]
  },
  {
   "cell_type": "markdown",
   "id": "b5ffbef3",
   "metadata": {
    "papermill": {
     "duration": 0.010719,
     "end_time": "2025-10-01T14:08:23.756250",
     "exception": false,
     "start_time": "2025-10-01T14:08:23.745531",
     "status": "completed"
    },
    "tags": []
   },
   "source": [
    "#### Null Values"
   ]
  },
  {
   "cell_type": "code",
   "execution_count": null,
   "id": "d5faae73",
   "metadata": {
    "execution": {
     "iopub.execute_input": "2025-10-01T14:08:23.778850Z",
     "iopub.status.busy": "2025-10-01T14:08:23.778574Z",
     "iopub.status.idle": "2025-10-01T14:08:23.786487Z",
     "shell.execute_reply": "2025-10-01T14:08:23.785727Z"
    },
    "papermill": {
     "duration": 0.020846,
     "end_time": "2025-10-01T14:08:23.787840",
     "exception": false,
     "start_time": "2025-10-01T14:08:23.766994",
     "status": "completed"
    },
    "tags": []
   },
   "outputs": [],
   "source": [
    "# total de filas con user_id faltante\n",
    "transactions[\"user_id\"].isna().sum()"
   ]
  },
  {
   "cell_type": "code",
   "execution_count": null,
   "id": "464d72cf",
   "metadata": {
    "execution": {
     "iopub.execute_input": "2025-10-01T14:08:23.811144Z",
     "iopub.status.busy": "2025-10-01T14:08:23.810607Z",
     "iopub.status.idle": "2025-10-01T14:08:23.818398Z",
     "shell.execute_reply": "2025-10-01T14:08:23.817359Z"
    },
    "papermill": {
     "duration": 0.020832,
     "end_time": "2025-10-01T14:08:23.819791",
     "exception": false,
     "start_time": "2025-10-01T14:08:23.798959",
     "status": "completed"
    },
    "tags": []
   },
   "outputs": [],
   "source": [
    "# porcentaje faltante de usuarios\n",
    "faltan = transactions[\"user_id\"].isna().mean() * 100\n",
    "print(f\"{faltan:.2f}%\")"
   ]
  },
  {
   "cell_type": "markdown",
   "id": "92b84bef",
   "metadata": {
    "papermill": {
     "duration": 0.010699,
     "end_time": "2025-10-01T14:08:23.841972",
     "exception": false,
     "start_time": "2025-10-01T14:08:23.831273",
     "status": "completed"
    },
    "tags": []
   },
   "source": [
    "## 2024 and 2025 Transactions Items"
   ]
  },
  {
   "cell_type": "code",
   "execution_count": 608,
   "id": "76c76c4c",
   "metadata": {
    "execution": {
     "iopub.execute_input": "2025-10-01T14:08:23.865738Z",
     "iopub.status.busy": "2025-10-01T14:08:23.864754Z",
     "iopub.status.idle": "2025-10-01T14:08:30.387112Z",
     "shell.execute_reply": "2025-10-01T14:08:30.386062Z"
    },
    "papermill": {
     "duration": 6.535884,
     "end_time": "2025-10-01T14:08:30.388733",
     "exception": false,
     "start_time": "2025-10-01T14:08:23.852849",
     "status": "completed"
    },
    "tags": []
   },
   "outputs": [],
   "source": [
    "transactions_items_202401 = pd.read_csv('../client/data/transaction_items/transaction_items_202401.csv', low_memory=False)\n",
    "transactions_items_202402 = pd.DataFrame() #pd.read_csv('../client/data/transaction_items/transaction_items_202402.csv', low_memory=False)\n",
    "transactions_items_202403 = pd.DataFrame() #pd.read_csv('../client/data/transaction_items/transaction_items_202403.csv', low_memory=False)\n",
    "transactions_items_202404 = pd.DataFrame() #pd.read_csv('../client/data/transaction_items/transaction_items_202404.csv', low_memory=False)\n",
    "transactions_items_202405 = pd.DataFrame() #pd.read_csv('../client/data/transaction_items/transaction_items_202405.csv', low_memory=False)\n",
    "transactions_items_202406 = pd.DataFrame() #pd.read_csv('../client/data/transaction_items/transaction_items_202406.csv', low_memory=False)\n",
    "transactions_items_202407 = pd.DataFrame() #pd.read_csv('../client/data/transaction_items/transaction_items_202407.csv', low_memory=False)\n",
    "transactions_items_202408 = pd.DataFrame() #pd.read_csv('../client/data/transaction_items/transaction_items_202408.csv', low_memory=False)\n",
    "transactions_items_202409 = pd.DataFrame() #pd.read_csv('../client/data/transaction_items/transaction_items_202409.csv', low_memory=False)\n",
    "transactions_items_202410 = pd.DataFrame() #pd.read_csv('../client/data/transaction_items/transaction_items_202410.csv', low_memory=False)\n",
    "transactions_items_202411 = pd.DataFrame() #pd.read_csv('../client/data/transaction_items/transaction_items_202411.csv', low_memory=False)\n",
    "transactions_items_202412 = pd.DataFrame() #pd.read_csv('../client/data/transaction_items/transaction_items_202412.csv', low_memory=False)\n",
    "\n",
    "transactions_items_202501 = pd.read_csv('../client/data/transaction_items/transaction_items_202501.csv', low_memory=False)\n",
    "transactions_items_202502 = pd.DataFrame() #pd.read_csv('../client/data/transaction_items/transaction_items_202502.csv', low_memory=False)\n",
    "transactions_items_202503 = pd.DataFrame() #pd.read_csv('../client/data/transaction_items/transaction_items_202503.csv', low_memory=False)\n",
    "transactions_items_202504 = pd.DataFrame() #pd.read_csv('../client/data/transaction_items/transaction_items_202504.csv', low_memory=False)\n",
    "transactions_items_202505 = pd.DataFrame() #pd.read_csv('../client/data/transaction_items/transaction_items_202505.csv', low_memory=False)\n",
    "transactions_items_202506 = pd.DataFrame() #pd.read_csv('../client/data/transaction_items/transaction_items_202506.csv', low_memory=False)"
   ]
  },
  {
   "cell_type": "code",
   "execution_count": 609,
   "id": "0e44a0ac",
   "metadata": {
    "execution": {
     "iopub.execute_input": "2025-10-01T14:08:30.412449Z",
     "iopub.status.busy": "2025-10-01T14:08:30.412132Z",
     "iopub.status.idle": "2025-10-01T14:08:30.417436Z",
     "shell.execute_reply": "2025-10-01T14:08:30.416401Z"
    },
    "papermill": {
     "duration": 0.018697,
     "end_time": "2025-10-01T14:08:30.418770",
     "exception": false,
     "start_time": "2025-10-01T14:08:30.400073",
     "status": "completed"
    },
    "tags": []
   },
   "outputs": [],
   "source": [
    "dfs3 = [transactions_items_202401, \n",
    "       transactions_items_202402, \n",
    "       transactions_items_202403, \n",
    "       transactions_items_202404, \n",
    "       transactions_items_202405, \n",
    "       transactions_items_202406, \n",
    "       transactions_items_202407, \n",
    "       transactions_items_202408, \n",
    "       transactions_items_202409, \n",
    "       transactions_items_202410, \n",
    "       transactions_items_202411, \n",
    "       transactions_items_202412]\n",
    "\n",
    "transactions_items_2024 = pd.concat(dfs3, ignore_index=True)"
   ]
  },
  {
   "cell_type": "code",
   "execution_count": 610,
   "id": "73542079",
   "metadata": {
    "execution": {
     "iopub.execute_input": "2025-10-01T14:08:30.442885Z",
     "iopub.status.busy": "2025-10-01T14:08:30.442126Z",
     "iopub.status.idle": "2025-10-01T14:08:30.447192Z",
     "shell.execute_reply": "2025-10-01T14:08:30.446379Z"
    },
    "papermill": {
     "duration": 0.018515,
     "end_time": "2025-10-01T14:08:30.448583",
     "exception": false,
     "start_time": "2025-10-01T14:08:30.430068",
     "status": "completed"
    },
    "tags": []
   },
   "outputs": [],
   "source": [
    "dfs4 = [transactions_items_202501, \n",
    "        transactions_items_202502,\n",
    "        transactions_items_202503,\n",
    "        transactions_items_202504,\n",
    "        transactions_items_202505,\n",
    "        transactions_items_202506\n",
    "        ]\n",
    "\n",
    "transactions_items_2025 = pd.concat(dfs4, ignore_index=True)"
   ]
  },
  {
   "cell_type": "code",
   "execution_count": null,
   "id": "16928f88",
   "metadata": {
    "execution": {
     "iopub.execute_input": "2025-10-01T14:08:30.472210Z",
     "iopub.status.busy": "2025-10-01T14:08:30.471857Z",
     "iopub.status.idle": "2025-10-01T14:08:30.477282Z",
     "shell.execute_reply": "2025-10-01T14:08:30.476499Z"
    },
    "papermill": {
     "duration": 0.018625,
     "end_time": "2025-10-01T14:08:30.478684",
     "exception": false,
     "start_time": "2025-10-01T14:08:30.460059",
     "status": "completed"
    },
    "tags": []
   },
   "outputs": [],
   "source": [
    "transactions_items_2024.shape"
   ]
  },
  {
   "cell_type": "code",
   "execution_count": null,
   "id": "8e447779",
   "metadata": {
    "execution": {
     "iopub.execute_input": "2025-10-01T14:08:30.502281Z",
     "iopub.status.busy": "2025-10-01T14:08:30.501907Z",
     "iopub.status.idle": "2025-10-01T14:08:30.507463Z",
     "shell.execute_reply": "2025-10-01T14:08:30.506586Z"
    },
    "papermill": {
     "duration": 0.018998,
     "end_time": "2025-10-01T14:08:30.508851",
     "exception": false,
     "start_time": "2025-10-01T14:08:30.489853",
     "status": "completed"
    },
    "tags": []
   },
   "outputs": [],
   "source": [
    "transactions_items_2025.shape"
   ]
  },
  {
   "cell_type": "code",
   "execution_count": null,
   "id": "dc74edc2",
   "metadata": {
    "execution": {
     "iopub.execute_input": "2025-10-01T14:08:30.533410Z",
     "iopub.status.busy": "2025-10-01T14:08:30.533080Z",
     "iopub.status.idle": "2025-10-01T14:08:30.543849Z",
     "shell.execute_reply": "2025-10-01T14:08:30.542909Z"
    },
    "papermill": {
     "duration": 0.024688,
     "end_time": "2025-10-01T14:08:30.545351",
     "exception": false,
     "start_time": "2025-10-01T14:08:30.520663",
     "status": "completed"
    },
    "tags": []
   },
   "outputs": [],
   "source": [
    "transactions_items_2024.head()"
   ]
  },
  {
   "cell_type": "code",
   "execution_count": null,
   "id": "f19b8e87",
   "metadata": {
    "execution": {
     "iopub.execute_input": "2025-10-01T14:08:30.569709Z",
     "iopub.status.busy": "2025-10-01T14:08:30.569409Z",
     "iopub.status.idle": "2025-10-01T14:08:30.580576Z",
     "shell.execute_reply": "2025-10-01T14:08:30.579658Z"
    },
    "papermill": {
     "duration": 0.025088,
     "end_time": "2025-10-01T14:08:30.582066",
     "exception": false,
     "start_time": "2025-10-01T14:08:30.556978",
     "status": "completed"
    },
    "tags": []
   },
   "outputs": [],
   "source": [
    "transactions_items_2025.head()"
   ]
  },
  {
   "cell_type": "markdown",
   "id": "f6e174c0",
   "metadata": {
    "papermill": {
     "duration": 0.011042,
     "end_time": "2025-10-01T14:08:30.604663",
     "exception": false,
     "start_time": "2025-10-01T14:08:30.593621",
     "status": "completed"
    },
    "tags": []
   },
   "source": [
    "### Data Cast"
   ]
  },
  {
   "cell_type": "code",
   "execution_count": 615,
   "id": "12ef4d69",
   "metadata": {
    "execution": {
     "iopub.execute_input": "2025-10-01T14:08:30.628854Z",
     "iopub.status.busy": "2025-10-01T14:08:30.628569Z",
     "iopub.status.idle": "2025-10-01T14:08:31.529425Z",
     "shell.execute_reply": "2025-10-01T14:08:31.528357Z"
    },
    "papermill": {
     "duration": 0.915195,
     "end_time": "2025-10-01T14:08:31.531294",
     "exception": false,
     "start_time": "2025-10-01T14:08:30.616099",
     "status": "completed"
    },
    "tags": []
   },
   "outputs": [],
   "source": [
    "# 1) IDs y textos\n",
    "transactions_items_2024[\"transaction_id\"] = transactions_items_2024[\"transaction_id\"].astype(\"string\").str.strip()\n",
    "\n",
    "# 2) Numéricos\n",
    "transactions_items_2024[\"item_id\"] = pd.to_numeric(transactions_items_2024[\"item_id\"], errors=\"coerce\").astype(\"Int64\")\n",
    "transactions_items_2024[\"quantity\"] = pd.to_numeric(transactions_items_2024[\"quantity\"], errors=\"coerce\").astype(\"Int64\")\n",
    "\n",
    "transactions_items_2024[\"unit_price\"] = pd.to_numeric(transactions_items_2024[\"unit_price\"], errors=\"coerce\").astype(\"float64\")\n",
    "transactions_items_2024[\"subtotal\"]    = pd.to_numeric(transactions_items_2024[\"subtotal\"],    errors=\"coerce\").astype(\"float64\")\n",
    "\n",
    "# 3) Fecha/Hora\n",
    "transactions_items_2024[\"created_at\"] = pd.to_datetime(transactions_items_2024[\"created_at\"], errors=\"coerce\")"
   ]
  },
  {
   "cell_type": "code",
   "execution_count": null,
   "id": "5058166f",
   "metadata": {
    "execution": {
     "iopub.execute_input": "2025-10-01T14:08:31.556450Z",
     "iopub.status.busy": "2025-10-01T14:08:31.555418Z",
     "iopub.status.idle": "2025-10-01T14:08:31.562085Z",
     "shell.execute_reply": "2025-10-01T14:08:31.561370Z"
    },
    "papermill": {
     "duration": 0.020777,
     "end_time": "2025-10-01T14:08:31.563645",
     "exception": false,
     "start_time": "2025-10-01T14:08:31.542868",
     "status": "completed"
    },
    "tags": []
   },
   "outputs": [],
   "source": [
    "transactions_items_2024.dtypes"
   ]
  },
  {
   "cell_type": "code",
   "execution_count": null,
   "id": "149b20a3",
   "metadata": {
    "execution": {
     "iopub.execute_input": "2025-10-01T14:08:31.589543Z",
     "iopub.status.busy": "2025-10-01T14:08:31.589263Z",
     "iopub.status.idle": "2025-10-01T14:08:31.600945Z",
     "shell.execute_reply": "2025-10-01T14:08:31.599838Z"
    },
    "papermill": {
     "duration": 0.026576,
     "end_time": "2025-10-01T14:08:31.602531",
     "exception": false,
     "start_time": "2025-10-01T14:08:31.575955",
     "status": "completed"
    },
    "tags": []
   },
   "outputs": [],
   "source": [
    "transactions_items_2024.head()"
   ]
  },
  {
   "cell_type": "code",
   "execution_count": 618,
   "id": "629e439f",
   "metadata": {
    "execution": {
     "iopub.execute_input": "2025-10-01T14:08:31.628520Z",
     "iopub.status.busy": "2025-10-01T14:08:31.627695Z",
     "iopub.status.idle": "2025-10-01T14:08:32.561271Z",
     "shell.execute_reply": "2025-10-01T14:08:32.560255Z"
    },
    "papermill": {
     "duration": 0.948207,
     "end_time": "2025-10-01T14:08:32.563437",
     "exception": false,
     "start_time": "2025-10-01T14:08:31.615230",
     "status": "completed"
    },
    "tags": []
   },
   "outputs": [],
   "source": [
    "# 1) IDs y textos\n",
    "transactions_items_2025[\"transaction_id\"] = transactions_items_2025[\"transaction_id\"].astype(\"string\").str.strip()\n",
    "\n",
    "# 2) Numéricos\n",
    "transactions_items_2025[\"item_id\"] = pd.to_numeric(transactions_items_2025[\"item_id\"], errors=\"coerce\").astype(\"Int64\")\n",
    "transactions_items_2025[\"quantity\"] = pd.to_numeric(transactions_items_2025[\"quantity\"], errors=\"coerce\").astype(\"Int64\")\n",
    "\n",
    "transactions_items_2025[\"unit_price\"] = pd.to_numeric(transactions_items_2025[\"unit_price\"], errors=\"coerce\").astype(\"float64\")\n",
    "transactions_items_2025[\"subtotal\"]    = pd.to_numeric(transactions_items_2025[\"subtotal\"],    errors=\"coerce\").astype(\"float64\")\n",
    "\n",
    "# 3) Fecha/Hora\n",
    "transactions_items_2025[\"created_at\"] = pd.to_datetime(transactions_items_2025[\"created_at\"], errors=\"coerce\")"
   ]
  },
  {
   "cell_type": "code",
   "execution_count": null,
   "id": "48b04e19",
   "metadata": {
    "execution": {
     "iopub.execute_input": "2025-10-01T14:08:32.588417Z",
     "iopub.status.busy": "2025-10-01T14:08:32.588115Z",
     "iopub.status.idle": "2025-10-01T14:08:32.594843Z",
     "shell.execute_reply": "2025-10-01T14:08:32.593999Z"
    },
    "papermill": {
     "duration": 0.020772,
     "end_time": "2025-10-01T14:08:32.596274",
     "exception": false,
     "start_time": "2025-10-01T14:08:32.575502",
     "status": "completed"
    },
    "tags": []
   },
   "outputs": [],
   "source": [
    "transactions_items_2025.dtypes"
   ]
  },
  {
   "cell_type": "code",
   "execution_count": null,
   "id": "28d6cedd",
   "metadata": {
    "execution": {
     "iopub.execute_input": "2025-10-01T14:08:32.621440Z",
     "iopub.status.busy": "2025-10-01T14:08:32.620919Z",
     "iopub.status.idle": "2025-10-01T14:08:32.633572Z",
     "shell.execute_reply": "2025-10-01T14:08:32.632775Z"
    },
    "papermill": {
     "duration": 0.02638,
     "end_time": "2025-10-01T14:08:32.634820",
     "exception": false,
     "start_time": "2025-10-01T14:08:32.608440",
     "status": "completed"
    },
    "tags": []
   },
   "outputs": [],
   "source": [
    "transactions_items_2025.head()"
   ]
  },
  {
   "cell_type": "markdown",
   "id": "83532f0e",
   "metadata": {
    "papermill": {
     "duration": 0.012017,
     "end_time": "2025-10-01T14:08:32.659313",
     "exception": false,
     "start_time": "2025-10-01T14:08:32.647296",
     "status": "completed"
    },
    "tags": []
   },
   "source": [
    "## Users"
   ]
  },
  {
   "cell_type": "code",
   "execution_count": null,
   "id": "bc0e693e",
   "metadata": {
    "execution": {
     "iopub.execute_input": "2025-10-01T14:08:32.685596Z",
     "iopub.status.busy": "2025-10-01T14:08:32.685327Z",
     "iopub.status.idle": "2025-10-01T14:08:32.702531Z",
     "shell.execute_reply": "2025-10-01T14:08:32.701513Z"
    },
    "papermill": {
     "duration": 0.031744,
     "end_time": "2025-10-01T14:08:32.704043",
     "exception": false,
     "start_time": "2025-10-01T14:08:32.672299",
     "status": "completed"
    },
    "tags": []
   },
   "outputs": [],
   "source": [
    "# columnas a DESCARTAR (0-based)\n",
    "drop_idx = {1}\n",
    "# obtenemos cantidad de columnas leyendo solo el header\n",
    "sample = pd.read_csv('../client/data/users/users_202307.csv', nrows=0)\n",
    "keep_idx = [i for i in range(sample.shape[1]) if i not in drop_idx]\n",
    "sample"
   ]
  },
  {
   "cell_type": "code",
   "execution_count": 622,
   "id": "da2be22e",
   "metadata": {
    "execution": {
     "iopub.execute_input": "2025-10-01T14:08:32.730366Z",
     "iopub.status.busy": "2025-10-01T14:08:32.729450Z",
     "iopub.status.idle": "2025-10-01T14:08:36.408083Z",
     "shell.execute_reply": "2025-10-01T14:08:36.407059Z"
    },
    "papermill": {
     "duration": 3.693545,
     "end_time": "2025-10-01T14:08:36.409801",
     "exception": false,
     "start_time": "2025-10-01T14:08:32.716256",
     "status": "completed"
    },
    "tags": []
   },
   "outputs": [],
   "source": [
    "users_202307 = pd.read_csv('../client/data/users/users_202307.csv', usecols=keep_idx, low_memory=False)\n",
    "users_202308 = pd.read_csv('../client/data/users/users_202308.csv', usecols=keep_idx, low_memory=False)\n",
    "users_202309 = pd.read_csv('../client/data/users/users_202309.csv', usecols=keep_idx, low_memory=False)\n",
    "users_202310 = pd.read_csv('../client/data/users/users_202310.csv', usecols=keep_idx, low_memory=False)\n",
    "users_202311 = pd.read_csv('../client/data/users/users_202311.csv', usecols=keep_idx, low_memory=False)\n",
    "users_202312 = pd.read_csv('../client/data/users/users_202312.csv', usecols=keep_idx, low_memory=False)\n",
    "\n",
    "users_202401 = pd.read_csv('../client/data/users/users_202401.csv', usecols=keep_idx, low_memory=False)\n",
    "users_202402 = pd.read_csv('../client/data/users/users_202402.csv', usecols=keep_idx, low_memory=False)\n",
    "users_202403 = pd.read_csv('../client/data/users/users_202403.csv', usecols=keep_idx, low_memory=False)\n",
    "users_202404 = pd.read_csv('../client/data/users/users_202404.csv', usecols=keep_idx, low_memory=False)\n",
    "users_202405 = pd.read_csv('../client/data/users/users_202405.csv', usecols=keep_idx, low_memory=False)\n",
    "users_202406 = pd.read_csv('../client/data/users/users_202406.csv', usecols=keep_idx, low_memory=False)\n",
    "users_202407 = pd.read_csv('../client/data/users/users_202407.csv', usecols=keep_idx, low_memory=False)\n",
    "users_202408 = pd.read_csv('../client/data/users/users_202408.csv', usecols=keep_idx, low_memory=False)\n",
    "users_202409 = pd.read_csv('../client/data/users/users_202409.csv', usecols=keep_idx, low_memory=False)\n",
    "users_202410 = pd.read_csv('../client/data/users/users_202410.csv', usecols=keep_idx, low_memory=False)\n",
    "users_202411 = pd.read_csv('../client/data/users/users_202411.csv', usecols=keep_idx, low_memory=False)\n",
    "users_202412 = pd.read_csv('../client/data/users/users_202412.csv', usecols=keep_idx, low_memory=False)\n",
    "\n",
    "users_202501 = pd.read_csv('../client/data/users/users_202501.csv', usecols=keep_idx, low_memory=False)\n",
    "users_202502 = pd.read_csv('../client/data/users/users_202502.csv', usecols=keep_idx, low_memory=False)\n",
    "users_202503 = pd.read_csv('../client/data/users/users_202503.csv', usecols=keep_idx, low_memory=False)\n",
    "users_202504 = pd.read_csv('../client/data/users/users_202504.csv', usecols=keep_idx, low_memory=False)\n",
    "users_202505 = pd.read_csv('../client/data/users/users_202505.csv', usecols=keep_idx, low_memory=False)\n",
    "users_202506 = pd.read_csv('../client/data/users/users_202506.csv', usecols=keep_idx, low_memory=False)\n"
   ]
  },
  {
   "cell_type": "code",
   "execution_count": 623,
   "id": "6da31f1e",
   "metadata": {
    "execution": {
     "iopub.execute_input": "2025-10-01T14:08:36.436241Z",
     "iopub.status.busy": "2025-10-01T14:08:36.435487Z",
     "iopub.status.idle": "2025-10-01T14:08:36.546452Z",
     "shell.execute_reply": "2025-10-01T14:08:36.545340Z"
    },
    "papermill": {
     "duration": 0.125664,
     "end_time": "2025-10-01T14:08:36.548279",
     "exception": false,
     "start_time": "2025-10-01T14:08:36.422615",
     "status": "completed"
    },
    "tags": []
   },
   "outputs": [],
   "source": [
    "dfs5 = [users_202307,\n",
    "        users_202308,\n",
    "        users_202309,\n",
    "        users_202310,\n",
    "        users_202311,\n",
    "        users_202312,\n",
    "        \n",
    "        users_202401,\n",
    "        users_202402,\n",
    "        users_202403,\n",
    "        users_202404,\n",
    "        users_202405,\n",
    "        users_202406,\n",
    "        users_202407,\n",
    "        users_202408,\n",
    "        users_202409,\n",
    "        users_202410,\n",
    "        users_202411,\n",
    "        users_202412,\n",
    "        \n",
    "        users_202501,\n",
    "        users_202502,\n",
    "        users_202503,\n",
    "        users_202504,\n",
    "        users_202505,\n",
    "        users_202506]\n",
    "\n",
    "users = pd.concat(dfs5, ignore_index=True)"
   ]
  },
  {
   "cell_type": "code",
   "execution_count": null,
   "id": "fb966fd8",
   "metadata": {
    "execution": {
     "iopub.execute_input": "2025-10-01T14:08:36.573182Z",
     "iopub.status.busy": "2025-10-01T14:08:36.572860Z",
     "iopub.status.idle": "2025-10-01T14:08:36.577983Z",
     "shell.execute_reply": "2025-10-01T14:08:36.577294Z"
    },
    "papermill": {
     "duration": 0.018902,
     "end_time": "2025-10-01T14:08:36.579214",
     "exception": false,
     "start_time": "2025-10-01T14:08:36.560312",
     "status": "completed"
    },
    "tags": []
   },
   "outputs": [],
   "source": [
    "users.shape"
   ]
  },
  {
   "cell_type": "code",
   "execution_count": null,
   "id": "c340bee9",
   "metadata": {
    "execution": {
     "iopub.execute_input": "2025-10-01T14:08:36.604668Z",
     "iopub.status.busy": "2025-10-01T14:08:36.604377Z",
     "iopub.status.idle": "2025-10-01T14:08:36.612824Z",
     "shell.execute_reply": "2025-10-01T14:08:36.612115Z"
    },
    "papermill": {
     "duration": 0.023019,
     "end_time": "2025-10-01T14:08:36.614272",
     "exception": false,
     "start_time": "2025-10-01T14:08:36.591253",
     "status": "completed"
    },
    "tags": []
   },
   "outputs": [],
   "source": [
    "users.head()"
   ]
  },
  {
   "cell_type": "markdown",
   "id": "56a7b361",
   "metadata": {
    "papermill": {
     "duration": 0.0124,
     "end_time": "2025-10-01T14:08:36.639074",
     "exception": false,
     "start_time": "2025-10-01T14:08:36.626674",
     "status": "completed"
    },
    "tags": []
   },
   "source": [
    "### Data Cast"
   ]
  },
  {
   "cell_type": "code",
   "execution_count": 626,
   "id": "38aa1800",
   "metadata": {
    "execution": {
     "iopub.execute_input": "2025-10-01T14:08:36.665799Z",
     "iopub.status.busy": "2025-10-01T14:08:36.664830Z",
     "iopub.status.idle": "2025-10-01T14:08:37.800472Z",
     "shell.execute_reply": "2025-10-01T14:08:37.799549Z"
    },
    "papermill": {
     "duration": 1.150633,
     "end_time": "2025-10-01T14:08:37.802128",
     "exception": false,
     "start_time": "2025-10-01T14:08:36.651495",
     "status": "completed"
    },
    "tags": []
   },
   "outputs": [],
   "source": [
    "# 1) user_id\n",
    "users[\"user_id\"] = pd.to_numeric(users[\"user_id\"], errors=\"coerce\").astype(\"Int64\")\n",
    "\n",
    "# 2) birthdate → fecha\n",
    "users[\"birthdate\"] = pd.to_datetime(users[\"birthdate\"], errors=\"coerce\").dt.normalize()\n",
    "\n",
    "# 3) Fecha/Hora\n",
    "users[\"registered_at\"] = pd.to_datetime(users[\"registered_at\"], errors=\"coerce\")"
   ]
  },
  {
   "cell_type": "code",
   "execution_count": null,
   "id": "5f710893",
   "metadata": {
    "execution": {
     "iopub.execute_input": "2025-10-01T14:08:37.828063Z",
     "iopub.status.busy": "2025-10-01T14:08:37.827687Z",
     "iopub.status.idle": "2025-10-01T14:08:37.834808Z",
     "shell.execute_reply": "2025-10-01T14:08:37.834094Z"
    },
    "papermill": {
     "duration": 0.021584,
     "end_time": "2025-10-01T14:08:37.836193",
     "exception": false,
     "start_time": "2025-10-01T14:08:37.814609",
     "status": "completed"
    },
    "tags": []
   },
   "outputs": [],
   "source": [
    "users.dtypes"
   ]
  },
  {
   "cell_type": "code",
   "execution_count": null,
   "id": "032aad36",
   "metadata": {
    "execution": {
     "iopub.execute_input": "2025-10-01T14:08:37.862390Z",
     "iopub.status.busy": "2025-10-01T14:08:37.862099Z",
     "iopub.status.idle": "2025-10-01T14:08:37.871563Z",
     "shell.execute_reply": "2025-10-01T14:08:37.870744Z"
    },
    "papermill": {
     "duration": 0.0243,
     "end_time": "2025-10-01T14:08:37.873082",
     "exception": false,
     "start_time": "2025-10-01T14:08:37.848782",
     "status": "completed"
    },
    "tags": []
   },
   "outputs": [],
   "source": [
    "users.head()"
   ]
  },
  {
   "cell_type": "markdown",
   "id": "1f0b6fa0",
   "metadata": {
    "papermill": {
     "duration": 0.012102,
     "end_time": "2025-10-01T14:08:37.898587",
     "exception": false,
     "start_time": "2025-10-01T14:08:37.886485",
     "status": "completed"
    },
    "tags": []
   },
   "source": [
    "## Menu Items"
   ]
  },
  {
   "cell_type": "code",
   "execution_count": null,
   "id": "360dc8c8",
   "metadata": {
    "execution": {
     "iopub.execute_input": "2025-10-01T14:08:37.925021Z",
     "iopub.status.busy": "2025-10-01T14:08:37.924700Z",
     "iopub.status.idle": "2025-10-01T14:08:37.941317Z",
     "shell.execute_reply": "2025-10-01T14:08:37.940488Z"
    },
    "papermill": {
     "duration": 0.031468,
     "end_time": "2025-10-01T14:08:37.942676",
     "exception": false,
     "start_time": "2025-10-01T14:08:37.911208",
     "status": "completed"
    },
    "tags": []
   },
   "outputs": [],
   "source": [
    "# columnas a DESCARTAR (0-based)\n",
    "drop_idx = {4, 5, 6}\n",
    "# obtenemos cantidad de columnas leyendo solo el header\n",
    "sample = pd.read_csv('../client/data/menu_items/menu_items.csv', nrows=0)\n",
    "keep_idx = [i for i in range(sample.shape[1]) if i not in drop_idx]\n",
    "sample"
   ]
  },
  {
   "cell_type": "code",
   "execution_count": 630,
   "id": "3c0f08aa",
   "metadata": {
    "execution": {
     "iopub.execute_input": "2025-10-01T14:08:37.970091Z",
     "iopub.status.busy": "2025-10-01T14:08:37.969267Z",
     "iopub.status.idle": "2025-10-01T14:08:37.975859Z",
     "shell.execute_reply": "2025-10-01T14:08:37.975076Z"
    },
    "papermill": {
     "duration": 0.021751,
     "end_time": "2025-10-01T14:08:37.977565",
     "exception": false,
     "start_time": "2025-10-01T14:08:37.955814",
     "status": "completed"
    },
    "tags": []
   },
   "outputs": [],
   "source": [
    "menu_items = pd.read_csv('../client/data/menu_items/menu_items.csv', usecols=keep_idx, low_memory=False)\n"
   ]
  },
  {
   "cell_type": "code",
   "execution_count": null,
   "id": "6b6074ef",
   "metadata": {
    "execution": {
     "iopub.execute_input": "2025-10-01T14:08:38.004599Z",
     "iopub.status.busy": "2025-10-01T14:08:38.004318Z",
     "iopub.status.idle": "2025-10-01T14:08:38.009627Z",
     "shell.execute_reply": "2025-10-01T14:08:38.008888Z"
    },
    "papermill": {
     "duration": 0.020264,
     "end_time": "2025-10-01T14:08:38.010917",
     "exception": false,
     "start_time": "2025-10-01T14:08:37.990653",
     "status": "completed"
    },
    "tags": []
   },
   "outputs": [],
   "source": [
    "menu_items.shape"
   ]
  },
  {
   "cell_type": "code",
   "execution_count": null,
   "id": "9533b3bf",
   "metadata": {
    "execution": {
     "iopub.execute_input": "2025-10-01T14:08:38.038564Z",
     "iopub.status.busy": "2025-10-01T14:08:38.037835Z",
     "iopub.status.idle": "2025-10-01T14:08:38.047195Z",
     "shell.execute_reply": "2025-10-01T14:08:38.046291Z"
    },
    "papermill": {
     "duration": 0.024591,
     "end_time": "2025-10-01T14:08:38.048572",
     "exception": false,
     "start_time": "2025-10-01T14:08:38.023981",
     "status": "completed"
    },
    "tags": []
   },
   "outputs": [],
   "source": [
    "menu_items.head(10)"
   ]
  },
  {
   "cell_type": "markdown",
   "id": "3bc3abf0",
   "metadata": {
    "papermill": {
     "duration": 0.012829,
     "end_time": "2025-10-01T14:08:38.074593",
     "exception": false,
     "start_time": "2025-10-01T14:08:38.061764",
     "status": "completed"
    },
    "tags": []
   },
   "source": [
    "### Data Cast"
   ]
  },
  {
   "cell_type": "code",
   "execution_count": 633,
   "id": "5c1c98d3",
   "metadata": {
    "execution": {
     "iopub.execute_input": "2025-10-01T14:08:38.101573Z",
     "iopub.status.busy": "2025-10-01T14:08:38.101301Z",
     "iopub.status.idle": "2025-10-01T14:08:38.108724Z",
     "shell.execute_reply": "2025-10-01T14:08:38.107978Z"
    },
    "papermill": {
     "duration": 0.022778,
     "end_time": "2025-10-01T14:08:38.110120",
     "exception": false,
     "start_time": "2025-10-01T14:08:38.087342",
     "status": "completed"
    },
    "tags": []
   },
   "outputs": [],
   "source": [
    "# 1) Textos\n",
    "menu_items[\"item_name\"] = menu_items[\"item_name\"].astype(\"string\").str.strip()\n",
    "menu_items[\"category\"] = menu_items[\"category\"].astype(\"string\").str.strip()\n",
    "\n",
    "# 2) Numéricos\n",
    "menu_items[\"item_id\"] = pd.to_numeric(menu_items[\"item_id\"], errors=\"coerce\").astype(\"Int64\")\n",
    "\n",
    "menu_items[\"price\"] = pd.to_numeric(menu_items[\"price\"], errors=\"coerce\").astype(\"float64\")"
   ]
  },
  {
   "cell_type": "code",
   "execution_count": null,
   "id": "b8e8cb32",
   "metadata": {
    "execution": {
     "iopub.execute_input": "2025-10-01T14:08:38.137202Z",
     "iopub.status.busy": "2025-10-01T14:08:38.136853Z",
     "iopub.status.idle": "2025-10-01T14:08:38.143246Z",
     "shell.execute_reply": "2025-10-01T14:08:38.142476Z"
    },
    "papermill": {
     "duration": 0.021444,
     "end_time": "2025-10-01T14:08:38.144518",
     "exception": false,
     "start_time": "2025-10-01T14:08:38.123074",
     "status": "completed"
    },
    "tags": []
   },
   "outputs": [],
   "source": [
    "menu_items.dtypes"
   ]
  },
  {
   "cell_type": "code",
   "execution_count": null,
   "id": "1367ca87",
   "metadata": {
    "execution": {
     "iopub.execute_input": "2025-10-01T14:08:38.171475Z",
     "iopub.status.busy": "2025-10-01T14:08:38.170951Z",
     "iopub.status.idle": "2025-10-01T14:08:38.180808Z",
     "shell.execute_reply": "2025-10-01T14:08:38.179974Z"
    },
    "papermill": {
     "duration": 0.024729,
     "end_time": "2025-10-01T14:08:38.182169",
     "exception": false,
     "start_time": "2025-10-01T14:08:38.157440",
     "status": "completed"
    },
    "tags": []
   },
   "outputs": [],
   "source": [
    "menu_items.head(10)"
   ]
  },
  {
   "cell_type": "markdown",
   "id": "46b925f3",
   "metadata": {
    "papermill": {
     "duration": 0.01276,
     "end_time": "2025-10-01T14:08:38.208291",
     "exception": false,
     "start_time": "2025-10-01T14:08:38.195531",
     "status": "completed"
    },
    "tags": []
   },
   "source": [
    "## Stores"
   ]
  },
  {
   "cell_type": "code",
   "execution_count": null,
   "id": "7a095259",
   "metadata": {
    "execution": {
     "iopub.execute_input": "2025-10-01T14:08:38.236608Z",
     "iopub.status.busy": "2025-10-01T14:08:38.235897Z",
     "iopub.status.idle": "2025-10-01T14:08:38.254255Z",
     "shell.execute_reply": "2025-10-01T14:08:38.253296Z"
    },
    "papermill": {
     "duration": 0.034193,
     "end_time": "2025-10-01T14:08:38.255704",
     "exception": false,
     "start_time": "2025-10-01T14:08:38.221511",
     "status": "completed"
    },
    "tags": []
   },
   "outputs": [],
   "source": [
    "# columnas a DESCARTAR (0-based)\n",
    "drop_idx = {2, 3, 6, 7}\n",
    "# obtenemos cantidad de columnas leyendo solo el header\n",
    "sample = pd.read_csv('../client/data/stores/stores.csv', nrows=0)\n",
    "keep_idx = [i for i in range(sample.shape[1]) if i not in drop_idx]\n",
    "sample"
   ]
  },
  {
   "cell_type": "code",
   "execution_count": 637,
   "id": "3b9d9faa",
   "metadata": {
    "execution": {
     "iopub.execute_input": "2025-10-01T14:08:38.284128Z",
     "iopub.status.busy": "2025-10-01T14:08:38.283460Z",
     "iopub.status.idle": "2025-10-01T14:08:38.289764Z",
     "shell.execute_reply": "2025-10-01T14:08:38.288998Z"
    },
    "papermill": {
     "duration": 0.021893,
     "end_time": "2025-10-01T14:08:38.291199",
     "exception": false,
     "start_time": "2025-10-01T14:08:38.269306",
     "status": "completed"
    },
    "tags": []
   },
   "outputs": [],
   "source": [
    "stores = pd.read_csv('../client/data/stores/stores.csv', usecols=keep_idx, low_memory=False)\n"
   ]
  },
  {
   "cell_type": "code",
   "execution_count": null,
   "id": "8217f105",
   "metadata": {
    "execution": {
     "iopub.execute_input": "2025-10-01T14:08:38.320725Z",
     "iopub.status.busy": "2025-10-01T14:08:38.320021Z",
     "iopub.status.idle": "2025-10-01T14:08:38.325972Z",
     "shell.execute_reply": "2025-10-01T14:08:38.324886Z"
    },
    "papermill": {
     "duration": 0.022121,
     "end_time": "2025-10-01T14:08:38.327579",
     "exception": false,
     "start_time": "2025-10-01T14:08:38.305458",
     "status": "completed"
    },
    "tags": []
   },
   "outputs": [],
   "source": [
    "stores.shape"
   ]
  },
  {
   "cell_type": "code",
   "execution_count": null,
   "id": "1f535935",
   "metadata": {
    "execution": {
     "iopub.execute_input": "2025-10-01T14:08:38.358419Z",
     "iopub.status.busy": "2025-10-01T14:08:38.358131Z",
     "iopub.status.idle": "2025-10-01T14:08:38.367866Z",
     "shell.execute_reply": "2025-10-01T14:08:38.367021Z"
    },
    "papermill": {
     "duration": 0.025829,
     "end_time": "2025-10-01T14:08:38.369388",
     "exception": false,
     "start_time": "2025-10-01T14:08:38.343559",
     "status": "completed"
    },
    "tags": []
   },
   "outputs": [],
   "source": [
    "stores.head(15)"
   ]
  },
  {
   "cell_type": "markdown",
   "id": "e8dedaaf",
   "metadata": {
    "papermill": {
     "duration": 0.013082,
     "end_time": "2025-10-01T14:08:38.396603",
     "exception": false,
     "start_time": "2025-10-01T14:08:38.383521",
     "status": "completed"
    },
    "tags": []
   },
   "source": [
    "### Data Cast"
   ]
  },
  {
   "cell_type": "code",
   "execution_count": 640,
   "id": "13c2b249",
   "metadata": {
    "execution": {
     "iopub.execute_input": "2025-10-01T14:08:38.424810Z",
     "iopub.status.busy": "2025-10-01T14:08:38.424495Z",
     "iopub.status.idle": "2025-10-01T14:08:38.432517Z",
     "shell.execute_reply": "2025-10-01T14:08:38.431714Z"
    },
    "papermill": {
     "duration": 0.023878,
     "end_time": "2025-10-01T14:08:38.434122",
     "exception": false,
     "start_time": "2025-10-01T14:08:38.410244",
     "status": "completed"
    },
    "tags": []
   },
   "outputs": [],
   "source": [
    "# 1) Textos\n",
    "stores[\"store_name\"] = stores[\"store_name\"].astype(\"string\").str.strip()\n",
    "stores[\"city\"] = stores[\"city\"].astype(\"string\").str.strip()\n",
    "stores[\"state\"] = stores[\"state\"].astype(\"string\").str.strip()\n",
    "\n",
    "# 2) Numéricos\n",
    "stores[\"store_id\"] = pd.to_numeric(stores[\"store_id\"], errors=\"coerce\").astype(\"Int64\")"
   ]
  },
  {
   "cell_type": "code",
   "execution_count": null,
   "id": "790e35e8",
   "metadata": {
    "execution": {
     "iopub.execute_input": "2025-10-01T14:08:38.463420Z",
     "iopub.status.busy": "2025-10-01T14:08:38.462262Z",
     "iopub.status.idle": "2025-10-01T14:08:38.469090Z",
     "shell.execute_reply": "2025-10-01T14:08:38.468250Z"
    },
    "papermill": {
     "duration": 0.022709,
     "end_time": "2025-10-01T14:08:38.470547",
     "exception": false,
     "start_time": "2025-10-01T14:08:38.447838",
     "status": "completed"
    },
    "tags": []
   },
   "outputs": [],
   "source": [
    "stores.dtypes"
   ]
  },
  {
   "cell_type": "code",
   "execution_count": null,
   "id": "29787e42",
   "metadata": {
    "execution": {
     "iopub.execute_input": "2025-10-01T14:08:38.499943Z",
     "iopub.status.busy": "2025-10-01T14:08:38.499646Z",
     "iopub.status.idle": "2025-10-01T14:08:38.509455Z",
     "shell.execute_reply": "2025-10-01T14:08:38.508679Z"
    },
    "papermill": {
     "duration": 0.02632,
     "end_time": "2025-10-01T14:08:38.510814",
     "exception": false,
     "start_time": "2025-10-01T14:08:38.484494",
     "status": "completed"
    },
    "tags": []
   },
   "outputs": [],
   "source": [
    "stores.head(10)"
   ]
  },
  {
   "cell_type": "markdown",
   "id": "ae0ff76d",
   "metadata": {
    "papermill": {
     "duration": 0.013606,
     "end_time": "2025-10-01T14:08:38.538312",
     "exception": false,
     "start_time": "2025-10-01T14:08:38.524706",
     "status": "completed"
    },
    "tags": []
   },
   "source": [
    "# Queries Definitions"
   ]
  },
  {
   "cell_type": "code",
   "execution_count": 643,
   "id": "19fcba99",
   "metadata": {},
   "outputs": [],
   "source": [
    "# 3) Guardar a /kaggle/working/results (descargable)\n",
    "OUTDIR = \"data/kaggle\"\n",
    "os.makedirs(OUTDIR, exist_ok=True)\n",
    "\n",
    "# Opción A: NDJSON (compatible con tu script de comparación)\n",
    "ndjson_path = f\"{OUTDIR}/results.ndjson\""
   ]
  },
  {
   "cell_type": "code",
   "execution_count": 644,
   "id": "ac4df9dd",
   "metadata": {},
   "outputs": [],
   "source": [
    "def reset_results():\n",
    "    \"\"\"Útil si vas a re-ejecutar todo y querés empezar de cero.\"\"\"\n",
    "    if os.path.exists(ndjson_path):\n",
    "        os.remove(ndjson_path)"
   ]
  },
  {
   "cell_type": "markdown",
   "id": "50059c38",
   "metadata": {
    "papermill": {
     "duration": 0.013412,
     "end_time": "2025-10-01T14:08:38.565716",
     "exception": false,
     "start_time": "2025-10-01T14:08:38.552304",
     "status": "completed"
    },
    "tags": []
   },
   "source": [
    "1. Transactions (Id and amount) of 2024 and 2025 created between 06:00 AM and 11:00 PM with amount greater or equals to 75."
   ]
  },
  {
   "cell_type": "code",
   "execution_count": 645,
   "id": "76b1a0e2",
   "metadata": {},
   "outputs": [],
   "source": [
    "\n",
    "def append_ndjson(df):\n",
    "    \"\"\"Agrega filas de df al NDJSON global sin pisar lo anterior.\"\"\"\n",
    "    if df is None or df.empty:\n",
    "        return\n",
    "    with open(ndjson_path, \"a\", encoding=\"utf-8\") as f:\n",
    "        # pandas escribe en 'lines' (una línea por registro) al file handle abierto en 'a'\n",
    "        df.to_json(f, orient=\"records\", lines=True, force_ascii=False)"
   ]
  },
  {
   "cell_type": "code",
   "execution_count": null,
   "id": "d33ec370",
   "metadata": {
    "execution": {
     "iopub.execute_input": "2025-10-01T14:08:38.594156Z",
     "iopub.status.busy": "2025-10-01T14:08:38.593810Z",
     "iopub.status.idle": "2025-10-01T14:08:38.851259Z",
     "shell.execute_reply": "2025-10-01T14:08:38.850469Z"
    },
    "papermill": {
     "duration": 0.273527,
     "end_time": "2025-10-01T14:08:38.852821",
     "exception": false,
     "start_time": "2025-10-01T14:08:38.579294",
     "status": "completed"
    },
    "tags": []
   },
   "outputs": [],
   "source": [
    "q1_transactions_6_to_23_hours = transactions.set_index('created_at').between_time(\"6:00\",\"23:00\")\n",
    "q1_transactions_6_to_23_hours.reset_index(inplace=True) \n",
    "q1_transactions_6_to_23_hours_gt_15 = q1_transactions_6_to_23_hours[q1_transactions_6_to_23_hours[\"final_amount\"] >= 75]\n",
    "results = q1_transactions_6_to_23_hours_gt_15[[\"transaction_id\", \"final_amount\"]].sort_values(by=[\"transaction_id\"]).head(10)\n",
    "df_out = (\n",
    "    q1_transactions_6_to_23_hours_gt_15[[\"transaction_id\", \"final_amount\"]]\n",
    "    .sort_values(by=\"transaction_id\")\n",
    "    .assign(qId=\"q1\")  # para que tu comparador lo reconozca\n",
    ")[[\"qId\",\"transaction_id\",\"final_amount\"]]\n",
    "append_ndjson(df_out)\n",
    "display(results)"
   ]
  },
  {
   "cell_type": "markdown",
   "id": "e4edc1bd",
   "metadata": {
    "papermill": {
     "duration": 0.014358,
     "end_time": "2025-10-01T14:08:38.881602",
     "exception": false,
     "start_time": "2025-10-01T14:08:38.867244",
     "status": "completed"
    },
    "tags": []
   },
   "source": [
    "2. Best-selling products (name and quantity) and products that generated the biggest profits (name and profit), for each month of 2024 and 2025. "
   ]
  },
  {
   "cell_type": "code",
   "execution_count": 647,
   "id": "b00a59a7",
   "metadata": {
    "execution": {
     "iopub.execute_input": "2025-10-01T14:08:38.911192Z",
     "iopub.status.busy": "2025-10-01T14:08:38.910804Z",
     "iopub.status.idle": "2025-10-01T14:08:49.360511Z",
     "shell.execute_reply": "2025-10-01T14:08:49.359694Z"
    },
    "papermill": {
     "duration": 10.466684,
     "end_time": "2025-10-01T14:08:49.362277",
     "exception": false,
     "start_time": "2025-10-01T14:08:38.895593",
     "status": "completed"
    },
    "tags": []
   },
   "outputs": [],
   "source": [
    "transaction_items = pd.concat([transactions_items_2024, transactions_items_2025], ignore_index=True)\n",
    "transaction_items[\"year_month_created_at\"] = transaction_items[\"created_at\"].dt.strftime(\"%Y-%m\")\n",
    "transaction_items_by_year_month = transaction_items.groupby([\"year_month_created_at\", \"item_id\"])\n",
    "menu_items_names_only = menu_items[[\"item_id\", \"item_name\"]]"
   ]
  },
  {
   "cell_type": "code",
   "execution_count": null,
   "id": "8703c2c5",
   "metadata": {
    "execution": {
     "iopub.execute_input": "2025-10-01T14:08:49.393748Z",
     "iopub.status.busy": "2025-10-01T14:08:49.393034Z",
     "iopub.status.idle": "2025-10-01T14:08:49.706905Z",
     "shell.execute_reply": "2025-10-01T14:08:49.706086Z"
    },
    "papermill": {
     "duration": 0.330177,
     "end_time": "2025-10-01T14:08:49.708540",
     "exception": false,
     "start_time": "2025-10-01T14:08:49.378363",
     "status": "completed"
    },
    "tags": []
   },
   "outputs": [],
   "source": [
    "#q2_groups_with_quantity = transaction_items_by_year_month[\"transaction_id\"].nunique().reset_index(drop=False).rename(columns={\"transaction_id\":\"sellings_qty\"})\n",
    "#q2_best_selling = q2_groups_with_quantity.sort_values(by=[\"year_month_created_at\", \"sellings_qty\"], ascending=[True, False]).groupby([\"year_month_created_at\"]).head(1)\n",
    "q2_groups_with_quantity = transaction_items_by_year_month[\"quantity\"].sum().reset_index(drop= False).rename(columns={\"quantity\": \"sellings_qty\"})\n",
    "q2_best_selling = q2_groups_with_quantity.sort_values(by=[\"year_month_created_at\", \"sellings_qty\"], ascending=[True, False]).groupby([\"year_month_created_at\"]).head(1)\n",
    "\n",
    "q2_groups_with_subtotal = transaction_items_by_year_month[\"subtotal\"].sum().reset_index(drop=False).rename(columns={\"subtotal\":\"profit_sum\"})\n",
    "q2_most_profits = q2_groups_with_subtotal.sort_values(by=[\"year_month_created_at\", \"profit_sum\"], ascending=[True, False]).groupby([\"year_month_created_at\"]).head(1)\n",
    "\n",
    "q2_best_selling_with_name = pd.merge(q2_best_selling, menu_items_names_only, on=\"item_id\")\n",
    "q2_most_profits_with_name = pd.merge(q2_most_profits, menu_items_names_only, on=\"item_id\")\n",
    "df_q2_qty = (\n",
    "    q2_best_selling_with_name[[\"year_month_created_at\", \"item_name\", \"sellings_qty\"]]\n",
    "    .assign(qId=\"q2\")\n",
    "    .astype({\"sellings_qty\": \"int64\"})\n",
    "    .sort_values([\"year_month_created_at\", \"item_name\"])\n",
    ")[[\"qId\",\"year_month_created_at\",\"item_name\",\"sellings_qty\"]]\n",
    "\n",
    "df_q2_profit = (\n",
    "    q2_most_profits_with_name[[\"year_month_created_at\", \"item_name\", \"profit_sum\"]]\n",
    "    .assign(qId=\"q2\")\n",
    "    .astype({\"profit_sum\": \"float64\"})\n",
    "    .sort_values([\"year_month_created_at\", \"item_name\"])\n",
    ")[[\"qId\",\"year_month_created_at\",\"item_name\",\"profit_sum\"]]\n",
    "\n",
    "append_ndjson(df_q2_qty)\n",
    "append_ndjson(df_q2_profit)\n",
    "\n",
    "display(q2_best_selling_with_name[[\"year_month_created_at\", \"item_name\", \"sellings_qty\"]])\n",
    "display(q2_most_profits_with_name[[\"year_month_created_at\", \"item_name\", \"profit_sum\"]])"
   ]
  },
  {
   "cell_type": "markdown",
   "id": "aaa421c1",
   "metadata": {
    "papermill": {
     "duration": 0.01356,
     "end_time": "2025-10-01T14:08:49.736122",
     "exception": false,
     "start_time": "2025-10-01T14:08:49.722562",
     "status": "completed"
    },
    "tags": []
   },
   "source": [
    "3. TPV (Total Payment Value) per each semester during 2024 and 2025, per branch, created between 06:00 AM and 11:00 PM."
   ]
  },
  {
   "cell_type": "code",
   "execution_count": 649,
   "id": "5654244e",
   "metadata": {
    "execution": {
     "iopub.execute_input": "2025-10-01T14:08:49.765260Z",
     "iopub.status.busy": "2025-10-01T14:08:49.764958Z",
     "iopub.status.idle": "2025-10-01T14:08:50.636189Z",
     "shell.execute_reply": "2025-10-01T14:08:50.635356Z"
    },
    "papermill": {
     "duration": 0.887725,
     "end_time": "2025-10-01T14:08:50.637830",
     "exception": false,
     "start_time": "2025-10-01T14:08:49.750105",
     "status": "completed"
    },
    "tags": []
   },
   "outputs": [],
   "source": [
    "q3_transactions_6_to_23_hours = q1_transactions_6_to_23_hours[[\"created_at\", \"store_id\", \"final_amount\"]].copy()\n",
    "q3_transactions_6_to_23_hours.loc[q3_transactions_6_to_23_hours[\"created_at\"].dt.month <= 6, \"half_created_at\"] = \"1\"\n",
    "q3_transactions_6_to_23_hours.loc[q3_transactions_6_to_23_hours[\"created_at\"].dt.month >= 7, \"half_created_at\"] = \"2\"\n",
    "q3_transactions_6_to_23_hours[\"year_half_created_at\"] = q3_transactions_6_to_23_hours[\"created_at\"].dt.year.astype(str) + \"-H\" + q3_transactions_6_to_23_hours[\"half_created_at\"]\n",
    "q3_transactions_by_year_half = q3_transactions_6_to_23_hours.groupby([\"year_half_created_at\", \"store_id\"])\n",
    "stores_names_only = stores[[\"store_id\", \"store_name\"]]"
   ]
  },
  {
   "cell_type": "code",
   "execution_count": null,
   "id": "d7c463fe",
   "metadata": {
    "execution": {
     "iopub.execute_input": "2025-10-01T14:08:50.667739Z",
     "iopub.status.busy": "2025-10-01T14:08:50.667474Z",
     "iopub.status.idle": "2025-10-01T14:08:50.811603Z",
     "shell.execute_reply": "2025-10-01T14:08:50.810738Z"
    },
    "papermill": {
     "duration": 0.160543,
     "end_time": "2025-10-01T14:08:50.813107",
     "exception": false,
     "start_time": "2025-10-01T14:08:50.652564",
     "status": "completed"
    },
    "tags": []
   },
   "outputs": [],
   "source": [
    "q3_groups_with_tpv = q3_transactions_by_year_half[\"final_amount\"].sum().reset_index(drop=False).rename(columns={\"final_amount\":\"tpv\"})\n",
    "q3_tpv_with_name = pd.merge(q3_groups_with_tpv, stores_names_only, on=\"store_id\")\n",
    "pd.options.display.float_format = '{:.2f}'.format\n",
    "display(q3_tpv_with_name[[\"year_half_created_at\", \"store_name\", \"tpv\"]].sort_values(by=[\"year_half_created_at\", \"store_name\"]))\n",
    "pd.reset_option('display.float_format')\n",
    "\n",
    "d3_groups_with_tpv = (\n",
    "    q3_transactions_by_year_half[\"final_amount\"]\n",
    "    .sum()\n",
    "    .reset_index(drop=False)\n",
    "    .rename(columns={\"final_amount\": \"tpv\"})\n",
    ")\n",
    "q3_tpv_with_name = pd.merge(q3_groups_with_tpv, stores_names_only, on=\"store_id\")\n",
    "\n",
    "# --- dataset final para comparar y guardar ---\n",
    "df_q3 = (\n",
    "    q3_tpv_with_name\n",
    "    .rename(columns={\"year_half_created_at\": \"period\"})      # normaliza el nombre\n",
    "    [[\"period\", \"store_name\", \"tpv\"]]\n",
    "    .assign(qId=\"q3\")                                        # tag para el comparador\n",
    "    [[\"qId\", \"period\", \"store_name\", \"tpv\"]]\n",
    "    .sort_values([\"period\", \"store_name\"])\n",
    "    .astype({\"tpv\": \"float64\"})\n",
    ")\n",
    "\n",
    "# apendear al NDJSON global (NO pisa)\n",
    "append_ndjson(df_q3)"
   ]
  },
  {
   "cell_type": "markdown",
   "id": "43e0f78f",
   "metadata": {
    "papermill": {
     "duration": 0.014183,
     "end_time": "2025-10-01T14:08:50.841784",
     "exception": false,
     "start_time": "2025-10-01T14:08:50.827601",
     "status": "completed"
    },
    "tags": []
   },
   "source": [
    "4. Birthday date of the 3 customers who have made the most purchases for each branch"
   ]
  },
  {
   "cell_type": "code",
   "execution_count": 651,
   "id": "446c7ec7",
   "metadata": {
    "execution": {
     "iopub.execute_input": "2025-10-01T14:08:50.871853Z",
     "iopub.status.busy": "2025-10-01T14:08:50.871333Z",
     "iopub.status.idle": "2025-10-01T14:08:50.958172Z",
     "shell.execute_reply": "2025-10-01T14:08:50.957109Z"
    },
    "papermill": {
     "duration": 0.103744,
     "end_time": "2025-10-01T14:08:50.959873",
     "exception": false,
     "start_time": "2025-10-01T14:08:50.856129",
     "status": "completed"
    },
    "tags": []
   },
   "outputs": [],
   "source": [
    "transactions_by_store_user = transactions.dropna(subset=['user_id']).groupby([\"store_id\", \"user_id\"])\n",
    "stores_names_only = stores[[\"store_id\", \"store_name\"]]\n",
    "users_birthdates_only = users[[\"user_id\", \"birthdate\"]]"
   ]
  },
  {
   "cell_type": "code",
   "execution_count": null,
   "id": "753ae990",
   "metadata": {
    "execution": {
     "iopub.execute_input": "2025-10-01T14:08:50.990736Z",
     "iopub.status.busy": "2025-10-01T14:08:50.990409Z",
     "iopub.status.idle": "2025-10-01T14:08:51.893440Z",
     "shell.execute_reply": "2025-10-01T14:08:51.892521Z"
    },
    "papermill": {
     "duration": 0.920148,
     "end_time": "2025-10-01T14:08:51.895258",
     "exception": false,
     "start_time": "2025-10-01T14:08:50.975110",
     "status": "completed"
    },
    "tags": []
   },
   "outputs": [],
   "source": [
    "q4_groups_with_most_purchases = transactions_by_store_user[\"transaction_id\"].count().reset_index(drop=False).rename(columns={\"transaction_id\":\"purchases_qty\"})\n",
    "q4_most_purchases = q4_groups_with_most_purchases.sort_values(by=[\"store_id\", \"purchases_qty\"], ascending=[True, False]).groupby([\"store_id\"]).head(35)\n",
    "q4_most_purchases_with_store = pd.merge(q4_most_purchases, stores_names_only, on=\"store_id\")\n",
    "q4_most_purchases_with_store_and_user = pd.merge(q4_most_purchases_with_store, users_birthdates_only, on=\"user_id\")\n",
    "\n",
    "pd.set_option('display.max_rows', None)\n",
    "res = q4_most_purchases_with_store_and_user[[\"store_name\", \"birthdate\", \"purchases_qty\"]].sort_values(by=[\"store_name\", \"purchases_qty\", \"birthdate\"])\n",
    "print(res)\n",
    "\n",
    "df_q3 = (\n",
    "    res\n",
    "    .assign(qId=\"q4\")                                        # tag para el comparador\n",
    "    [[\"qId\", \"store_name\", \"birthdate\", \"purchases_qty\"]]\n",
    ")\n",
    "\n",
    "\n",
    "df_q4_top3 = df_q3.copy()\n",
    "df_q4_top3[\"birthdate\"] = (\n",
    "    pd.to_datetime(df_q4_top3[\"birthdate\"], errors=\"coerce\")\n",
    "      .dt.strftime(\"%Y-%m-%d\")\n",
    "      .fillna(\"\")   \n",
    "             \n",
    ")\n",
    "\n",
    "append_ndjson(df_q4_top3)"
   ]
  }
 ],
 "metadata": {
  "kaggle": {
   "accelerator": "none",
   "dataSources": [
    {
     "datasetId": 7907172,
     "sourceId": 12526224,
     "sourceType": "datasetVersion"
    }
   ],
   "dockerImageVersionId": 31089,
   "isGpuEnabled": false,
   "isInternetEnabled": true,
   "language": "python",
   "sourceType": "notebook"
  },
  "kernelspec": {
   "display_name": "Python 3",
   "language": "python",
   "name": "python3"
  },
  "language_info": {
   "codemirror_mode": {
    "name": "ipython",
    "version": 3
   },
   "file_extension": ".py",
   "mimetype": "text/x-python",
   "name": "python",
   "nbconvert_exporter": "python",
   "pygments_lexer": "ipython3",
   "version": "3.11.5"
  },
  "papermill": {
   "default_parameters": {},
   "duration": 42.926642,
   "end_time": "2025-10-01T14:08:52.933162",
   "environment_variables": {},
   "exception": null,
   "input_path": "__notebook__.ipynb",
   "output_path": "__notebook__.ipynb",
   "parameters": {},
   "start_time": "2025-10-01T14:08:10.006520",
   "version": "2.6.0"
  }
 },
 "nbformat": 4,
 "nbformat_minor": 5
}
